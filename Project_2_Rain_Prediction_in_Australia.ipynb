{
  "nbformat": 4,
  "nbformat_minor": 0,
  "metadata": {
    "colab": {
      "provenance": [],
      "authorship_tag": "ABX9TyMwzNznXAYz2lByx6Q1nSxp",
      "include_colab_link": true
    },
    "kernelspec": {
      "name": "python3",
      "display_name": "Python 3"
    },
    "language_info": {
      "name": "python"
    }
  },
  "cells": [
    {
      "cell_type": "markdown",
      "metadata": {
        "id": "view-in-github",
        "colab_type": "text"
      },
      "source": [
        "<a href=\"https://colab.research.google.com/github/Marrtinerz/ML-DS-Projects/blob/main/Project_2_Rain_Prediction_in_Australia.ipynb\" target=\"_parent\"><img src=\"https://colab.research.google.com/assets/colab-badge.svg\" alt=\"Open In Colab\"/></a>"
      ]
    },
    {
      "cell_type": "markdown",
      "source": [
        "<h1> Rain Prediction in Australia Using Classification Models </h1>\n",
        "\n",
        "\n",
        "## Problem Context\n",
        "The Australian government is trying to forecast the weather to aid businesses and individuals effectively plan their activities.\n",
        "## Question Statements\n",
        "1. Will it rain on a certain day?\n",
        "2. How accurate is the answer provided for **question 1**?"
      ],
      "metadata": {
        "id": "O8vWYRNxrazd"
      }
    },
    {
      "cell_type": "markdown",
      "source": [
        "<h2>Table of contents</h2>\n",
        "\n",
        "\n",
        "1. [About the data](#about_data)\n",
        "2. [Data analysis/pre-processing](#preprocessing)\n",
        "3. [Modeling](#modeling)\n",
        "4. [Evaluation](#evaluation)\n",
        "5. [Result and Insights](#results)\n",
        "6. [Conclusions](#conclusions)\n"
      ],
      "metadata": {
        "id": "9UEmZvUYrkMv"
      }
    },
    {
      "cell_type": "markdown",
      "source": [
        "<h2 id=\"about_data\">\n",
        "  About the data\n",
        "</h2>\n",
        "\n",
        "Importing the required libraries:"
      ],
      "metadata": {
        "id": "-UYiUK_9rmLZ"
      }
    },
    {
      "cell_type": "code",
      "source": [
        "import pandas as pd\n",
        "import numpy as np\n",
        "import matplotlib as mpl\n",
        "import matplotlib.pyplot as plt\n",
        "import datetime as dt\n",
        "import seaborn as sns\n",
        "from sklearn.preprocessing import StandardScaler, PolynomialFeatures\n",
        "from sklearn import preprocessing\n",
        "from sklearn.linear_model import LogisticRegression, LinearRegression\n",
        "from sklearn.tree import DecisionTreeClassifier, DecisionTreeRegressor\n",
        "from sklearn.model_selection import GridSearchCV, train_test_split\n",
        "from sklearn.metrics import r2_score, mean_squared_error, mean_absolute_error, accuracy_score, jaccard_score, f1_score, precision_score, recall_score, log_loss, confusion_matrix\n",
        "from sklearn.neighbors import KNeighborsClassifier\n",
        "from sklearn import svm\n",
        "import sklearn.metrics as metrics\n",
        "import sqlite3\n",
        "%matplotlib inline\n",
        "mpl.style.use(['ggplot'])"
      ],
      "metadata": {
        "id": "KndNPB_8EJT0"
      },
      "execution_count": null,
      "outputs": []
    },
    {
      "cell_type": "markdown",
      "source": [
        "<h3>Data source</h3>\n",
        "\n",
        "- The original source of the data is Australian Government's Bureau of Meteorology and the latest data can be gathered from [http://www.bom.gov.au/climate/dwo/](http://www.bom.gov.au/climate/dwo/?utm_medium=Exinfluencer&utm_source=Exinfluencer&utm_content=000026UJ&utm_term=10006555&utm_id=NA-SkillsNetwork-Channel-SkillsNetworkCoursesIBMDeveloperSkillsNetworkML0101ENSkillsNetwork20718538-2022-01-01).\n",
        "\n",
        "- The dataset to be used has extra columns like 'RainToday' and the target attribute is \"RainTomorrow,\" which was gathered from the Rattle at [https://bitbucket.org/kayontoga/rattle/src/master/data/weatherAUS.RData](https://bitbucket.org/kayontoga/rattle/src/master/data/weatherAUS.RData?utm_medium=Exinfluencer&utm_source=Exinfluencer&utm_content=000026UJ&utm_term=10006555&utm_id=NA-SkillsNetwork-Channel-SkillsNetworkCoursesIBMDeveloperSkillsNetworkML0101ENSkillsNetwork20718538-2022-01-01)\n",
        "\n",
        "\n",
        "- This dataset contains observations of weather metrics for each day from 2008 to 2017. It includes 22 fields and 3271 observations."
      ],
      "metadata": {
        "id": "1KgBvGVqEQNv"
      }
    },
    {
      "cell_type": "markdown",
      "source": [
        "<h3>Database Creation and Data Loading</h3>"
      ],
      "metadata": {
        "id": "QJsgYZ21Edmy"
      }
    },
    {
      "cell_type": "code",
      "source": [
        "# Establishing sqlite3 database connection and cursor objects\n",
        "conn = sqlite3.connect(\"Project_3.db\")\n",
        "cur = conn.cursor()\n",
        "\n",
        "# Loading sql magic and connecting to the Project_3.DB database\n",
        "\n",
        "%load_ext sql\n",
        "\n",
        "%sql sqlite:///Project_3.db"
      ],
      "metadata": {
        "id": "tmGyWCeMEjOd",
        "colab": {
          "base_uri": "https://localhost:8080/"
        },
        "outputId": "94c12204-b56f-47ef-862b-4ca9a7c1f336"
      },
      "execution_count": null,
      "outputs": [
        {
          "output_type": "stream",
          "name": "stdout",
          "text": [
            "The sql extension is already loaded. To reload it, use:\n",
            "  %reload_ext sql\n"
          ]
        }
      ]
    },
    {
      "cell_type": "code",
      "source": [
        "#downloading the dataset and loading to the database\n",
        "url = \"https://cf-courses-data.s3.us.cloud-object-storage.appdomain.cloud/IBMDeveloperSkillsNetwork-ML0101EN-SkillUp/labs/ML-FinalAssignment/Weather_Data.csv\"\n",
        "df = pd.read_csv(url)\n",
        "df.to_sql(\"Weather_Data\", conn, if_exists = \"replace\", index = False, method = \"multi\")"
      ],
      "metadata": {
        "id": "xmtzqCNKRaQM",
        "colab": {
          "base_uri": "https://localhost:8080/"
        },
        "outputId": "2104e00d-dd3d-46eb-ed86-744172e29037"
      },
      "execution_count": null,
      "outputs": [
        {
          "output_type": "execute_result",
          "data": {
            "text/plain": [
              "3271"
            ]
          },
          "metadata": {},
          "execution_count": 231
        }
      ]
    },
    {
      "cell_type": "code",
      "source": [
        "# retrieving the created tables from the database as a confirmation\n",
        "%sql SELECT name FROM sqlite_master where type='table';"
      ],
      "metadata": {
        "colab": {
          "base_uri": "https://localhost:8080/",
          "height": 96
        },
        "id": "3eK_va2iOVHn",
        "outputId": "cfd4f702-8979-440c-b392-d2be1e6fde6d"
      },
      "execution_count": null,
      "outputs": [
        {
          "output_type": "stream",
          "name": "stdout",
          "text": [
            " * sqlite:///Project_3.db\n",
            "Done.\n"
          ]
        },
        {
          "output_type": "execute_result",
          "data": {
            "text/plain": [
              "[('Weather_Data',)]"
            ],
            "text/html": [
              "<table>\n",
              "    <thead>\n",
              "        <tr>\n",
              "            <th>name</th>\n",
              "        </tr>\n",
              "    </thead>\n",
              "    <tbody>\n",
              "        <tr>\n",
              "            <td>Weather_Data</td>\n",
              "        </tr>\n",
              "    </tbody>\n",
              "</table>"
            ]
          },
          "metadata": {},
          "execution_count": 232
        }
      ]
    },
    {
      "cell_type": "markdown",
      "source": [
        "<h4>Querying the Database and Loading the data to Pandas</h4>"
      ],
      "metadata": {
        "id": "RN4c3xAHEwhL"
      }
    },
    {
      "cell_type": "code",
      "source": [
        "#retrieving a list of the columns from a table for reference\n",
        "\n",
        "%sql PRAGMA table_info([Weather_Data]);"
      ],
      "metadata": {
        "colab": {
          "base_uri": "https://localhost:8080/",
          "height": 545
        },
        "id": "ldb3iSvzOcRC",
        "outputId": "0ebdb6c0-5e75-441a-c0bb-8afe49e0b071"
      },
      "execution_count": null,
      "outputs": [
        {
          "output_type": "stream",
          "name": "stdout",
          "text": [
            " * sqlite:///Project_3.db\n",
            "Done.\n"
          ]
        },
        {
          "output_type": "execute_result",
          "data": {
            "text/plain": [
              "[(0, 'Date', 'TEXT', 0, None, 0),\n",
              " (1, 'MinTemp', 'REAL', 0, None, 0),\n",
              " (2, 'MaxTemp', 'REAL', 0, None, 0),\n",
              " (3, 'Rainfall', 'REAL', 0, None, 0),\n",
              " (4, 'Evaporation', 'REAL', 0, None, 0),\n",
              " (5, 'Sunshine', 'REAL', 0, None, 0),\n",
              " (6, 'WindGustDir', 'TEXT', 0, None, 0),\n",
              " (7, 'WindGustSpeed', 'INTEGER', 0, None, 0),\n",
              " (8, 'WindDir9am', 'TEXT', 0, None, 0),\n",
              " (9, 'WindDir3pm', 'TEXT', 0, None, 0),\n",
              " (10, 'WindSpeed9am', 'INTEGER', 0, None, 0),\n",
              " (11, 'WindSpeed3pm', 'INTEGER', 0, None, 0),\n",
              " (12, 'Humidity9am', 'INTEGER', 0, None, 0),\n",
              " (13, 'Humidity3pm', 'INTEGER', 0, None, 0),\n",
              " (14, 'Pressure9am', 'REAL', 0, None, 0),\n",
              " (15, 'Pressure3pm', 'REAL', 0, None, 0),\n",
              " (16, 'Cloud9am', 'INTEGER', 0, None, 0),\n",
              " (17, 'Cloud3pm', 'INTEGER', 0, None, 0),\n",
              " (18, 'Temp9am', 'REAL', 0, None, 0),\n",
              " (19, 'Temp3pm', 'REAL', 0, None, 0),\n",
              " (20, 'RainToday', 'TEXT', 0, None, 0),\n",
              " (21, 'RainTomorrow', 'TEXT', 0, None, 0)]"
            ],
            "text/html": [
              "<table>\n",
              "    <thead>\n",
              "        <tr>\n",
              "            <th>cid</th>\n",
              "            <th>name</th>\n",
              "            <th>type</th>\n",
              "            <th>notnull</th>\n",
              "            <th>dflt_value</th>\n",
              "            <th>pk</th>\n",
              "        </tr>\n",
              "    </thead>\n",
              "    <tbody>\n",
              "        <tr>\n",
              "            <td>0</td>\n",
              "            <td>Date</td>\n",
              "            <td>TEXT</td>\n",
              "            <td>0</td>\n",
              "            <td>None</td>\n",
              "            <td>0</td>\n",
              "        </tr>\n",
              "        <tr>\n",
              "            <td>1</td>\n",
              "            <td>MinTemp</td>\n",
              "            <td>REAL</td>\n",
              "            <td>0</td>\n",
              "            <td>None</td>\n",
              "            <td>0</td>\n",
              "        </tr>\n",
              "        <tr>\n",
              "            <td>2</td>\n",
              "            <td>MaxTemp</td>\n",
              "            <td>REAL</td>\n",
              "            <td>0</td>\n",
              "            <td>None</td>\n",
              "            <td>0</td>\n",
              "        </tr>\n",
              "        <tr>\n",
              "            <td>3</td>\n",
              "            <td>Rainfall</td>\n",
              "            <td>REAL</td>\n",
              "            <td>0</td>\n",
              "            <td>None</td>\n",
              "            <td>0</td>\n",
              "        </tr>\n",
              "        <tr>\n",
              "            <td>4</td>\n",
              "            <td>Evaporation</td>\n",
              "            <td>REAL</td>\n",
              "            <td>0</td>\n",
              "            <td>None</td>\n",
              "            <td>0</td>\n",
              "        </tr>\n",
              "        <tr>\n",
              "            <td>5</td>\n",
              "            <td>Sunshine</td>\n",
              "            <td>REAL</td>\n",
              "            <td>0</td>\n",
              "            <td>None</td>\n",
              "            <td>0</td>\n",
              "        </tr>\n",
              "        <tr>\n",
              "            <td>6</td>\n",
              "            <td>WindGustDir</td>\n",
              "            <td>TEXT</td>\n",
              "            <td>0</td>\n",
              "            <td>None</td>\n",
              "            <td>0</td>\n",
              "        </tr>\n",
              "        <tr>\n",
              "            <td>7</td>\n",
              "            <td>WindGustSpeed</td>\n",
              "            <td>INTEGER</td>\n",
              "            <td>0</td>\n",
              "            <td>None</td>\n",
              "            <td>0</td>\n",
              "        </tr>\n",
              "        <tr>\n",
              "            <td>8</td>\n",
              "            <td>WindDir9am</td>\n",
              "            <td>TEXT</td>\n",
              "            <td>0</td>\n",
              "            <td>None</td>\n",
              "            <td>0</td>\n",
              "        </tr>\n",
              "        <tr>\n",
              "            <td>9</td>\n",
              "            <td>WindDir3pm</td>\n",
              "            <td>TEXT</td>\n",
              "            <td>0</td>\n",
              "            <td>None</td>\n",
              "            <td>0</td>\n",
              "        </tr>\n",
              "        <tr>\n",
              "            <td>10</td>\n",
              "            <td>WindSpeed9am</td>\n",
              "            <td>INTEGER</td>\n",
              "            <td>0</td>\n",
              "            <td>None</td>\n",
              "            <td>0</td>\n",
              "        </tr>\n",
              "        <tr>\n",
              "            <td>11</td>\n",
              "            <td>WindSpeed3pm</td>\n",
              "            <td>INTEGER</td>\n",
              "            <td>0</td>\n",
              "            <td>None</td>\n",
              "            <td>0</td>\n",
              "        </tr>\n",
              "        <tr>\n",
              "            <td>12</td>\n",
              "            <td>Humidity9am</td>\n",
              "            <td>INTEGER</td>\n",
              "            <td>0</td>\n",
              "            <td>None</td>\n",
              "            <td>0</td>\n",
              "        </tr>\n",
              "        <tr>\n",
              "            <td>13</td>\n",
              "            <td>Humidity3pm</td>\n",
              "            <td>INTEGER</td>\n",
              "            <td>0</td>\n",
              "            <td>None</td>\n",
              "            <td>0</td>\n",
              "        </tr>\n",
              "        <tr>\n",
              "            <td>14</td>\n",
              "            <td>Pressure9am</td>\n",
              "            <td>REAL</td>\n",
              "            <td>0</td>\n",
              "            <td>None</td>\n",
              "            <td>0</td>\n",
              "        </tr>\n",
              "        <tr>\n",
              "            <td>15</td>\n",
              "            <td>Pressure3pm</td>\n",
              "            <td>REAL</td>\n",
              "            <td>0</td>\n",
              "            <td>None</td>\n",
              "            <td>0</td>\n",
              "        </tr>\n",
              "        <tr>\n",
              "            <td>16</td>\n",
              "            <td>Cloud9am</td>\n",
              "            <td>INTEGER</td>\n",
              "            <td>0</td>\n",
              "            <td>None</td>\n",
              "            <td>0</td>\n",
              "        </tr>\n",
              "        <tr>\n",
              "            <td>17</td>\n",
              "            <td>Cloud3pm</td>\n",
              "            <td>INTEGER</td>\n",
              "            <td>0</td>\n",
              "            <td>None</td>\n",
              "            <td>0</td>\n",
              "        </tr>\n",
              "        <tr>\n",
              "            <td>18</td>\n",
              "            <td>Temp9am</td>\n",
              "            <td>REAL</td>\n",
              "            <td>0</td>\n",
              "            <td>None</td>\n",
              "            <td>0</td>\n",
              "        </tr>\n",
              "        <tr>\n",
              "            <td>19</td>\n",
              "            <td>Temp3pm</td>\n",
              "            <td>REAL</td>\n",
              "            <td>0</td>\n",
              "            <td>None</td>\n",
              "            <td>0</td>\n",
              "        </tr>\n",
              "        <tr>\n",
              "            <td>20</td>\n",
              "            <td>RainToday</td>\n",
              "            <td>TEXT</td>\n",
              "            <td>0</td>\n",
              "            <td>None</td>\n",
              "            <td>0</td>\n",
              "        </tr>\n",
              "        <tr>\n",
              "            <td>21</td>\n",
              "            <td>RainTomorrow</td>\n",
              "            <td>TEXT</td>\n",
              "            <td>0</td>\n",
              "            <td>None</td>\n",
              "            <td>0</td>\n",
              "        </tr>\n",
              "    </tbody>\n",
              "</table>"
            ]
          },
          "metadata": {},
          "execution_count": 233
        }
      ]
    },
    {
      "cell_type": "code",
      "source": [
        "# retrieving the first 10 observations from the database\n",
        "%sql SELECT * from Weather_Data LIMIT 10;"
      ],
      "metadata": {
        "colab": {
          "base_uri": "https://localhost:8080/",
          "height": 309
        },
        "id": "yRi_gUJ7PqFU",
        "outputId": "edb11ce5-3167-4932-f104-1409d9b750b0"
      },
      "execution_count": null,
      "outputs": [
        {
          "output_type": "stream",
          "name": "stdout",
          "text": [
            " * sqlite:///Project_3.db\n",
            "Done.\n"
          ]
        },
        {
          "output_type": "execute_result",
          "data": {
            "text/plain": [
              "[('2/1/2008', 19.5, 22.4, 15.6, 6.2, 0.0, 'W', 41, 'S', 'SSW', 17, 20, 92, 84, 1017.6, 1017.4, 8, 8, 20.7, 20.9, 'Yes', 'Yes'),\n",
              " ('2/2/2008', 19.5, 25.6, 6.0, 3.4, 2.7, 'W', 41, 'W', 'E', 9, 13, 83, 73, 1017.9, 1016.4, 7, 7, 22.4, 24.8, 'Yes', 'Yes'),\n",
              " ('2/3/2008', 21.6, 24.5, 6.6, 2.4, 0.1, 'W', 41, 'ESE', 'ESE', 17, 2, 88, 86, 1016.7, 1015.6, 7, 8, 23.5, 23.0, 'Yes', 'Yes'),\n",
              " ('2/4/2008', 20.2, 22.8, 18.8, 2.2, 0.0, 'W', 41, 'NNE', 'E', 22, 20, 83, 90, 1014.2, 1011.8, 8, 8, 21.4, 20.9, 'Yes', 'Yes'),\n",
              " ('2/5/2008', 19.7, 25.7, 77.4, 4.8, 0.0, 'W', 41, 'NNE', 'W', 11, 6, 88, 74, 1008.3, 1004.8, 8, 8, 22.5, 25.5, 'Yes', 'Yes'),\n",
              " ('2/6/2008', 20.2, 27.2, 1.6, 2.6, 8.6, 'W', 41, 'W', 'ENE', 9, 22, 69, 62, 1002.7, 998.6, 6, 6, 23.8, 26.0, 'Yes', 'Yes'),\n",
              " ('2/7/2008', 18.6, 26.3, 6.2, 5.2, 5.2, 'W', 41, 'W', 'S', 15, 15, 75, 80, 999.0, 1000.3, 4, 7, 21.7, 22.3, 'Yes', 'Yes'),\n",
              " ('2/8/2008', 17.2, 22.3, 27.6, 5.8, 2.1, 'W', 41, 'S', 'SE', 7, 15, 77, 61, 1008.3, 1007.4, 7, 8, 18.9, 21.1, 'Yes', 'Yes'),\n",
              " ('2/9/2008', 16.4, 20.8, 12.6, 4.8, 3.0, 'W', 41, 'SSW', 'W', 19, 9, 92, 91, 1006.4, 1007.6, 7, 7, 17.1, 16.5, 'Yes', 'Yes'),\n",
              " ('2/10/2008', 14.6, 24.2, 8.8, 4.4, 10.1, 'W', 41, 'W', 'SSE', 11, 20, 80, 53, 1014.0, 1013.4, 4, 2, 17.2, 23.3, 'Yes', 'No')]"
            ],
            "text/html": [
              "<table>\n",
              "    <thead>\n",
              "        <tr>\n",
              "            <th>Date</th>\n",
              "            <th>MinTemp</th>\n",
              "            <th>MaxTemp</th>\n",
              "            <th>Rainfall</th>\n",
              "            <th>Evaporation</th>\n",
              "            <th>Sunshine</th>\n",
              "            <th>WindGustDir</th>\n",
              "            <th>WindGustSpeed</th>\n",
              "            <th>WindDir9am</th>\n",
              "            <th>WindDir3pm</th>\n",
              "            <th>WindSpeed9am</th>\n",
              "            <th>WindSpeed3pm</th>\n",
              "            <th>Humidity9am</th>\n",
              "            <th>Humidity3pm</th>\n",
              "            <th>Pressure9am</th>\n",
              "            <th>Pressure3pm</th>\n",
              "            <th>Cloud9am</th>\n",
              "            <th>Cloud3pm</th>\n",
              "            <th>Temp9am</th>\n",
              "            <th>Temp3pm</th>\n",
              "            <th>RainToday</th>\n",
              "            <th>RainTomorrow</th>\n",
              "        </tr>\n",
              "    </thead>\n",
              "    <tbody>\n",
              "        <tr>\n",
              "            <td>2/1/2008</td>\n",
              "            <td>19.5</td>\n",
              "            <td>22.4</td>\n",
              "            <td>15.6</td>\n",
              "            <td>6.2</td>\n",
              "            <td>0.0</td>\n",
              "            <td>W</td>\n",
              "            <td>41</td>\n",
              "            <td>S</td>\n",
              "            <td>SSW</td>\n",
              "            <td>17</td>\n",
              "            <td>20</td>\n",
              "            <td>92</td>\n",
              "            <td>84</td>\n",
              "            <td>1017.6</td>\n",
              "            <td>1017.4</td>\n",
              "            <td>8</td>\n",
              "            <td>8</td>\n",
              "            <td>20.7</td>\n",
              "            <td>20.9</td>\n",
              "            <td>Yes</td>\n",
              "            <td>Yes</td>\n",
              "        </tr>\n",
              "        <tr>\n",
              "            <td>2/2/2008</td>\n",
              "            <td>19.5</td>\n",
              "            <td>25.6</td>\n",
              "            <td>6.0</td>\n",
              "            <td>3.4</td>\n",
              "            <td>2.7</td>\n",
              "            <td>W</td>\n",
              "            <td>41</td>\n",
              "            <td>W</td>\n",
              "            <td>E</td>\n",
              "            <td>9</td>\n",
              "            <td>13</td>\n",
              "            <td>83</td>\n",
              "            <td>73</td>\n",
              "            <td>1017.9</td>\n",
              "            <td>1016.4</td>\n",
              "            <td>7</td>\n",
              "            <td>7</td>\n",
              "            <td>22.4</td>\n",
              "            <td>24.8</td>\n",
              "            <td>Yes</td>\n",
              "            <td>Yes</td>\n",
              "        </tr>\n",
              "        <tr>\n",
              "            <td>2/3/2008</td>\n",
              "            <td>21.6</td>\n",
              "            <td>24.5</td>\n",
              "            <td>6.6</td>\n",
              "            <td>2.4</td>\n",
              "            <td>0.1</td>\n",
              "            <td>W</td>\n",
              "            <td>41</td>\n",
              "            <td>ESE</td>\n",
              "            <td>ESE</td>\n",
              "            <td>17</td>\n",
              "            <td>2</td>\n",
              "            <td>88</td>\n",
              "            <td>86</td>\n",
              "            <td>1016.7</td>\n",
              "            <td>1015.6</td>\n",
              "            <td>7</td>\n",
              "            <td>8</td>\n",
              "            <td>23.5</td>\n",
              "            <td>23.0</td>\n",
              "            <td>Yes</td>\n",
              "            <td>Yes</td>\n",
              "        </tr>\n",
              "        <tr>\n",
              "            <td>2/4/2008</td>\n",
              "            <td>20.2</td>\n",
              "            <td>22.8</td>\n",
              "            <td>18.8</td>\n",
              "            <td>2.2</td>\n",
              "            <td>0.0</td>\n",
              "            <td>W</td>\n",
              "            <td>41</td>\n",
              "            <td>NNE</td>\n",
              "            <td>E</td>\n",
              "            <td>22</td>\n",
              "            <td>20</td>\n",
              "            <td>83</td>\n",
              "            <td>90</td>\n",
              "            <td>1014.2</td>\n",
              "            <td>1011.8</td>\n",
              "            <td>8</td>\n",
              "            <td>8</td>\n",
              "            <td>21.4</td>\n",
              "            <td>20.9</td>\n",
              "            <td>Yes</td>\n",
              "            <td>Yes</td>\n",
              "        </tr>\n",
              "        <tr>\n",
              "            <td>2/5/2008</td>\n",
              "            <td>19.7</td>\n",
              "            <td>25.7</td>\n",
              "            <td>77.4</td>\n",
              "            <td>4.8</td>\n",
              "            <td>0.0</td>\n",
              "            <td>W</td>\n",
              "            <td>41</td>\n",
              "            <td>NNE</td>\n",
              "            <td>W</td>\n",
              "            <td>11</td>\n",
              "            <td>6</td>\n",
              "            <td>88</td>\n",
              "            <td>74</td>\n",
              "            <td>1008.3</td>\n",
              "            <td>1004.8</td>\n",
              "            <td>8</td>\n",
              "            <td>8</td>\n",
              "            <td>22.5</td>\n",
              "            <td>25.5</td>\n",
              "            <td>Yes</td>\n",
              "            <td>Yes</td>\n",
              "        </tr>\n",
              "        <tr>\n",
              "            <td>2/6/2008</td>\n",
              "            <td>20.2</td>\n",
              "            <td>27.2</td>\n",
              "            <td>1.6</td>\n",
              "            <td>2.6</td>\n",
              "            <td>8.6</td>\n",
              "            <td>W</td>\n",
              "            <td>41</td>\n",
              "            <td>W</td>\n",
              "            <td>ENE</td>\n",
              "            <td>9</td>\n",
              "            <td>22</td>\n",
              "            <td>69</td>\n",
              "            <td>62</td>\n",
              "            <td>1002.7</td>\n",
              "            <td>998.6</td>\n",
              "            <td>6</td>\n",
              "            <td>6</td>\n",
              "            <td>23.8</td>\n",
              "            <td>26.0</td>\n",
              "            <td>Yes</td>\n",
              "            <td>Yes</td>\n",
              "        </tr>\n",
              "        <tr>\n",
              "            <td>2/7/2008</td>\n",
              "            <td>18.6</td>\n",
              "            <td>26.3</td>\n",
              "            <td>6.2</td>\n",
              "            <td>5.2</td>\n",
              "            <td>5.2</td>\n",
              "            <td>W</td>\n",
              "            <td>41</td>\n",
              "            <td>W</td>\n",
              "            <td>S</td>\n",
              "            <td>15</td>\n",
              "            <td>15</td>\n",
              "            <td>75</td>\n",
              "            <td>80</td>\n",
              "            <td>999.0</td>\n",
              "            <td>1000.3</td>\n",
              "            <td>4</td>\n",
              "            <td>7</td>\n",
              "            <td>21.7</td>\n",
              "            <td>22.3</td>\n",
              "            <td>Yes</td>\n",
              "            <td>Yes</td>\n",
              "        </tr>\n",
              "        <tr>\n",
              "            <td>2/8/2008</td>\n",
              "            <td>17.2</td>\n",
              "            <td>22.3</td>\n",
              "            <td>27.6</td>\n",
              "            <td>5.8</td>\n",
              "            <td>2.1</td>\n",
              "            <td>W</td>\n",
              "            <td>41</td>\n",
              "            <td>S</td>\n",
              "            <td>SE</td>\n",
              "            <td>7</td>\n",
              "            <td>15</td>\n",
              "            <td>77</td>\n",
              "            <td>61</td>\n",
              "            <td>1008.3</td>\n",
              "            <td>1007.4</td>\n",
              "            <td>7</td>\n",
              "            <td>8</td>\n",
              "            <td>18.9</td>\n",
              "            <td>21.1</td>\n",
              "            <td>Yes</td>\n",
              "            <td>Yes</td>\n",
              "        </tr>\n",
              "        <tr>\n",
              "            <td>2/9/2008</td>\n",
              "            <td>16.4</td>\n",
              "            <td>20.8</td>\n",
              "            <td>12.6</td>\n",
              "            <td>4.8</td>\n",
              "            <td>3.0</td>\n",
              "            <td>W</td>\n",
              "            <td>41</td>\n",
              "            <td>SSW</td>\n",
              "            <td>W</td>\n",
              "            <td>19</td>\n",
              "            <td>9</td>\n",
              "            <td>92</td>\n",
              "            <td>91</td>\n",
              "            <td>1006.4</td>\n",
              "            <td>1007.6</td>\n",
              "            <td>7</td>\n",
              "            <td>7</td>\n",
              "            <td>17.1</td>\n",
              "            <td>16.5</td>\n",
              "            <td>Yes</td>\n",
              "            <td>Yes</td>\n",
              "        </tr>\n",
              "        <tr>\n",
              "            <td>2/10/2008</td>\n",
              "            <td>14.6</td>\n",
              "            <td>24.2</td>\n",
              "            <td>8.8</td>\n",
              "            <td>4.4</td>\n",
              "            <td>10.1</td>\n",
              "            <td>W</td>\n",
              "            <td>41</td>\n",
              "            <td>W</td>\n",
              "            <td>SSE</td>\n",
              "            <td>11</td>\n",
              "            <td>20</td>\n",
              "            <td>80</td>\n",
              "            <td>53</td>\n",
              "            <td>1014.0</td>\n",
              "            <td>1013.4</td>\n",
              "            <td>4</td>\n",
              "            <td>2</td>\n",
              "            <td>17.2</td>\n",
              "            <td>23.3</td>\n",
              "            <td>Yes</td>\n",
              "            <td>No</td>\n",
              "        </tr>\n",
              "    </tbody>\n",
              "</table>"
            ]
          },
          "metadata": {},
          "execution_count": 234
        }
      ]
    },
    {
      "cell_type": "code",
      "source": [
        "# retrieving the absolute frequencies of the rainy and non-rainy days\n",
        "%sql SELECT RainToday, COUNT(RainToday) FROM Weather_Data GROUP BY RainToday;"
      ],
      "metadata": {
        "colab": {
          "base_uri": "https://localhost:8080/",
          "height": 118
        },
        "id": "Wc0-PQ35O18M",
        "outputId": "46a172ba-87b6-4c25-e2f4-1052b6f19038"
      },
      "execution_count": null,
      "outputs": [
        {
          "output_type": "stream",
          "name": "stdout",
          "text": [
            " * sqlite:///Project_3.db\n",
            "Done.\n"
          ]
        },
        {
          "output_type": "execute_result",
          "data": {
            "text/plain": [
              "[('No', 2422), ('Yes', 849)]"
            ],
            "text/html": [
              "<table>\n",
              "    <thead>\n",
              "        <tr>\n",
              "            <th>RainToday</th>\n",
              "            <th>COUNT(RainToday)</th>\n",
              "        </tr>\n",
              "    </thead>\n",
              "    <tbody>\n",
              "        <tr>\n",
              "            <td>No</td>\n",
              "            <td>2422</td>\n",
              "        </tr>\n",
              "        <tr>\n",
              "            <td>Yes</td>\n",
              "            <td>849</td>\n",
              "        </tr>\n",
              "    </tbody>\n",
              "</table>"
            ]
          },
          "metadata": {},
          "execution_count": 235
        }
      ]
    },
    {
      "cell_type": "code",
      "source": [
        "#retrieving analysis data from the database to a pandas dataframe.\n",
        "data = %sql SELECT * FROM Weather_Data;\n",
        "rain_df = pd.DataFrame(data)"
      ],
      "metadata": {
        "colab": {
          "base_uri": "https://localhost:8080/"
        },
        "id": "6ADfyKUxPdOL",
        "outputId": "570f1d93-e6e9-4abe-d35e-4d61c9c39aa7"
      },
      "execution_count": null,
      "outputs": [
        {
          "output_type": "stream",
          "name": "stdout",
          "text": [
            " * sqlite:///Project_3.db\n",
            "Done.\n"
          ]
        }
      ]
    },
    {
      "cell_type": "code",
      "source": [
        "#closing the sql connection\n",
        "\n",
        "conn.close()"
      ],
      "metadata": {
        "id": "MXl-VOVzRYDJ"
      },
      "execution_count": null,
      "outputs": []
    },
    {
      "cell_type": "markdown",
      "source": [
        "<h2 id=\"preprocessing\">\n",
        "  Data analysis/pre-processing\n",
        "</h2>"
      ],
      "metadata": {
        "id": "1H8oJFOjuW9-"
      }
    },
    {
      "cell_type": "markdown",
      "source": [
        "<h3> Exploratory Data Analysis</h3>"
      ],
      "metadata": {
        "id": "LPpDddKvE23L"
      }
    },
    {
      "cell_type": "code",
      "source": [
        "#Viewing the first 5 observations in the dataframe\n",
        "rain_df.head()"
      ],
      "metadata": {
        "colab": {
          "base_uri": "https://localhost:8080/",
          "height": 256
        },
        "id": "bDZqe-KRR0IR",
        "outputId": "52e6cfa6-fdbf-4a21-9605-da287e4c6551"
      },
      "execution_count": null,
      "outputs": [
        {
          "output_type": "execute_result",
          "data": {
            "text/plain": [
              "       Date  MinTemp  MaxTemp  Rainfall  Evaporation  Sunshine WindGustDir  \\\n",
              "0  2/1/2008     19.5     22.4      15.6          6.2       0.0           W   \n",
              "1  2/2/2008     19.5     25.6       6.0          3.4       2.7           W   \n",
              "2  2/3/2008     21.6     24.5       6.6          2.4       0.1           W   \n",
              "3  2/4/2008     20.2     22.8      18.8          2.2       0.0           W   \n",
              "4  2/5/2008     19.7     25.7      77.4          4.8       0.0           W   \n",
              "\n",
              "   WindGustSpeed WindDir9am WindDir3pm  ...  Humidity9am  Humidity3pm  \\\n",
              "0             41          S        SSW  ...           92           84   \n",
              "1             41          W          E  ...           83           73   \n",
              "2             41        ESE        ESE  ...           88           86   \n",
              "3             41        NNE          E  ...           83           90   \n",
              "4             41        NNE          W  ...           88           74   \n",
              "\n",
              "   Pressure9am  Pressure3pm  Cloud9am  Cloud3pm  Temp9am  Temp3pm  RainToday  \\\n",
              "0       1017.6       1017.4         8         8     20.7     20.9        Yes   \n",
              "1       1017.9       1016.4         7         7     22.4     24.8        Yes   \n",
              "2       1016.7       1015.6         7         8     23.5     23.0        Yes   \n",
              "3       1014.2       1011.8         8         8     21.4     20.9        Yes   \n",
              "4       1008.3       1004.8         8         8     22.5     25.5        Yes   \n",
              "\n",
              "   RainTomorrow  \n",
              "0           Yes  \n",
              "1           Yes  \n",
              "2           Yes  \n",
              "3           Yes  \n",
              "4           Yes  \n",
              "\n",
              "[5 rows x 22 columns]"
            ],
            "text/html": [
              "\n",
              "  <div id=\"df-70217532-7c8b-40a6-b3f7-9638d71c6f37\" class=\"colab-df-container\">\n",
              "    <div>\n",
              "<style scoped>\n",
              "    .dataframe tbody tr th:only-of-type {\n",
              "        vertical-align: middle;\n",
              "    }\n",
              "\n",
              "    .dataframe tbody tr th {\n",
              "        vertical-align: top;\n",
              "    }\n",
              "\n",
              "    .dataframe thead th {\n",
              "        text-align: right;\n",
              "    }\n",
              "</style>\n",
              "<table border=\"1\" class=\"dataframe\">\n",
              "  <thead>\n",
              "    <tr style=\"text-align: right;\">\n",
              "      <th></th>\n",
              "      <th>Date</th>\n",
              "      <th>MinTemp</th>\n",
              "      <th>MaxTemp</th>\n",
              "      <th>Rainfall</th>\n",
              "      <th>Evaporation</th>\n",
              "      <th>Sunshine</th>\n",
              "      <th>WindGustDir</th>\n",
              "      <th>WindGustSpeed</th>\n",
              "      <th>WindDir9am</th>\n",
              "      <th>WindDir3pm</th>\n",
              "      <th>...</th>\n",
              "      <th>Humidity9am</th>\n",
              "      <th>Humidity3pm</th>\n",
              "      <th>Pressure9am</th>\n",
              "      <th>Pressure3pm</th>\n",
              "      <th>Cloud9am</th>\n",
              "      <th>Cloud3pm</th>\n",
              "      <th>Temp9am</th>\n",
              "      <th>Temp3pm</th>\n",
              "      <th>RainToday</th>\n",
              "      <th>RainTomorrow</th>\n",
              "    </tr>\n",
              "  </thead>\n",
              "  <tbody>\n",
              "    <tr>\n",
              "      <th>0</th>\n",
              "      <td>2/1/2008</td>\n",
              "      <td>19.5</td>\n",
              "      <td>22.4</td>\n",
              "      <td>15.6</td>\n",
              "      <td>6.2</td>\n",
              "      <td>0.0</td>\n",
              "      <td>W</td>\n",
              "      <td>41</td>\n",
              "      <td>S</td>\n",
              "      <td>SSW</td>\n",
              "      <td>...</td>\n",
              "      <td>92</td>\n",
              "      <td>84</td>\n",
              "      <td>1017.6</td>\n",
              "      <td>1017.4</td>\n",
              "      <td>8</td>\n",
              "      <td>8</td>\n",
              "      <td>20.7</td>\n",
              "      <td>20.9</td>\n",
              "      <td>Yes</td>\n",
              "      <td>Yes</td>\n",
              "    </tr>\n",
              "    <tr>\n",
              "      <th>1</th>\n",
              "      <td>2/2/2008</td>\n",
              "      <td>19.5</td>\n",
              "      <td>25.6</td>\n",
              "      <td>6.0</td>\n",
              "      <td>3.4</td>\n",
              "      <td>2.7</td>\n",
              "      <td>W</td>\n",
              "      <td>41</td>\n",
              "      <td>W</td>\n",
              "      <td>E</td>\n",
              "      <td>...</td>\n",
              "      <td>83</td>\n",
              "      <td>73</td>\n",
              "      <td>1017.9</td>\n",
              "      <td>1016.4</td>\n",
              "      <td>7</td>\n",
              "      <td>7</td>\n",
              "      <td>22.4</td>\n",
              "      <td>24.8</td>\n",
              "      <td>Yes</td>\n",
              "      <td>Yes</td>\n",
              "    </tr>\n",
              "    <tr>\n",
              "      <th>2</th>\n",
              "      <td>2/3/2008</td>\n",
              "      <td>21.6</td>\n",
              "      <td>24.5</td>\n",
              "      <td>6.6</td>\n",
              "      <td>2.4</td>\n",
              "      <td>0.1</td>\n",
              "      <td>W</td>\n",
              "      <td>41</td>\n",
              "      <td>ESE</td>\n",
              "      <td>ESE</td>\n",
              "      <td>...</td>\n",
              "      <td>88</td>\n",
              "      <td>86</td>\n",
              "      <td>1016.7</td>\n",
              "      <td>1015.6</td>\n",
              "      <td>7</td>\n",
              "      <td>8</td>\n",
              "      <td>23.5</td>\n",
              "      <td>23.0</td>\n",
              "      <td>Yes</td>\n",
              "      <td>Yes</td>\n",
              "    </tr>\n",
              "    <tr>\n",
              "      <th>3</th>\n",
              "      <td>2/4/2008</td>\n",
              "      <td>20.2</td>\n",
              "      <td>22.8</td>\n",
              "      <td>18.8</td>\n",
              "      <td>2.2</td>\n",
              "      <td>0.0</td>\n",
              "      <td>W</td>\n",
              "      <td>41</td>\n",
              "      <td>NNE</td>\n",
              "      <td>E</td>\n",
              "      <td>...</td>\n",
              "      <td>83</td>\n",
              "      <td>90</td>\n",
              "      <td>1014.2</td>\n",
              "      <td>1011.8</td>\n",
              "      <td>8</td>\n",
              "      <td>8</td>\n",
              "      <td>21.4</td>\n",
              "      <td>20.9</td>\n",
              "      <td>Yes</td>\n",
              "      <td>Yes</td>\n",
              "    </tr>\n",
              "    <tr>\n",
              "      <th>4</th>\n",
              "      <td>2/5/2008</td>\n",
              "      <td>19.7</td>\n",
              "      <td>25.7</td>\n",
              "      <td>77.4</td>\n",
              "      <td>4.8</td>\n",
              "      <td>0.0</td>\n",
              "      <td>W</td>\n",
              "      <td>41</td>\n",
              "      <td>NNE</td>\n",
              "      <td>W</td>\n",
              "      <td>...</td>\n",
              "      <td>88</td>\n",
              "      <td>74</td>\n",
              "      <td>1008.3</td>\n",
              "      <td>1004.8</td>\n",
              "      <td>8</td>\n",
              "      <td>8</td>\n",
              "      <td>22.5</td>\n",
              "      <td>25.5</td>\n",
              "      <td>Yes</td>\n",
              "      <td>Yes</td>\n",
              "    </tr>\n",
              "  </tbody>\n",
              "</table>\n",
              "<p>5 rows × 22 columns</p>\n",
              "</div>\n",
              "    <div class=\"colab-df-buttons\">\n",
              "\n",
              "  <div class=\"colab-df-container\">\n",
              "    <button class=\"colab-df-convert\" onclick=\"convertToInteractive('df-70217532-7c8b-40a6-b3f7-9638d71c6f37')\"\n",
              "            title=\"Convert this dataframe to an interactive table.\"\n",
              "            style=\"display:none;\">\n",
              "\n",
              "  <svg xmlns=\"http://www.w3.org/2000/svg\" height=\"24px\" viewBox=\"0 -960 960 960\">\n",
              "    <path d=\"M120-120v-720h720v720H120Zm60-500h600v-160H180v160Zm220 220h160v-160H400v160Zm0 220h160v-160H400v160ZM180-400h160v-160H180v160Zm440 0h160v-160H620v160ZM180-180h160v-160H180v160Zm440 0h160v-160H620v160Z\"/>\n",
              "  </svg>\n",
              "    </button>\n",
              "\n",
              "  <style>\n",
              "    .colab-df-container {\n",
              "      display:flex;\n",
              "      gap: 12px;\n",
              "    }\n",
              "\n",
              "    .colab-df-convert {\n",
              "      background-color: #E8F0FE;\n",
              "      border: none;\n",
              "      border-radius: 50%;\n",
              "      cursor: pointer;\n",
              "      display: none;\n",
              "      fill: #1967D2;\n",
              "      height: 32px;\n",
              "      padding: 0 0 0 0;\n",
              "      width: 32px;\n",
              "    }\n",
              "\n",
              "    .colab-df-convert:hover {\n",
              "      background-color: #E2EBFA;\n",
              "      box-shadow: 0px 1px 2px rgba(60, 64, 67, 0.3), 0px 1px 3px 1px rgba(60, 64, 67, 0.15);\n",
              "      fill: #174EA6;\n",
              "    }\n",
              "\n",
              "    .colab-df-buttons div {\n",
              "      margin-bottom: 4px;\n",
              "    }\n",
              "\n",
              "    [theme=dark] .colab-df-convert {\n",
              "      background-color: #3B4455;\n",
              "      fill: #D2E3FC;\n",
              "    }\n",
              "\n",
              "    [theme=dark] .colab-df-convert:hover {\n",
              "      background-color: #434B5C;\n",
              "      box-shadow: 0px 1px 3px 1px rgba(0, 0, 0, 0.15);\n",
              "      filter: drop-shadow(0px 1px 2px rgba(0, 0, 0, 0.3));\n",
              "      fill: #FFFFFF;\n",
              "    }\n",
              "  </style>\n",
              "\n",
              "    <script>\n",
              "      const buttonEl =\n",
              "        document.querySelector('#df-70217532-7c8b-40a6-b3f7-9638d71c6f37 button.colab-df-convert');\n",
              "      buttonEl.style.display =\n",
              "        google.colab.kernel.accessAllowed ? 'block' : 'none';\n",
              "\n",
              "      async function convertToInteractive(key) {\n",
              "        const element = document.querySelector('#df-70217532-7c8b-40a6-b3f7-9638d71c6f37');\n",
              "        const dataTable =\n",
              "          await google.colab.kernel.invokeFunction('convertToInteractive',\n",
              "                                                    [key], {});\n",
              "        if (!dataTable) return;\n",
              "\n",
              "        const docLinkHtml = 'Like what you see? Visit the ' +\n",
              "          '<a target=\"_blank\" href=https://colab.research.google.com/notebooks/data_table.ipynb>data table notebook</a>'\n",
              "          + ' to learn more about interactive tables.';\n",
              "        element.innerHTML = '';\n",
              "        dataTable['output_type'] = 'display_data';\n",
              "        await google.colab.output.renderOutput(dataTable, element);\n",
              "        const docLink = document.createElement('div');\n",
              "        docLink.innerHTML = docLinkHtml;\n",
              "        element.appendChild(docLink);\n",
              "      }\n",
              "    </script>\n",
              "  </div>\n",
              "\n",
              "\n",
              "<div id=\"df-1b32ca51-c9ac-48ac-afa6-79756924c234\">\n",
              "  <button class=\"colab-df-quickchart\" onclick=\"quickchart('df-1b32ca51-c9ac-48ac-afa6-79756924c234')\"\n",
              "            title=\"Suggest charts\"\n",
              "            style=\"display:none;\">\n",
              "\n",
              "<svg xmlns=\"http://www.w3.org/2000/svg\" height=\"24px\"viewBox=\"0 0 24 24\"\n",
              "     width=\"24px\">\n",
              "    <g>\n",
              "        <path d=\"M19 3H5c-1.1 0-2 .9-2 2v14c0 1.1.9 2 2 2h14c1.1 0 2-.9 2-2V5c0-1.1-.9-2-2-2zM9 17H7v-7h2v7zm4 0h-2V7h2v10zm4 0h-2v-4h2v4z\"/>\n",
              "    </g>\n",
              "</svg>\n",
              "  </button>\n",
              "\n",
              "<style>\n",
              "  .colab-df-quickchart {\n",
              "      --bg-color: #E8F0FE;\n",
              "      --fill-color: #1967D2;\n",
              "      --hover-bg-color: #E2EBFA;\n",
              "      --hover-fill-color: #174EA6;\n",
              "      --disabled-fill-color: #AAA;\n",
              "      --disabled-bg-color: #DDD;\n",
              "  }\n",
              "\n",
              "  [theme=dark] .colab-df-quickchart {\n",
              "      --bg-color: #3B4455;\n",
              "      --fill-color: #D2E3FC;\n",
              "      --hover-bg-color: #434B5C;\n",
              "      --hover-fill-color: #FFFFFF;\n",
              "      --disabled-bg-color: #3B4455;\n",
              "      --disabled-fill-color: #666;\n",
              "  }\n",
              "\n",
              "  .colab-df-quickchart {\n",
              "    background-color: var(--bg-color);\n",
              "    border: none;\n",
              "    border-radius: 50%;\n",
              "    cursor: pointer;\n",
              "    display: none;\n",
              "    fill: var(--fill-color);\n",
              "    height: 32px;\n",
              "    padding: 0;\n",
              "    width: 32px;\n",
              "  }\n",
              "\n",
              "  .colab-df-quickchart:hover {\n",
              "    background-color: var(--hover-bg-color);\n",
              "    box-shadow: 0 1px 2px rgba(60, 64, 67, 0.3), 0 1px 3px 1px rgba(60, 64, 67, 0.15);\n",
              "    fill: var(--button-hover-fill-color);\n",
              "  }\n",
              "\n",
              "  .colab-df-quickchart-complete:disabled,\n",
              "  .colab-df-quickchart-complete:disabled:hover {\n",
              "    background-color: var(--disabled-bg-color);\n",
              "    fill: var(--disabled-fill-color);\n",
              "    box-shadow: none;\n",
              "  }\n",
              "\n",
              "  .colab-df-spinner {\n",
              "    border: 2px solid var(--fill-color);\n",
              "    border-color: transparent;\n",
              "    border-bottom-color: var(--fill-color);\n",
              "    animation:\n",
              "      spin 1s steps(1) infinite;\n",
              "  }\n",
              "\n",
              "  @keyframes spin {\n",
              "    0% {\n",
              "      border-color: transparent;\n",
              "      border-bottom-color: var(--fill-color);\n",
              "      border-left-color: var(--fill-color);\n",
              "    }\n",
              "    20% {\n",
              "      border-color: transparent;\n",
              "      border-left-color: var(--fill-color);\n",
              "      border-top-color: var(--fill-color);\n",
              "    }\n",
              "    30% {\n",
              "      border-color: transparent;\n",
              "      border-left-color: var(--fill-color);\n",
              "      border-top-color: var(--fill-color);\n",
              "      border-right-color: var(--fill-color);\n",
              "    }\n",
              "    40% {\n",
              "      border-color: transparent;\n",
              "      border-right-color: var(--fill-color);\n",
              "      border-top-color: var(--fill-color);\n",
              "    }\n",
              "    60% {\n",
              "      border-color: transparent;\n",
              "      border-right-color: var(--fill-color);\n",
              "    }\n",
              "    80% {\n",
              "      border-color: transparent;\n",
              "      border-right-color: var(--fill-color);\n",
              "      border-bottom-color: var(--fill-color);\n",
              "    }\n",
              "    90% {\n",
              "      border-color: transparent;\n",
              "      border-bottom-color: var(--fill-color);\n",
              "    }\n",
              "  }\n",
              "</style>\n",
              "\n",
              "  <script>\n",
              "    async function quickchart(key) {\n",
              "      const quickchartButtonEl =\n",
              "        document.querySelector('#' + key + ' button');\n",
              "      quickchartButtonEl.disabled = true;  // To prevent multiple clicks.\n",
              "      quickchartButtonEl.classList.add('colab-df-spinner');\n",
              "      try {\n",
              "        const charts = await google.colab.kernel.invokeFunction(\n",
              "            'suggestCharts', [key], {});\n",
              "      } catch (error) {\n",
              "        console.error('Error during call to suggestCharts:', error);\n",
              "      }\n",
              "      quickchartButtonEl.classList.remove('colab-df-spinner');\n",
              "      quickchartButtonEl.classList.add('colab-df-quickchart-complete');\n",
              "    }\n",
              "    (() => {\n",
              "      let quickchartButtonEl =\n",
              "        document.querySelector('#df-1b32ca51-c9ac-48ac-afa6-79756924c234 button');\n",
              "      quickchartButtonEl.style.display =\n",
              "        google.colab.kernel.accessAllowed ? 'block' : 'none';\n",
              "    })();\n",
              "  </script>\n",
              "</div>\n",
              "\n",
              "    </div>\n",
              "  </div>\n"
            ],
            "application/vnd.google.colaboratory.intrinsic+json": {
              "type": "dataframe",
              "variable_name": "rain_df"
            }
          },
          "metadata": {},
          "execution_count": 238
        }
      ]
    },
    {
      "cell_type": "code",
      "source": [
        "#Obtaining summary statistics of the data\n",
        "rain_df.describe(include=\"all\")"
      ],
      "metadata": {
        "id": "pH7WL4qQE8lm",
        "colab": {
          "base_uri": "https://localhost:8080/",
          "height": 444
        },
        "outputId": "fb6a1df9-c743-4571-92a7-cc124c591739"
      },
      "execution_count": null,
      "outputs": [
        {
          "output_type": "execute_result",
          "data": {
            "text/plain": [
              "            Date      MinTemp      MaxTemp     Rainfall  Evaporation  \\\n",
              "count       3271  3271.000000  3271.000000  3271.000000  3271.000000   \n",
              "unique      3271          NaN          NaN          NaN          NaN   \n",
              "top     2/1/2008          NaN          NaN          NaN          NaN   \n",
              "freq           1          NaN          NaN          NaN          NaN   \n",
              "mean         NaN    14.877102    23.005564     3.342158     5.175787   \n",
              "std          NaN     4.554710     4.483752     9.917746     2.757684   \n",
              "min          NaN     4.300000    11.700000     0.000000     0.000000   \n",
              "25%          NaN    11.000000    19.600000     0.000000     3.200000   \n",
              "50%          NaN    14.900000    22.800000     0.000000     4.800000   \n",
              "75%          NaN    18.800000    26.000000     1.400000     7.000000   \n",
              "max          NaN    27.600000    45.800000   119.400000    18.400000   \n",
              "\n",
              "           Sunshine WindGustDir  WindGustSpeed WindDir9am WindDir3pm  ...  \\\n",
              "count   3271.000000        3271    3271.000000       3271       3271  ...   \n",
              "unique          NaN          16            NaN         16         16  ...   \n",
              "top             NaN           W            NaN          W          E  ...   \n",
              "freq            NaN        1425            NaN       1260        624  ...   \n",
              "mean       7.168970         NaN      41.476307        NaN        NaN  ...   \n",
              "std        3.815966         NaN      10.806951        NaN        NaN  ...   \n",
              "min        0.000000         NaN      17.000000        NaN        NaN  ...   \n",
              "25%        4.250000         NaN      35.000000        NaN        NaN  ...   \n",
              "50%        8.300000         NaN      41.000000        NaN        NaN  ...   \n",
              "75%       10.200000         NaN      44.000000        NaN        NaN  ...   \n",
              "max       13.600000         NaN      96.000000        NaN        NaN  ...   \n",
              "\n",
              "        Humidity9am  Humidity3pm  Pressure9am  Pressure3pm     Cloud9am  \\\n",
              "count   3271.000000  3271.000000  3271.000000  3271.000000  3271.000000   \n",
              "unique          NaN          NaN          NaN          NaN          NaN   \n",
              "top             NaN          NaN          NaN          NaN          NaN   \n",
              "freq            NaN          NaN          NaN          NaN          NaN   \n",
              "mean      68.243962    54.698563  1018.334424  1016.003085     4.318557   \n",
              "std       15.086127    16.279241     7.020090     7.019915     2.526923   \n",
              "min       19.000000    10.000000   986.700000   989.800000     0.000000   \n",
              "25%       58.000000    44.000000  1013.700000  1011.300000     2.000000   \n",
              "50%       69.000000    56.000000  1018.600000  1016.300000     5.000000   \n",
              "75%       80.000000    64.000000  1023.100000  1020.800000     7.000000   \n",
              "max      100.000000    99.000000  1039.000000  1036.700000     9.000000   \n",
              "\n",
              "           Cloud3pm      Temp9am      Temp3pm  RainToday  RainTomorrow  \n",
              "count   3271.000000  3271.000000  3271.000000       3271          3271  \n",
              "unique          NaN          NaN          NaN          2             2  \n",
              "top             NaN          NaN          NaN         No            No  \n",
              "freq            NaN          NaN          NaN       2422          2422  \n",
              "mean       4.176093    17.821461    21.543656        NaN           NaN  \n",
              "std        2.411274     4.894316     4.297053        NaN           NaN  \n",
              "min        0.000000     6.400000    10.200000        NaN           NaN  \n",
              "25%        2.000000    13.800000    18.400000        NaN           NaN  \n",
              "50%        4.000000    18.200000    21.300000        NaN           NaN  \n",
              "75%        7.000000    21.700000    24.500000        NaN           NaN  \n",
              "max        8.000000    36.500000    44.700000        NaN           NaN  \n",
              "\n",
              "[11 rows x 22 columns]"
            ],
            "text/html": [
              "\n",
              "  <div id=\"df-7d42b812-91b5-44ef-a9ee-6767f27d6294\" class=\"colab-df-container\">\n",
              "    <div>\n",
              "<style scoped>\n",
              "    .dataframe tbody tr th:only-of-type {\n",
              "        vertical-align: middle;\n",
              "    }\n",
              "\n",
              "    .dataframe tbody tr th {\n",
              "        vertical-align: top;\n",
              "    }\n",
              "\n",
              "    .dataframe thead th {\n",
              "        text-align: right;\n",
              "    }\n",
              "</style>\n",
              "<table border=\"1\" class=\"dataframe\">\n",
              "  <thead>\n",
              "    <tr style=\"text-align: right;\">\n",
              "      <th></th>\n",
              "      <th>Date</th>\n",
              "      <th>MinTemp</th>\n",
              "      <th>MaxTemp</th>\n",
              "      <th>Rainfall</th>\n",
              "      <th>Evaporation</th>\n",
              "      <th>Sunshine</th>\n",
              "      <th>WindGustDir</th>\n",
              "      <th>WindGustSpeed</th>\n",
              "      <th>WindDir9am</th>\n",
              "      <th>WindDir3pm</th>\n",
              "      <th>...</th>\n",
              "      <th>Humidity9am</th>\n",
              "      <th>Humidity3pm</th>\n",
              "      <th>Pressure9am</th>\n",
              "      <th>Pressure3pm</th>\n",
              "      <th>Cloud9am</th>\n",
              "      <th>Cloud3pm</th>\n",
              "      <th>Temp9am</th>\n",
              "      <th>Temp3pm</th>\n",
              "      <th>RainToday</th>\n",
              "      <th>RainTomorrow</th>\n",
              "    </tr>\n",
              "  </thead>\n",
              "  <tbody>\n",
              "    <tr>\n",
              "      <th>count</th>\n",
              "      <td>3271</td>\n",
              "      <td>3271.000000</td>\n",
              "      <td>3271.000000</td>\n",
              "      <td>3271.000000</td>\n",
              "      <td>3271.000000</td>\n",
              "      <td>3271.000000</td>\n",
              "      <td>3271</td>\n",
              "      <td>3271.000000</td>\n",
              "      <td>3271</td>\n",
              "      <td>3271</td>\n",
              "      <td>...</td>\n",
              "      <td>3271.000000</td>\n",
              "      <td>3271.000000</td>\n",
              "      <td>3271.000000</td>\n",
              "      <td>3271.000000</td>\n",
              "      <td>3271.000000</td>\n",
              "      <td>3271.000000</td>\n",
              "      <td>3271.000000</td>\n",
              "      <td>3271.000000</td>\n",
              "      <td>3271</td>\n",
              "      <td>3271</td>\n",
              "    </tr>\n",
              "    <tr>\n",
              "      <th>unique</th>\n",
              "      <td>3271</td>\n",
              "      <td>NaN</td>\n",
              "      <td>NaN</td>\n",
              "      <td>NaN</td>\n",
              "      <td>NaN</td>\n",
              "      <td>NaN</td>\n",
              "      <td>16</td>\n",
              "      <td>NaN</td>\n",
              "      <td>16</td>\n",
              "      <td>16</td>\n",
              "      <td>...</td>\n",
              "      <td>NaN</td>\n",
              "      <td>NaN</td>\n",
              "      <td>NaN</td>\n",
              "      <td>NaN</td>\n",
              "      <td>NaN</td>\n",
              "      <td>NaN</td>\n",
              "      <td>NaN</td>\n",
              "      <td>NaN</td>\n",
              "      <td>2</td>\n",
              "      <td>2</td>\n",
              "    </tr>\n",
              "    <tr>\n",
              "      <th>top</th>\n",
              "      <td>2/1/2008</td>\n",
              "      <td>NaN</td>\n",
              "      <td>NaN</td>\n",
              "      <td>NaN</td>\n",
              "      <td>NaN</td>\n",
              "      <td>NaN</td>\n",
              "      <td>W</td>\n",
              "      <td>NaN</td>\n",
              "      <td>W</td>\n",
              "      <td>E</td>\n",
              "      <td>...</td>\n",
              "      <td>NaN</td>\n",
              "      <td>NaN</td>\n",
              "      <td>NaN</td>\n",
              "      <td>NaN</td>\n",
              "      <td>NaN</td>\n",
              "      <td>NaN</td>\n",
              "      <td>NaN</td>\n",
              "      <td>NaN</td>\n",
              "      <td>No</td>\n",
              "      <td>No</td>\n",
              "    </tr>\n",
              "    <tr>\n",
              "      <th>freq</th>\n",
              "      <td>1</td>\n",
              "      <td>NaN</td>\n",
              "      <td>NaN</td>\n",
              "      <td>NaN</td>\n",
              "      <td>NaN</td>\n",
              "      <td>NaN</td>\n",
              "      <td>1425</td>\n",
              "      <td>NaN</td>\n",
              "      <td>1260</td>\n",
              "      <td>624</td>\n",
              "      <td>...</td>\n",
              "      <td>NaN</td>\n",
              "      <td>NaN</td>\n",
              "      <td>NaN</td>\n",
              "      <td>NaN</td>\n",
              "      <td>NaN</td>\n",
              "      <td>NaN</td>\n",
              "      <td>NaN</td>\n",
              "      <td>NaN</td>\n",
              "      <td>2422</td>\n",
              "      <td>2422</td>\n",
              "    </tr>\n",
              "    <tr>\n",
              "      <th>mean</th>\n",
              "      <td>NaN</td>\n",
              "      <td>14.877102</td>\n",
              "      <td>23.005564</td>\n",
              "      <td>3.342158</td>\n",
              "      <td>5.175787</td>\n",
              "      <td>7.168970</td>\n",
              "      <td>NaN</td>\n",
              "      <td>41.476307</td>\n",
              "      <td>NaN</td>\n",
              "      <td>NaN</td>\n",
              "      <td>...</td>\n",
              "      <td>68.243962</td>\n",
              "      <td>54.698563</td>\n",
              "      <td>1018.334424</td>\n",
              "      <td>1016.003085</td>\n",
              "      <td>4.318557</td>\n",
              "      <td>4.176093</td>\n",
              "      <td>17.821461</td>\n",
              "      <td>21.543656</td>\n",
              "      <td>NaN</td>\n",
              "      <td>NaN</td>\n",
              "    </tr>\n",
              "    <tr>\n",
              "      <th>std</th>\n",
              "      <td>NaN</td>\n",
              "      <td>4.554710</td>\n",
              "      <td>4.483752</td>\n",
              "      <td>9.917746</td>\n",
              "      <td>2.757684</td>\n",
              "      <td>3.815966</td>\n",
              "      <td>NaN</td>\n",
              "      <td>10.806951</td>\n",
              "      <td>NaN</td>\n",
              "      <td>NaN</td>\n",
              "      <td>...</td>\n",
              "      <td>15.086127</td>\n",
              "      <td>16.279241</td>\n",
              "      <td>7.020090</td>\n",
              "      <td>7.019915</td>\n",
              "      <td>2.526923</td>\n",
              "      <td>2.411274</td>\n",
              "      <td>4.894316</td>\n",
              "      <td>4.297053</td>\n",
              "      <td>NaN</td>\n",
              "      <td>NaN</td>\n",
              "    </tr>\n",
              "    <tr>\n",
              "      <th>min</th>\n",
              "      <td>NaN</td>\n",
              "      <td>4.300000</td>\n",
              "      <td>11.700000</td>\n",
              "      <td>0.000000</td>\n",
              "      <td>0.000000</td>\n",
              "      <td>0.000000</td>\n",
              "      <td>NaN</td>\n",
              "      <td>17.000000</td>\n",
              "      <td>NaN</td>\n",
              "      <td>NaN</td>\n",
              "      <td>...</td>\n",
              "      <td>19.000000</td>\n",
              "      <td>10.000000</td>\n",
              "      <td>986.700000</td>\n",
              "      <td>989.800000</td>\n",
              "      <td>0.000000</td>\n",
              "      <td>0.000000</td>\n",
              "      <td>6.400000</td>\n",
              "      <td>10.200000</td>\n",
              "      <td>NaN</td>\n",
              "      <td>NaN</td>\n",
              "    </tr>\n",
              "    <tr>\n",
              "      <th>25%</th>\n",
              "      <td>NaN</td>\n",
              "      <td>11.000000</td>\n",
              "      <td>19.600000</td>\n",
              "      <td>0.000000</td>\n",
              "      <td>3.200000</td>\n",
              "      <td>4.250000</td>\n",
              "      <td>NaN</td>\n",
              "      <td>35.000000</td>\n",
              "      <td>NaN</td>\n",
              "      <td>NaN</td>\n",
              "      <td>...</td>\n",
              "      <td>58.000000</td>\n",
              "      <td>44.000000</td>\n",
              "      <td>1013.700000</td>\n",
              "      <td>1011.300000</td>\n",
              "      <td>2.000000</td>\n",
              "      <td>2.000000</td>\n",
              "      <td>13.800000</td>\n",
              "      <td>18.400000</td>\n",
              "      <td>NaN</td>\n",
              "      <td>NaN</td>\n",
              "    </tr>\n",
              "    <tr>\n",
              "      <th>50%</th>\n",
              "      <td>NaN</td>\n",
              "      <td>14.900000</td>\n",
              "      <td>22.800000</td>\n",
              "      <td>0.000000</td>\n",
              "      <td>4.800000</td>\n",
              "      <td>8.300000</td>\n",
              "      <td>NaN</td>\n",
              "      <td>41.000000</td>\n",
              "      <td>NaN</td>\n",
              "      <td>NaN</td>\n",
              "      <td>...</td>\n",
              "      <td>69.000000</td>\n",
              "      <td>56.000000</td>\n",
              "      <td>1018.600000</td>\n",
              "      <td>1016.300000</td>\n",
              "      <td>5.000000</td>\n",
              "      <td>4.000000</td>\n",
              "      <td>18.200000</td>\n",
              "      <td>21.300000</td>\n",
              "      <td>NaN</td>\n",
              "      <td>NaN</td>\n",
              "    </tr>\n",
              "    <tr>\n",
              "      <th>75%</th>\n",
              "      <td>NaN</td>\n",
              "      <td>18.800000</td>\n",
              "      <td>26.000000</td>\n",
              "      <td>1.400000</td>\n",
              "      <td>7.000000</td>\n",
              "      <td>10.200000</td>\n",
              "      <td>NaN</td>\n",
              "      <td>44.000000</td>\n",
              "      <td>NaN</td>\n",
              "      <td>NaN</td>\n",
              "      <td>...</td>\n",
              "      <td>80.000000</td>\n",
              "      <td>64.000000</td>\n",
              "      <td>1023.100000</td>\n",
              "      <td>1020.800000</td>\n",
              "      <td>7.000000</td>\n",
              "      <td>7.000000</td>\n",
              "      <td>21.700000</td>\n",
              "      <td>24.500000</td>\n",
              "      <td>NaN</td>\n",
              "      <td>NaN</td>\n",
              "    </tr>\n",
              "    <tr>\n",
              "      <th>max</th>\n",
              "      <td>NaN</td>\n",
              "      <td>27.600000</td>\n",
              "      <td>45.800000</td>\n",
              "      <td>119.400000</td>\n",
              "      <td>18.400000</td>\n",
              "      <td>13.600000</td>\n",
              "      <td>NaN</td>\n",
              "      <td>96.000000</td>\n",
              "      <td>NaN</td>\n",
              "      <td>NaN</td>\n",
              "      <td>...</td>\n",
              "      <td>100.000000</td>\n",
              "      <td>99.000000</td>\n",
              "      <td>1039.000000</td>\n",
              "      <td>1036.700000</td>\n",
              "      <td>9.000000</td>\n",
              "      <td>8.000000</td>\n",
              "      <td>36.500000</td>\n",
              "      <td>44.700000</td>\n",
              "      <td>NaN</td>\n",
              "      <td>NaN</td>\n",
              "    </tr>\n",
              "  </tbody>\n",
              "</table>\n",
              "<p>11 rows × 22 columns</p>\n",
              "</div>\n",
              "    <div class=\"colab-df-buttons\">\n",
              "\n",
              "  <div class=\"colab-df-container\">\n",
              "    <button class=\"colab-df-convert\" onclick=\"convertToInteractive('df-7d42b812-91b5-44ef-a9ee-6767f27d6294')\"\n",
              "            title=\"Convert this dataframe to an interactive table.\"\n",
              "            style=\"display:none;\">\n",
              "\n",
              "  <svg xmlns=\"http://www.w3.org/2000/svg\" height=\"24px\" viewBox=\"0 -960 960 960\">\n",
              "    <path d=\"M120-120v-720h720v720H120Zm60-500h600v-160H180v160Zm220 220h160v-160H400v160Zm0 220h160v-160H400v160ZM180-400h160v-160H180v160Zm440 0h160v-160H620v160ZM180-180h160v-160H180v160Zm440 0h160v-160H620v160Z\"/>\n",
              "  </svg>\n",
              "    </button>\n",
              "\n",
              "  <style>\n",
              "    .colab-df-container {\n",
              "      display:flex;\n",
              "      gap: 12px;\n",
              "    }\n",
              "\n",
              "    .colab-df-convert {\n",
              "      background-color: #E8F0FE;\n",
              "      border: none;\n",
              "      border-radius: 50%;\n",
              "      cursor: pointer;\n",
              "      display: none;\n",
              "      fill: #1967D2;\n",
              "      height: 32px;\n",
              "      padding: 0 0 0 0;\n",
              "      width: 32px;\n",
              "    }\n",
              "\n",
              "    .colab-df-convert:hover {\n",
              "      background-color: #E2EBFA;\n",
              "      box-shadow: 0px 1px 2px rgba(60, 64, 67, 0.3), 0px 1px 3px 1px rgba(60, 64, 67, 0.15);\n",
              "      fill: #174EA6;\n",
              "    }\n",
              "\n",
              "    .colab-df-buttons div {\n",
              "      margin-bottom: 4px;\n",
              "    }\n",
              "\n",
              "    [theme=dark] .colab-df-convert {\n",
              "      background-color: #3B4455;\n",
              "      fill: #D2E3FC;\n",
              "    }\n",
              "\n",
              "    [theme=dark] .colab-df-convert:hover {\n",
              "      background-color: #434B5C;\n",
              "      box-shadow: 0px 1px 3px 1px rgba(0, 0, 0, 0.15);\n",
              "      filter: drop-shadow(0px 1px 2px rgba(0, 0, 0, 0.3));\n",
              "      fill: #FFFFFF;\n",
              "    }\n",
              "  </style>\n",
              "\n",
              "    <script>\n",
              "      const buttonEl =\n",
              "        document.querySelector('#df-7d42b812-91b5-44ef-a9ee-6767f27d6294 button.colab-df-convert');\n",
              "      buttonEl.style.display =\n",
              "        google.colab.kernel.accessAllowed ? 'block' : 'none';\n",
              "\n",
              "      async function convertToInteractive(key) {\n",
              "        const element = document.querySelector('#df-7d42b812-91b5-44ef-a9ee-6767f27d6294');\n",
              "        const dataTable =\n",
              "          await google.colab.kernel.invokeFunction('convertToInteractive',\n",
              "                                                    [key], {});\n",
              "        if (!dataTable) return;\n",
              "\n",
              "        const docLinkHtml = 'Like what you see? Visit the ' +\n",
              "          '<a target=\"_blank\" href=https://colab.research.google.com/notebooks/data_table.ipynb>data table notebook</a>'\n",
              "          + ' to learn more about interactive tables.';\n",
              "        element.innerHTML = '';\n",
              "        dataTable['output_type'] = 'display_data';\n",
              "        await google.colab.output.renderOutput(dataTable, element);\n",
              "        const docLink = document.createElement('div');\n",
              "        docLink.innerHTML = docLinkHtml;\n",
              "        element.appendChild(docLink);\n",
              "      }\n",
              "    </script>\n",
              "  </div>\n",
              "\n",
              "\n",
              "<div id=\"df-05f21034-0308-4bf9-8430-bddef9ddba94\">\n",
              "  <button class=\"colab-df-quickchart\" onclick=\"quickchart('df-05f21034-0308-4bf9-8430-bddef9ddba94')\"\n",
              "            title=\"Suggest charts\"\n",
              "            style=\"display:none;\">\n",
              "\n",
              "<svg xmlns=\"http://www.w3.org/2000/svg\" height=\"24px\"viewBox=\"0 0 24 24\"\n",
              "     width=\"24px\">\n",
              "    <g>\n",
              "        <path d=\"M19 3H5c-1.1 0-2 .9-2 2v14c0 1.1.9 2 2 2h14c1.1 0 2-.9 2-2V5c0-1.1-.9-2-2-2zM9 17H7v-7h2v7zm4 0h-2V7h2v10zm4 0h-2v-4h2v4z\"/>\n",
              "    </g>\n",
              "</svg>\n",
              "  </button>\n",
              "\n",
              "<style>\n",
              "  .colab-df-quickchart {\n",
              "      --bg-color: #E8F0FE;\n",
              "      --fill-color: #1967D2;\n",
              "      --hover-bg-color: #E2EBFA;\n",
              "      --hover-fill-color: #174EA6;\n",
              "      --disabled-fill-color: #AAA;\n",
              "      --disabled-bg-color: #DDD;\n",
              "  }\n",
              "\n",
              "  [theme=dark] .colab-df-quickchart {\n",
              "      --bg-color: #3B4455;\n",
              "      --fill-color: #D2E3FC;\n",
              "      --hover-bg-color: #434B5C;\n",
              "      --hover-fill-color: #FFFFFF;\n",
              "      --disabled-bg-color: #3B4455;\n",
              "      --disabled-fill-color: #666;\n",
              "  }\n",
              "\n",
              "  .colab-df-quickchart {\n",
              "    background-color: var(--bg-color);\n",
              "    border: none;\n",
              "    border-radius: 50%;\n",
              "    cursor: pointer;\n",
              "    display: none;\n",
              "    fill: var(--fill-color);\n",
              "    height: 32px;\n",
              "    padding: 0;\n",
              "    width: 32px;\n",
              "  }\n",
              "\n",
              "  .colab-df-quickchart:hover {\n",
              "    background-color: var(--hover-bg-color);\n",
              "    box-shadow: 0 1px 2px rgba(60, 64, 67, 0.3), 0 1px 3px 1px rgba(60, 64, 67, 0.15);\n",
              "    fill: var(--button-hover-fill-color);\n",
              "  }\n",
              "\n",
              "  .colab-df-quickchart-complete:disabled,\n",
              "  .colab-df-quickchart-complete:disabled:hover {\n",
              "    background-color: var(--disabled-bg-color);\n",
              "    fill: var(--disabled-fill-color);\n",
              "    box-shadow: none;\n",
              "  }\n",
              "\n",
              "  .colab-df-spinner {\n",
              "    border: 2px solid var(--fill-color);\n",
              "    border-color: transparent;\n",
              "    border-bottom-color: var(--fill-color);\n",
              "    animation:\n",
              "      spin 1s steps(1) infinite;\n",
              "  }\n",
              "\n",
              "  @keyframes spin {\n",
              "    0% {\n",
              "      border-color: transparent;\n",
              "      border-bottom-color: var(--fill-color);\n",
              "      border-left-color: var(--fill-color);\n",
              "    }\n",
              "    20% {\n",
              "      border-color: transparent;\n",
              "      border-left-color: var(--fill-color);\n",
              "      border-top-color: var(--fill-color);\n",
              "    }\n",
              "    30% {\n",
              "      border-color: transparent;\n",
              "      border-left-color: var(--fill-color);\n",
              "      border-top-color: var(--fill-color);\n",
              "      border-right-color: var(--fill-color);\n",
              "    }\n",
              "    40% {\n",
              "      border-color: transparent;\n",
              "      border-right-color: var(--fill-color);\n",
              "      border-top-color: var(--fill-color);\n",
              "    }\n",
              "    60% {\n",
              "      border-color: transparent;\n",
              "      border-right-color: var(--fill-color);\n",
              "    }\n",
              "    80% {\n",
              "      border-color: transparent;\n",
              "      border-right-color: var(--fill-color);\n",
              "      border-bottom-color: var(--fill-color);\n",
              "    }\n",
              "    90% {\n",
              "      border-color: transparent;\n",
              "      border-bottom-color: var(--fill-color);\n",
              "    }\n",
              "  }\n",
              "</style>\n",
              "\n",
              "  <script>\n",
              "    async function quickchart(key) {\n",
              "      const quickchartButtonEl =\n",
              "        document.querySelector('#' + key + ' button');\n",
              "      quickchartButtonEl.disabled = true;  // To prevent multiple clicks.\n",
              "      quickchartButtonEl.classList.add('colab-df-spinner');\n",
              "      try {\n",
              "        const charts = await google.colab.kernel.invokeFunction(\n",
              "            'suggestCharts', [key], {});\n",
              "      } catch (error) {\n",
              "        console.error('Error during call to suggestCharts:', error);\n",
              "      }\n",
              "      quickchartButtonEl.classList.remove('colab-df-spinner');\n",
              "      quickchartButtonEl.classList.add('colab-df-quickchart-complete');\n",
              "    }\n",
              "    (() => {\n",
              "      let quickchartButtonEl =\n",
              "        document.querySelector('#df-05f21034-0308-4bf9-8430-bddef9ddba94 button');\n",
              "      quickchartButtonEl.style.display =\n",
              "        google.colab.kernel.accessAllowed ? 'block' : 'none';\n",
              "    })();\n",
              "  </script>\n",
              "</div>\n",
              "\n",
              "    </div>\n",
              "  </div>\n"
            ],
            "application/vnd.google.colaboratory.intrinsic+json": {
              "type": "dataframe"
            }
          },
          "metadata": {},
          "execution_count": 239
        }
      ]
    },
    {
      "cell_type": "markdown",
      "source": [
        "**At a glance**\n",
        "- From 2008 to 2017, there were more dry days than rainy days.\n",
        "- The dominant prediction for the labeled target field $RainTomorrow$ is \"No.\"\n",
        "- The temperature extremes ranged from $4.3^0-45.80^0C$ during the examined period.\n",
        "- There are apparantly days with 0.00 mm of rainfall, which begs scrutiny."
      ],
      "metadata": {
        "id": "cJastOOEE4HK"
      }
    },
    {
      "cell_type": "markdown",
      "source": [
        "<h4>Temperature Distribution</h4>"
      ],
      "metadata": {
        "id": "Z3sZ3rjKHbPL"
      }
    },
    {
      "cell_type": "code",
      "source": [
        "fig = plt.figure(figsize=(20, 16))\n",
        "ax0 = fig.add_subplot(2, 2, 1)\n",
        "ax1 = fig.add_subplot(2, 2, 2)\n",
        "ax2 = fig.add_subplot(2, 2, 3)\n",
        "ax3 = fig.add_subplot(2, 2, 4)\n",
        "\n",
        "#temperature histogram distribution\n",
        "temperature_df = pd.concat([rain_df[\"MinTemp\"], rain_df[\"MaxTemp\"]])\n",
        "rain_df[\"MinTemp\"].plot(kind=\"hist\", bins = 50, ax=ax0, edgecolor = 'white')\n",
        "#ax0.set_ylim(0, 2500)\n",
        "ax0.set_title(\"Minimum temperatures in Australia from 2008 to 2017\")\n",
        "ax0.set_ylabel(\"Frequency\")\n",
        "ax0.set_xlabel(\"Temperature ($\\mathregular{^{0}C}$)\")\n",
        "\n",
        "#density distribution\n",
        "sns.histplot(rain_df[\"MinTemp\"].values, kde=True, ax=ax1)\n",
        "ax1.set_title(\"Density plot of the minimum temperatures in Australia from 2008 to 2017\")\n",
        "ax1.set_xlabel(\"Temperature ($\\mathregular{^{0}C}$)\")\n",
        "\n",
        "\n",
        "rain_df[\"MaxTemp\"].plot(kind=\"hist\", bins = 50, ax=ax2, edgecolor = 'white', color=\"teal\")\n",
        "#ax0.set_ylim(0, 2500)\n",
        "ax2.set_title(\"Maximum temperatures in Australia from 2008 to 2017\")\n",
        "ax2.set_ylabel(\"Frequency\")\n",
        "ax2.set_xlabel(\"Temperature ($\\mathregular{^{0}C}$)\")\n",
        "\n",
        "#density distribution\n",
        "sns.histplot(rain_df[\"MaxTemp\"].values, kde=True, ax=ax3, color=\"teal\")\n",
        "ax3.set_title(\"Density plot of the maximum temperatures in Australia from 2008 to 2017\")\n",
        "ax3.set_xlabel(\"Temperature ($\\mathregular{^{0}C}$)\")"
      ],
      "metadata": {
        "colab": {
          "base_uri": "https://localhost:8080/",
          "height": 1000
        },
        "collapsed": true,
        "id": "b2l07JJaHgwF",
        "outputId": "268acaa5-c04e-4bbe-bde4-68addde370df"
      },
      "execution_count": null,
      "outputs": [
        {
          "output_type": "execute_result",
          "data": {
            "text/plain": [
              "Text(0.5, 0, 'Temperature ($\\\\mathregular{^{0}C}$)')"
            ]
          },
          "metadata": {},
          "execution_count": 240
        },
        {
          "output_type": "display_data",
          "data": {
            "text/plain": [
              "<Figure size 2000x1600 with 4 Axes>"
            ],
            "image/png": "[encoded data removed]"
          },
          "metadata": {}
        }
      ]
    },
    {
      "cell_type": "code",
      "source": [
        "#box plot for the temperature to display outliers\n",
        "plt.figure(figsize=(8, 8))\n",
        "\n",
        "temp_df = rain_df[[\"MinTemp\", \"MaxTemp\"]]\n",
        "\n",
        "sns.boxplot(temp_df, width=0.3, fill=False, linewidth=0.9, fliersize=5)\n",
        "plt.title(\"Box plot of the min and max daily temperatures in Australia \\n from 2008 to 2017\")\n",
        "plt.ylabel(\"Values ($\\mathregular{^{0}C}$)\")"
      ],
      "metadata": {
        "colab": {
          "base_uri": "https://localhost:8080/",
          "height": 739
        },
        "id": "KcmWOEAdSmW8",
        "outputId": "69ffb930-1ebd-43f2-a7bd-e8a4f5c6e787"
      },
      "execution_count": null,
      "outputs": [
        {
          "output_type": "execute_result",
          "data": {
            "text/plain": [
              "Text(0, 0.5, 'Values ($\\\\mathregular{^{0}C}$)')"
            ]
          },
          "metadata": {},
          "execution_count": 241
        },
        {
          "output_type": "display_data",
          "data": {
            "text/plain": [
              "<Figure size 800x800 with 1 Axes>"
            ],
            "image/png": "[encoded data removed]"
          },
          "metadata": {}
        }
      ]
    },
    {
      "cell_type": "markdown",
      "source": [
        "<h4>Rainfall Amount</h4>"
      ],
      "metadata": {
        "id": "7Jw6fVv2NcWh"
      }
    },
    {
      "cell_type": "code",
      "source": [
        "#retrieving the year from the data column\n",
        "df[\"date\"] = pd.to_datetime(rain_df[\"Date\"], format=\"mixed\")\n",
        "df[\"year\"]= df[\"date\"].dt.year\n",
        "df[\"year\"]\n",
        "\n",
        "#Adding the year column to the df to group the annual rainfall amount\n",
        "rain_df2 = rain_df\n",
        "rain_df2[\"year\"] = df[\"year\"]\n",
        "new_rain_df = rain_df2.groupby([\"year\"]).sum(numeric_only=True)\n",
        "xticks = list(range(2008, 2018))\n",
        "\n",
        "#lineplot showing the annual rainfall amount\n",
        "plt.figure(figsize=(12, 6))\n",
        "sns.lineplot(data=new_rain_df, x=\"year\", y=\"Rainfall\")\n",
        "plt.title(\"Total annual rainfall amount\")\n",
        "plt.ylabel(\"Amount (mm)\")\n",
        "plt.xlabel(\"Year\")\n",
        "plt.ylim(600, 2000)\n",
        "plt.xticks(ticks=xticks)"
      ],
      "metadata": {
        "colab": {
          "base_uri": "https://localhost:8080/",
          "height": 916
        },
        "id": "7jpWD93CNgUP",
        "outputId": "cb5b1a52-2a4b-43cb-a303-f31ba5a7944d"
      },
      "execution_count": null,
      "outputs": [
        {
          "output_type": "execute_result",
          "data": {
            "text/plain": [
              "([<matplotlib.axis.XTick at 0x7aef07c37190>,\n",
              "  <matplotlib.axis.XTick at 0x7aef07c37c10>,\n",
              "  <matplotlib.axis.XTick at 0x7aef07c365f0>,\n",
              "  <matplotlib.axis.XTick at 0x7aef07a5f6a0>,\n",
              "  <matplotlib.axis.XTick at 0x7aef07a5e590>,\n",
              "  <matplotlib.axis.XTick at 0x7aef078c57b0>,\n",
              "  <matplotlib.axis.XTick at 0x7aef07a4fd90>,\n",
              "  <matplotlib.axis.XTick at 0x7aef07c375b0>,\n",
              "  <matplotlib.axis.XTick at 0x7aef07a5d510>,\n",
              "  <matplotlib.axis.XTick at 0x7aef07a5d9c0>],\n",
              " [Text(2008, 0, '2008'),\n",
              "  Text(2009, 0, '2009'),\n",
              "  Text(2010, 0, '2010'),\n",
              "  Text(2011, 0, '2011'),\n",
              "  Text(2012, 0, '2012'),\n",
              "  Text(2013, 0, '2013'),\n",
              "  Text(2014, 0, '2014'),\n",
              "  Text(2015, 0, '2015'),\n",
              "  Text(2016, 0, '2016'),\n",
              "  Text(2017, 0, '2017')])"
            ]
          },
          "metadata": {},
          "execution_count": 242
        },
        {
          "output_type": "display_data",
          "data": {
            "text/plain": [
              "<Figure size 1200x600 with 1 Axes>"
            ],
            "image/png": "[encoded data removed]"
          },
          "metadata": {}
        }
      ]
    },
    {
      "cell_type": "markdown",
      "source": [
        "As shown in the image above, the lowest amount of rainfall was recorded in 2017, whereas the highest amount was recorded in 2015."
      ],
      "metadata": {
        "id": "wL142ijppUmD"
      }
    },
    {
      "cell_type": "markdown",
      "source": [
        "<h3>Cleaning/Preprocessing</h3>"
      ],
      "metadata": {
        "id": "k0_ccLmCWLzL"
      }
    },
    {
      "cell_type": "markdown",
      "source": [
        "<h4> Outliers & Missing Values</h4>"
      ],
      "metadata": {
        "id": "Hs1C_ZXkgRMG"
      }
    },
    {
      "cell_type": "code",
      "source": [
        "#Checking the datatypes for missing values\n",
        "rain_df.isnull().sum()"
      ],
      "metadata": {
        "colab": {
          "base_uri": "https://localhost:8080/"
        },
        "id": "Tkyb75pUgP9S",
        "outputId": "612affeb-6fea-41b9-fd30-ace3c1adb355"
      },
      "execution_count": null,
      "outputs": [
        {
          "output_type": "execute_result",
          "data": {
            "text/plain": [
              "Date             0\n",
              "MinTemp          0\n",
              "MaxTemp          0\n",
              "Rainfall         0\n",
              "Evaporation      0\n",
              "Sunshine         0\n",
              "WindGustDir      0\n",
              "WindGustSpeed    0\n",
              "WindDir9am       0\n",
              "WindDir3pm       0\n",
              "WindSpeed9am     0\n",
              "WindSpeed3pm     0\n",
              "Humidity9am      0\n",
              "Humidity3pm      0\n",
              "Pressure9am      0\n",
              "Pressure3pm      0\n",
              "Cloud9am         0\n",
              "Cloud3pm         0\n",
              "Temp9am          0\n",
              "Temp3pm          0\n",
              "RainToday        0\n",
              "RainTomorrow     0\n",
              "year             0\n",
              "dtype: int64"
            ]
          },
          "metadata": {},
          "execution_count": 243
        }
      ]
    },
    {
      "cell_type": "markdown",
      "source": [
        "There are no missing values."
      ],
      "metadata": {
        "id": "rCUth4u3gXHx"
      }
    },
    {
      "cell_type": "markdown",
      "source": [
        "<h4>One-Hot encoding</h4>\n",
        "\n",
        "Since some of the variables are categorical, we need to convert them into binary/dummy variables."
      ],
      "metadata": {
        "id": "NFOkwO2aFHPE"
      }
    },
    {
      "cell_type": "code",
      "source": [
        "#Converting the categorical independent variables into dummy variables. This would split each of the affected columns into two.\n",
        "rain_df_processed = pd.get_dummies(data=rain_df, columns=['RainToday', 'WindGustDir', 'WindDir9am', 'WindDir3pm'])\n",
        "\n",
        "#Converting the $Rain_Tomorrow$ target field from a categorical field (yes/no) to a binary field (0s and 1s).\n",
        "rain_df_processed[\"RainTomorrow\"].replace([\"No\", \"Yes\"], [0,1], inplace=True)"
      ],
      "metadata": {
        "id": "EVJp6zqrWcuX"
      },
      "execution_count": null,
      "outputs": []
    },
    {
      "cell_type": "code",
      "source": [
        "rain_df_processed.RainTomorrow.value_counts()"
      ],
      "metadata": {
        "colab": {
          "base_uri": "https://localhost:8080/"
        },
        "id": "d1yIIMvodpdo",
        "outputId": "920b9a53-46c5-4583-8386-e9d7be31d7fb"
      },
      "execution_count": null,
      "outputs": [
        {
          "output_type": "execute_result",
          "data": {
            "text/plain": [
              "RainTomorrow\n",
              "0    2422\n",
              "1     849\n",
              "Name: count, dtype: int64"
            ]
          },
          "metadata": {},
          "execution_count": 245
        }
      ]
    },
    {
      "cell_type": "markdown",
      "source": [
        "<h4>Dropping columns and setting data types</h4>"
      ],
      "metadata": {
        "id": "291eyJFTecAL"
      }
    },
    {
      "cell_type": "code",
      "source": [
        "#dropping the data column, since it's not needed here.\n",
        "rain_df_processed.drop('Date', axis=1, inplace=True)\n",
        "\n",
        "#Converting all Dtypes to float for the analyses and to avoid information loss.\n",
        "rain_df_processed = rain_df_processed.astype(float)\n",
        "rain_df_processed.info()"
      ],
      "metadata": {
        "colab": {
          "base_uri": "https://localhost:8080/"
        },
        "id": "UYV9yBPOegyX",
        "outputId": "19152489-f91d-4000-c195-c624b037148c"
      },
      "execution_count": null,
      "outputs": [
        {
          "output_type": "stream",
          "name": "stdout",
          "text": [
            "<class 'pandas.core.frame.DataFrame'>\n",
            "RangeIndex: 3271 entries, 0 to 3270\n",
            "Data columns (total 68 columns):\n",
            " #   Column           Non-Null Count  Dtype  \n",
            "---  ------           --------------  -----  \n",
            " 0   MinTemp          3271 non-null   float64\n",
            " 1   MaxTemp          3271 non-null   float64\n",
            " 2   Rainfall         3271 non-null   float64\n",
            " 3   Evaporation      3271 non-null   float64\n",
            " 4   Sunshine         3271 non-null   float64\n",
            " 5   WindGustSpeed    3271 non-null   float64\n",
            " 6   WindSpeed9am     3271 non-null   float64\n",
            " 7   WindSpeed3pm     3271 non-null   float64\n",
            " 8   Humidity9am      3271 non-null   float64\n",
            " 9   Humidity3pm      3271 non-null   float64\n",
            " 10  Pressure9am      3271 non-null   float64\n",
            " 11  Pressure3pm      3271 non-null   float64\n",
            " 12  Cloud9am         3271 non-null   float64\n",
            " 13  Cloud3pm         3271 non-null   float64\n",
            " 14  Temp9am          3271 non-null   float64\n",
            " 15  Temp3pm          3271 non-null   float64\n",
            " 16  RainTomorrow     3271 non-null   float64\n",
            " 17  year             3271 non-null   float64\n",
            " 18  RainToday_No     3271 non-null   float64\n",
            " 19  RainToday_Yes    3271 non-null   float64\n",
            " 20  WindGustDir_E    3271 non-null   float64\n",
            " 21  WindGustDir_ENE  3271 non-null   float64\n",
            " 22  WindGustDir_ESE  3271 non-null   float64\n",
            " 23  WindGustDir_N    3271 non-null   float64\n",
            " 24  WindGustDir_NE   3271 non-null   float64\n",
            " 25  WindGustDir_NNE  3271 non-null   float64\n",
            " 26  WindGustDir_NNW  3271 non-null   float64\n",
            " 27  WindGustDir_NW   3271 non-null   float64\n",
            " 28  WindGustDir_S    3271 non-null   float64\n",
            " 29  WindGustDir_SE   3271 non-null   float64\n",
            " 30  WindGustDir_SSE  3271 non-null   float64\n",
            " 31  WindGustDir_SSW  3271 non-null   float64\n",
            " 32  WindGustDir_SW   3271 non-null   float64\n",
            " 33  WindGustDir_W    3271 non-null   float64\n",
            " 34  WindGustDir_WNW  3271 non-null   float64\n",
            " 35  WindGustDir_WSW  3271 non-null   float64\n",
            " 36  WindDir9am_E     3271 non-null   float64\n",
            " 37  WindDir9am_ENE   3271 non-null   float64\n",
            " 38  WindDir9am_ESE   3271 non-null   float64\n",
            " 39  WindDir9am_N     3271 non-null   float64\n",
            " 40  WindDir9am_NE    3271 non-null   float64\n",
            " 41  WindDir9am_NNE   3271 non-null   float64\n",
            " 42  WindDir9am_NNW   3271 non-null   float64\n",
            " 43  WindDir9am_NW    3271 non-null   float64\n",
            " 44  WindDir9am_S     3271 non-null   float64\n",
            " 45  WindDir9am_SE    3271 non-null   float64\n",
            " 46  WindDir9am_SSE   3271 non-null   float64\n",
            " 47  WindDir9am_SSW   3271 non-null   float64\n",
            " 48  WindDir9am_SW    3271 non-null   float64\n",
            " 49  WindDir9am_W     3271 non-null   float64\n",
            " 50  WindDir9am_WNW   3271 non-null   float64\n",
            " 51  WindDir9am_WSW   3271 non-null   float64\n",
            " 52  WindDir3pm_E     3271 non-null   float64\n",
            " 53  WindDir3pm_ENE   3271 non-null   float64\n",
            " 54  WindDir3pm_ESE   3271 non-null   float64\n",
            " 55  WindDir3pm_N     3271 non-null   float64\n",
            " 56  WindDir3pm_NE    3271 non-null   float64\n",
            " 57  WindDir3pm_NNE   3271 non-null   float64\n",
            " 58  WindDir3pm_NNW   3271 non-null   float64\n",
            " 59  WindDir3pm_NW    3271 non-null   float64\n",
            " 60  WindDir3pm_S     3271 non-null   float64\n",
            " 61  WindDir3pm_SE    3271 non-null   float64\n",
            " 62  WindDir3pm_SSE   3271 non-null   float64\n",
            " 63  WindDir3pm_SSW   3271 non-null   float64\n",
            " 64  WindDir3pm_SW    3271 non-null   float64\n",
            " 65  WindDir3pm_W     3271 non-null   float64\n",
            " 66  WindDir3pm_WNW   3271 non-null   float64\n",
            " 67  WindDir3pm_WSW   3271 non-null   float64\n",
            "dtypes: float64(68)\n",
            "memory usage: 1.7 MB\n"
          ]
        }
      ]
    },
    {
      "cell_type": "markdown",
      "source": [
        "<h4>Separation of feature and target sets</h4>"
      ],
      "metadata": {
        "id": "6okIVUgDeASd"
      }
    },
    {
      "cell_type": "code",
      "source": [
        "# Separting the features\n",
        "features = rain_df_processed.drop(\"RainTomorrow\", axis=1)\n",
        "target = rain_df_processed[\"RainTomorrow\"]"
      ],
      "metadata": {
        "id": "YN3Phf-jeGtr"
      },
      "execution_count": null,
      "outputs": []
    },
    {
      "cell_type": "markdown",
      "source": [
        "<h2 id=\"modeling\">\n",
        "  Modeling\n",
        "</h2>"
      ],
      "metadata": {
        "id": "EMOS7rnWvO7B"
      }
    },
    {
      "cell_type": "markdown",
      "source": [
        "<h3>Train/Test Data Split</h3>"
      ],
      "metadata": {
        "id": "N2W3mlzx2lIm"
      }
    },
    {
      "cell_type": "code",
      "source": [
        "#splitting the data into training and test sets(20% test and 80% train)\n",
        "x_train, x_test, y_train, y_test = train_test_split(features, target, test_size=0.2, random_state=10)\n",
        "print(x_train.shape)\n",
        "print(x_test.shape)"
      ],
      "metadata": {
        "colab": {
          "base_uri": "https://localhost:8080/"
        },
        "id": "6-cS9wCbgq94",
        "outputId": "ac5a2d8e-56cd-4c68-bbc5-40e1a2590900"
      },
      "execution_count": null,
      "outputs": [
        {
          "output_type": "stream",
          "name": "stdout",
          "text": [
            "(2616, 67)\n",
            "(655, 67)\n"
          ]
        }
      ]
    },
    {
      "cell_type": "markdown",
      "source": [
        "<h3>1. Linear Regression</h3>"
      ],
      "metadata": {
        "id": "PrEDb8xbgkDN"
      }
    },
    {
      "cell_type": "markdown",
      "source": [
        "<h4>Model building and training</h4>"
      ],
      "metadata": {
        "id": "XEOdy9v0FJWC"
      }
    },
    {
      "cell_type": "code",
      "source": [
        "#Creating a linear Regression model and fitting using the training data\n",
        "LinearReg = LinearRegression().fit(x_train, y_train)\n",
        "LinearReg"
      ],
      "metadata": {
        "colab": {
          "base_uri": "https://localhost:8080/",
          "height": 75
        },
        "id": "yZERLMwp-vf2",
        "outputId": "e9d9013a-00f6-42b3-9f1c-7a9c7ed6d63c"
      },
      "execution_count": null,
      "outputs": [
        {
          "output_type": "execute_result",
          "data": {
            "text/plain": [
              "LinearRegression()"
            ],
            "text/html": [
              "<style>#sk-container-id-11 {color: black;background-color: white;}#sk-container-id-11 pre{padding: 0;}#sk-container-id-11 div.sk-toggleable {background-color: white;}#sk-container-id-11 label.sk-toggleable__label {cursor: pointer;display: block;width: 100%;margin-bottom: 0;padding: 0.3em;box-sizing: border-box;text-align: center;}#sk-container-id-11 label.sk-toggleable__label-arrow:before {content: \"▸\";float: left;margin-right: 0.25em;color: #696969;}#sk-container-id-11 label.sk-toggleable__label-arrow:hover:before {color: black;}#sk-container-id-11 div.sk-estimator:hover label.sk-toggleable__label-arrow:before {color: black;}#sk-container-id-11 div.sk-toggleable__content {max-height: 0;max-width: 0;overflow: hidden;text-align: left;background-color: #f0f8ff;}#sk-container-id-11 div.sk-toggleable__content pre {margin: 0.2em;color: black;border-radius: 0.25em;background-color: #f0f8ff;}#sk-container-id-11 input.sk-toggleable__control:checked~div.sk-toggleable__content {max-height: 200px;max-width: 100%;overflow: auto;}#sk-container-id-11 input.sk-toggleable__control:checked~label.sk-toggleable__label-arrow:before {content: \"▾\";}#sk-container-id-11 div.sk-estimator input.sk-toggleable__control:checked~label.sk-toggleable__label {background-color: #d4ebff;}#sk-container-id-11 div.sk-label input.sk-toggleable__control:checked~label.sk-toggleable__label {background-color: #d4ebff;}#sk-container-id-11 input.sk-hidden--visually {border: 0;clip: rect(1px 1px 1px 1px);clip: rect(1px, 1px, 1px, 1px);height: 1px;margin: -1px;overflow: hidden;padding: 0;position: absolute;width: 1px;}#sk-container-id-11 div.sk-estimator {font-family: monospace;background-color: #f0f8ff;border: 1px dotted black;border-radius: 0.25em;box-sizing: border-box;margin-bottom: 0.5em;}#sk-container-id-11 div.sk-estimator:hover {background-color: #d4ebff;}#sk-container-id-11 div.sk-parallel-item::after {content: \"\";width: 100%;border-bottom: 1px solid gray;flex-grow: 1;}#sk-container-id-11 div.sk-label:hover label.sk-toggleable__label {background-color: #d4ebff;}#sk-container-id-11 div.sk-serial::before {content: \"\";position: absolute;border-left: 1px solid gray;box-sizing: border-box;top: 0;bottom: 0;left: 50%;z-index: 0;}#sk-container-id-11 div.sk-serial {display: flex;flex-direction: column;align-items: center;background-color: white;padding-right: 0.2em;padding-left: 0.2em;position: relative;}#sk-container-id-11 div.sk-item {position: relative;z-index: 1;}#sk-container-id-11 div.sk-parallel {display: flex;align-items: stretch;justify-content: center;background-color: white;position: relative;}#sk-container-id-11 div.sk-item::before, #sk-container-id-11 div.sk-parallel-item::before {content: \"\";position: absolute;border-left: 1px solid gray;box-sizing: border-box;top: 0;bottom: 0;left: 50%;z-index: -1;}#sk-container-id-11 div.sk-parallel-item {display: flex;flex-direction: column;z-index: 1;position: relative;background-color: white;}#sk-container-id-11 div.sk-parallel-item:first-child::after {align-self: flex-end;width: 50%;}#sk-container-id-11 div.sk-parallel-item:last-child::after {align-self: flex-start;width: 50%;}#sk-container-id-11 div.sk-parallel-item:only-child::after {width: 0;}#sk-container-id-11 div.sk-dashed-wrapped {border: 1px dashed gray;margin: 0 0.4em 0.5em 0.4em;box-sizing: border-box;padding-bottom: 0.4em;background-color: white;}#sk-container-id-11 div.sk-label label {font-family: monospace;font-weight: bold;display: inline-block;line-height: 1.2em;}#sk-container-id-11 div.sk-label-container {text-align: center;}#sk-container-id-11 div.sk-container {/* jupyter's `normalize.less` sets `[hidden] { display: none; }` but bootstrap.min.css set `[hidden] { display: none !important; }` so we also need the `!important` here to be able to override the default hidden behavior on the sphinx rendered scikit-learn.org. See: https://github.com/scikit-learn/scikit-learn/issues/21755 */display: inline-block !important;position: relative;}#sk-container-id-11 div.sk-text-repr-fallback {display: none;}</style><div id=\"sk-container-id-11\" class=\"sk-top-container\"><div class=\"sk-text-repr-fallback\"><pre>LinearRegression()</pre><b>In a Jupyter environment, please rerun this cell to show the HTML representation or trust the notebook. <br />On GitHub, the HTML representation is unable to render, please try loading this page with nbviewer.org.</b></div><div class=\"sk-container\" hidden><div class=\"sk-item\"><div class=\"sk-estimator sk-toggleable\"><input class=\"sk-toggleable__control sk-hidden--visually\" id=\"sk-estimator-id-11\" type=\"checkbox\" checked><label for=\"sk-estimator-id-11\" class=\"sk-toggleable__label sk-toggleable__label-arrow\">LinearRegression</label><div class=\"sk-toggleable__content\"><pre>LinearRegression()</pre></div></div></div></div></div>"
            ]
          },
          "metadata": {},
          "execution_count": 249
        }
      ]
    },
    {
      "cell_type": "markdown",
      "source": [
        "<h4>Predictions on the test data</h4>"
      ],
      "metadata": {
        "id": "w3ZgfTcKFPfU"
      }
    },
    {
      "cell_type": "code",
      "source": [
        "#using the created model for predictions with the test data\n",
        "LinearReg_predictions = LinearReg.predict(x_test)\n",
        "LinearReg_predictions[:5]"
      ],
      "metadata": {
        "colab": {
          "base_uri": "https://localhost:8080/"
        },
        "id": "PhVhGFisEoiK",
        "outputId": "ba520920-d6d0-46f2-a526-e6e0c1c5b738"
      },
      "execution_count": null,
      "outputs": [
        {
          "output_type": "execute_result",
          "data": {
            "text/plain": [
              "array([0.13232115, 0.27691091, 0.97681922, 0.28737185, 0.13557124])"
            ]
          },
          "metadata": {},
          "execution_count": 250
        }
      ]
    },
    {
      "cell_type": "markdown",
      "source": [
        "<h4>Model evaluation</h4>"
      ],
      "metadata": {
        "id": "ulgnR0hMFbDl"
      }
    },
    {
      "cell_type": "code",
      "source": [
        "#finding the mean absolute error, mean squared error, and r2 score of the model\n",
        "LinearReg_MAE = mean_absolute_error(y_test, LinearReg_predictions)\n",
        "LinearReg_MSE = mean_squared_error(y_test, LinearReg_predictions)\n",
        "LinearReg_R2 = r2_score(y_test, LinearReg_predictions)\n",
        "\n",
        "#showing the report\n",
        "LinearReg_Report = pd.DataFrame({\"LinearRegression_MAE\": [LinearReg_MAE], \"LinearRegression_MSE\": [LinearReg_MSE], \"LinearRegression_R2\": [LinearReg_R2]}, index=None)\n",
        "LinearReg_Report"
      ],
      "metadata": {
        "colab": {
          "base_uri": "https://localhost:8080/",
          "height": 89
        },
        "id": "PDUs0HymFg98",
        "outputId": "52ab26ed-62a9-4fa0-bc09-bc392a9fcd82"
      },
      "execution_count": null,
      "outputs": [
        {
          "output_type": "execute_result",
          "data": {
            "text/plain": [
              "   LinearRegression_MAE  LinearRegression_MSE  LinearRegression_R2\n",
              "0              0.256239              0.115705              0.42721"
            ],
            "text/html": [
              "\n",
              "  <div id=\"df-6bc0b611-c34c-41fb-9309-fad9c16375d9\" class=\"colab-df-container\">\n",
              "    <div>\n",
              "<style scoped>\n",
              "    .dataframe tbody tr th:only-of-type {\n",
              "        vertical-align: middle;\n",
              "    }\n",
              "\n",
              "    .dataframe tbody tr th {\n",
              "        vertical-align: top;\n",
              "    }\n",
              "\n",
              "    .dataframe thead th {\n",
              "        text-align: right;\n",
              "    }\n",
              "</style>\n",
              "<table border=\"1\" class=\"dataframe\">\n",
              "  <thead>\n",
              "    <tr style=\"text-align: right;\">\n",
              "      <th></th>\n",
              "      <th>LinearRegression_MAE</th>\n",
              "      <th>LinearRegression_MSE</th>\n",
              "      <th>LinearRegression_R2</th>\n",
              "    </tr>\n",
              "  </thead>\n",
              "  <tbody>\n",
              "    <tr>\n",
              "      <th>0</th>\n",
              "      <td>0.256239</td>\n",
              "      <td>0.115705</td>\n",
              "      <td>0.42721</td>\n",
              "    </tr>\n",
              "  </tbody>\n",
              "</table>\n",
              "</div>\n",
              "    <div class=\"colab-df-buttons\">\n",
              "\n",
              "  <div class=\"colab-df-container\">\n",
              "    <button class=\"colab-df-convert\" onclick=\"convertToInteractive('df-6bc0b611-c34c-41fb-9309-fad9c16375d9')\"\n",
              "            title=\"Convert this dataframe to an interactive table.\"\n",
              "            style=\"display:none;\">\n",
              "\n",
              "  <svg xmlns=\"http://www.w3.org/2000/svg\" height=\"24px\" viewBox=\"0 -960 960 960\">\n",
              "    <path d=\"M120-120v-720h720v720H120Zm60-500h600v-160H180v160Zm220 220h160v-160H400v160Zm0 220h160v-160H400v160ZM180-400h160v-160H180v160Zm440 0h160v-160H620v160ZM180-180h160v-160H180v160Zm440 0h160v-160H620v160Z\"/>\n",
              "  </svg>\n",
              "    </button>\n",
              "\n",
              "  <style>\n",
              "    .colab-df-container {\n",
              "      display:flex;\n",
              "      gap: 12px;\n",
              "    }\n",
              "\n",
              "    .colab-df-convert {\n",
              "      background-color: #E8F0FE;\n",
              "      border: none;\n",
              "      border-radius: 50%;\n",
              "      cursor: pointer;\n",
              "      display: none;\n",
              "      fill: #1967D2;\n",
              "      height: 32px;\n",
              "      padding: 0 0 0 0;\n",
              "      width: 32px;\n",
              "    }\n",
              "\n",
              "    .colab-df-convert:hover {\n",
              "      background-color: #E2EBFA;\n",
              "      box-shadow: 0px 1px 2px rgba(60, 64, 67, 0.3), 0px 1px 3px 1px rgba(60, 64, 67, 0.15);\n",
              "      fill: #174EA6;\n",
              "    }\n",
              "\n",
              "    .colab-df-buttons div {\n",
              "      margin-bottom: 4px;\n",
              "    }\n",
              "\n",
              "    [theme=dark] .colab-df-convert {\n",
              "      background-color: #3B4455;\n",
              "      fill: #D2E3FC;\n",
              "    }\n",
              "\n",
              "    [theme=dark] .colab-df-convert:hover {\n",
              "      background-color: #434B5C;\n",
              "      box-shadow: 0px 1px 3px 1px rgba(0, 0, 0, 0.15);\n",
              "      filter: drop-shadow(0px 1px 2px rgba(0, 0, 0, 0.3));\n",
              "      fill: #FFFFFF;\n",
              "    }\n",
              "  </style>\n",
              "\n",
              "    <script>\n",
              "      const buttonEl =\n",
              "        document.querySelector('#df-6bc0b611-c34c-41fb-9309-fad9c16375d9 button.colab-df-convert');\n",
              "      buttonEl.style.display =\n",
              "        google.colab.kernel.accessAllowed ? 'block' : 'none';\n",
              "\n",
              "      async function convertToInteractive(key) {\n",
              "        const element = document.querySelector('#df-6bc0b611-c34c-41fb-9309-fad9c16375d9');\n",
              "        const dataTable =\n",
              "          await google.colab.kernel.invokeFunction('convertToInteractive',\n",
              "                                                    [key], {});\n",
              "        if (!dataTable) return;\n",
              "\n",
              "        const docLinkHtml = 'Like what you see? Visit the ' +\n",
              "          '<a target=\"_blank\" href=https://colab.research.google.com/notebooks/data_table.ipynb>data table notebook</a>'\n",
              "          + ' to learn more about interactive tables.';\n",
              "        element.innerHTML = '';\n",
              "        dataTable['output_type'] = 'display_data';\n",
              "        await google.colab.output.renderOutput(dataTable, element);\n",
              "        const docLink = document.createElement('div');\n",
              "        docLink.innerHTML = docLinkHtml;\n",
              "        element.appendChild(docLink);\n",
              "      }\n",
              "    </script>\n",
              "  </div>\n",
              "\n",
              "\n",
              "  <div id=\"id_72f6152d-a856-40ce-816c-1bbc1e76219c\">\n",
              "    <style>\n",
              "      .colab-df-generate {\n",
              "        background-color: #E8F0FE;\n",
              "        border: none;\n",
              "        border-radius: 50%;\n",
              "        cursor: pointer;\n",
              "        display: none;\n",
              "        fill: #1967D2;\n",
              "        height: 32px;\n",
              "        padding: 0 0 0 0;\n",
              "        width: 32px;\n",
              "      }\n",
              "\n",
              "      .colab-df-generate:hover {\n",
              "        background-color: #E2EBFA;\n",
              "        box-shadow: 0px 1px 2px rgba(60, 64, 67, 0.3), 0px 1px 3px 1px rgba(60, 64, 67, 0.15);\n",
              "        fill: #174EA6;\n",
              "      }\n",
              "\n",
              "      [theme=dark] .colab-df-generate {\n",
              "        background-color: #3B4455;\n",
              "        fill: #D2E3FC;\n",
              "      }\n",
              "\n",
              "      [theme=dark] .colab-df-generate:hover {\n",
              "        background-color: #434B5C;\n",
              "        box-shadow: 0px 1px 3px 1px rgba(0, 0, 0, 0.15);\n",
              "        filter: drop-shadow(0px 1px 2px rgba(0, 0, 0, 0.3));\n",
              "        fill: #FFFFFF;\n",
              "      }\n",
              "    </style>\n",
              "    <button class=\"colab-df-generate\" onclick=\"generateWithVariable('LinearReg_Report')\"\n",
              "            title=\"Generate code using this dataframe.\"\n",
              "            style=\"display:none;\">\n",
              "\n",
              "  <svg xmlns=\"http://www.w3.org/2000/svg\" height=\"24px\"viewBox=\"0 0 24 24\"\n",
              "       width=\"24px\">\n",
              "    <path d=\"M7,19H8.4L18.45,9,17,7.55,7,17.6ZM5,21V16.75L18.45,3.32a2,2,0,0,1,2.83,0l1.4,1.43a1.91,1.91,0,0,1,.58,1.4,1.91,1.91,0,0,1-.58,1.4L9.25,21ZM18.45,9,17,7.55Zm-12,3A5.31,5.31,0,0,0,4.9,8.1,5.31,5.31,0,0,0,1,6.5,5.31,5.31,0,0,0,4.9,4.9,5.31,5.31,0,0,0,6.5,1,5.31,5.31,0,0,0,8.1,4.9,5.31,5.31,0,0,0,12,6.5,5.46,5.46,0,0,0,6.5,12Z\"/>\n",
              "  </svg>\n",
              "    </button>\n",
              "    <script>\n",
              "      (() => {\n",
              "      const buttonEl =\n",
              "        document.querySelector('#id_72f6152d-a856-40ce-816c-1bbc1e76219c button.colab-df-generate');\n",
              "      buttonEl.style.display =\n",
              "        google.colab.kernel.accessAllowed ? 'block' : 'none';\n",
              "\n",
              "      buttonEl.onclick = () => {\n",
              "        google.colab.notebook.generateWithVariable('LinearReg_Report');\n",
              "      }\n",
              "      })();\n",
              "    </script>\n",
              "  </div>\n",
              "\n",
              "    </div>\n",
              "  </div>\n"
            ],
            "application/vnd.google.colaboratory.intrinsic+json": {
              "type": "dataframe",
              "variable_name": "LinearReg_Report",
              "summary": "{\n  \"name\": \"LinearReg_Report\",\n  \"rows\": 1,\n  \"fields\": [\n    {\n      \"column\": \"LinearRegression_MAE\",\n      \"properties\": {\n        \"dtype\": \"number\",\n        \"std\": null,\n        \"min\": 0.2562393204621952,\n        \"max\": 0.2562393204621952,\n        \"num_unique_values\": 1,\n        \"samples\": [\n          0.2562393204621952\n        ],\n        \"semantic_type\": \"\",\n        \"description\": \"\"\n      }\n    },\n    {\n      \"column\": \"LinearRegression_MSE\",\n      \"properties\": {\n        \"dtype\": \"number\",\n        \"std\": null,\n        \"min\": 0.11570485941803785,\n        \"max\": 0.11570485941803785,\n        \"num_unique_values\": 1,\n        \"samples\": [\n          0.11570485941803785\n        ],\n        \"semantic_type\": \"\",\n        \"description\": \"\"\n      }\n    },\n    {\n      \"column\": \"LinearRegression_R2\",\n      \"properties\": {\n        \"dtype\": \"number\",\n        \"std\": null,\n        \"min\": 0.4272099451695779,\n        \"max\": 0.4272099451695779,\n        \"num_unique_values\": 1,\n        \"samples\": [\n          0.4272099451695779\n        ],\n        \"semantic_type\": \"\",\n        \"description\": \"\"\n      }\n    }\n  ]\n}"
            }
          },
          "metadata": {},
          "execution_count": 251
        }
      ]
    },
    {
      "cell_type": "markdown",
      "source": [
        "<h3>2. K-Nearest Neighbors</h3>"
      ],
      "metadata": {
        "id": "ypPsS7Y4Nwxv"
      }
    },
    {
      "cell_type": "markdown",
      "source": [
        "<h4>Model building and training</h4>"
      ],
      "metadata": {
        "id": "tB8FbjeSOZKn"
      }
    },
    {
      "cell_type": "code",
      "source": [
        "#creating a KNN model and fitting using the training data\n",
        "KNN = KNeighborsClassifier(n_neighbors=4).fit(x_train, y_train)\n",
        "KNN"
      ],
      "metadata": {
        "colab": {
          "base_uri": "https://localhost:8080/",
          "height": 75
        },
        "id": "A-blUm9BGoi2",
        "outputId": "cbd16738-edf9-4a4c-8c10-e89fe3c06a76"
      },
      "execution_count": null,
      "outputs": [
        {
          "output_type": "execute_result",
          "data": {
            "text/plain": [
              "KNeighborsClassifier(n_neighbors=4)"
            ],
            "text/html": [
              "<style>#sk-container-id-12 {color: black;background-color: white;}#sk-container-id-12 pre{padding: 0;}#sk-container-id-12 div.sk-toggleable {background-color: white;}#sk-container-id-12 label.sk-toggleable__label {cursor: pointer;display: block;width: 100%;margin-bottom: 0;padding: 0.3em;box-sizing: border-box;text-align: center;}#sk-container-id-12 label.sk-toggleable__label-arrow:before {content: \"▸\";float: left;margin-right: 0.25em;color: #696969;}#sk-container-id-12 label.sk-toggleable__label-arrow:hover:before {color: black;}#sk-container-id-12 div.sk-estimator:hover label.sk-toggleable__label-arrow:before {color: black;}#sk-container-id-12 div.sk-toggleable__content {max-height: 0;max-width: 0;overflow: hidden;text-align: left;background-color: #f0f8ff;}#sk-container-id-12 div.sk-toggleable__content pre {margin: 0.2em;color: black;border-radius: 0.25em;background-color: #f0f8ff;}#sk-container-id-12 input.sk-toggleable__control:checked~div.sk-toggleable__content {max-height: 200px;max-width: 100%;overflow: auto;}#sk-container-id-12 input.sk-toggleable__control:checked~label.sk-toggleable__label-arrow:before {content: \"▾\";}#sk-container-id-12 div.sk-estimator input.sk-toggleable__control:checked~label.sk-toggleable__label {background-color: #d4ebff;}#sk-container-id-12 div.sk-label input.sk-toggleable__control:checked~label.sk-toggleable__label {background-color: #d4ebff;}#sk-container-id-12 input.sk-hidden--visually {border: 0;clip: rect(1px 1px 1px 1px);clip: rect(1px, 1px, 1px, 1px);height: 1px;margin: -1px;overflow: hidden;padding: 0;position: absolute;width: 1px;}#sk-container-id-12 div.sk-estimator {font-family: monospace;background-color: #f0f8ff;border: 1px dotted black;border-radius: 0.25em;box-sizing: border-box;margin-bottom: 0.5em;}#sk-container-id-12 div.sk-estimator:hover {background-color: #d4ebff;}#sk-container-id-12 div.sk-parallel-item::after {content: \"\";width: 100%;border-bottom: 1px solid gray;flex-grow: 1;}#sk-container-id-12 div.sk-label:hover label.sk-toggleable__label {background-color: #d4ebff;}#sk-container-id-12 div.sk-serial::before {content: \"\";position: absolute;border-left: 1px solid gray;box-sizing: border-box;top: 0;bottom: 0;left: 50%;z-index: 0;}#sk-container-id-12 div.sk-serial {display: flex;flex-direction: column;align-items: center;background-color: white;padding-right: 0.2em;padding-left: 0.2em;position: relative;}#sk-container-id-12 div.sk-item {position: relative;z-index: 1;}#sk-container-id-12 div.sk-parallel {display: flex;align-items: stretch;justify-content: center;background-color: white;position: relative;}#sk-container-id-12 div.sk-item::before, #sk-container-id-12 div.sk-parallel-item::before {content: \"\";position: absolute;border-left: 1px solid gray;box-sizing: border-box;top: 0;bottom: 0;left: 50%;z-index: -1;}#sk-container-id-12 div.sk-parallel-item {display: flex;flex-direction: column;z-index: 1;position: relative;background-color: white;}#sk-container-id-12 div.sk-parallel-item:first-child::after {align-self: flex-end;width: 50%;}#sk-container-id-12 div.sk-parallel-item:last-child::after {align-self: flex-start;width: 50%;}#sk-container-id-12 div.sk-parallel-item:only-child::after {width: 0;}#sk-container-id-12 div.sk-dashed-wrapped {border: 1px dashed gray;margin: 0 0.4em 0.5em 0.4em;box-sizing: border-box;padding-bottom: 0.4em;background-color: white;}#sk-container-id-12 div.sk-label label {font-family: monospace;font-weight: bold;display: inline-block;line-height: 1.2em;}#sk-container-id-12 div.sk-label-container {text-align: center;}#sk-container-id-12 div.sk-container {/* jupyter's `normalize.less` sets `[hidden] { display: none; }` but bootstrap.min.css set `[hidden] { display: none !important; }` so we also need the `!important` here to be able to override the default hidden behavior on the sphinx rendered scikit-learn.org. See: https://github.com/scikit-learn/scikit-learn/issues/21755 */display: inline-block !important;position: relative;}#sk-container-id-12 div.sk-text-repr-fallback {display: none;}</style><div id=\"sk-container-id-12\" class=\"sk-top-container\"><div class=\"sk-text-repr-fallback\"><pre>KNeighborsClassifier(n_neighbors=4)</pre><b>In a Jupyter environment, please rerun this cell to show the HTML representation or trust the notebook. <br />On GitHub, the HTML representation is unable to render, please try loading this page with nbviewer.org.</b></div><div class=\"sk-container\" hidden><div class=\"sk-item\"><div class=\"sk-estimator sk-toggleable\"><input class=\"sk-toggleable__control sk-hidden--visually\" id=\"sk-estimator-id-12\" type=\"checkbox\" checked><label for=\"sk-estimator-id-12\" class=\"sk-toggleable__label sk-toggleable__label-arrow\">KNeighborsClassifier</label><div class=\"sk-toggleable__content\"><pre>KNeighborsClassifier(n_neighbors=4)</pre></div></div></div></div></div>"
            ]
          },
          "metadata": {},
          "execution_count": 252
        }
      ]
    },
    {
      "cell_type": "markdown",
      "source": [
        "<h4>Predictions on the test data</h4>"
      ],
      "metadata": {
        "id": "4VaBNbbaPE6n"
      }
    },
    {
      "cell_type": "code",
      "source": [
        "KNN_predictions = KNN.predict(x_test)\n",
        "KNN_predictions[:5]"
      ],
      "metadata": {
        "colab": {
          "base_uri": "https://localhost:8080/"
        },
        "outputId": "93ec7ee2-dc01-48ca-aefe-cbdef2c6c7a0",
        "id": "tsoCgpWVPE60"
      },
      "execution_count": null,
      "outputs": [
        {
          "output_type": "execute_result",
          "data": {
            "text/plain": [
              "array([0., 0., 1., 0., 0.])"
            ]
          },
          "metadata": {},
          "execution_count": 253
        }
      ]
    },
    {
      "cell_type": "markdown",
      "source": [
        "<h4>Model evaluation</h4>"
      ],
      "metadata": {
        "id": "xC14D7krPE60"
      }
    },
    {
      "cell_type": "code",
      "source": [
        "#obtaining the f1 score, accuracy score and Jaccard index\n",
        "\n",
        "KNN_Accuracy_Score = accuracy_score(y_test, KNN_predictions)\n",
        "KNN_JaccardIndex = jaccard_score(y_test, KNN_predictions)\n",
        "KNN_F1_Score = f1_score(y_test, KNN_predictions)\n",
        "\n",
        "#showing the report\n",
        "KNN_report = pd.DataFrame({\"Accuracy Score\": [KNN_Accuracy_Score], \"Jaccard Index\": [KNN_JaccardIndex], \"F1 Score\": [KNN_F1_Score]})\n",
        "KNN_report"
      ],
      "metadata": {
        "colab": {
          "base_uri": "https://localhost:8080/",
          "height": 89
        },
        "outputId": "9113a710-3d14-4ea9-f1c9-ec542672e0bd",
        "id": "cuhQsWrrPE61"
      },
      "execution_count": null,
      "outputs": [
        {
          "output_type": "execute_result",
          "data": {
            "text/plain": [
              "   Accuracy Score  Jaccard Index  F1 Score\n",
              "0        0.819847       0.435407  0.606667"
            ],
            "text/html": [
              "\n",
              "  <div id=\"df-7ee02c1d-7bed-4344-bb55-578e53ab2ffc\" class=\"colab-df-container\">\n",
              "    <div>\n",
              "<style scoped>\n",
              "    .dataframe tbody tr th:only-of-type {\n",
              "        vertical-align: middle;\n",
              "    }\n",
              "\n",
              "    .dataframe tbody tr th {\n",
              "        vertical-align: top;\n",
              "    }\n",
              "\n",
              "    .dataframe thead th {\n",
              "        text-align: right;\n",
              "    }\n",
              "</style>\n",
              "<table border=\"1\" class=\"dataframe\">\n",
              "  <thead>\n",
              "    <tr style=\"text-align: right;\">\n",
              "      <th></th>\n",
              "      <th>Accuracy Score</th>\n",
              "      <th>Jaccard Index</th>\n",
              "      <th>F1 Score</th>\n",
              "    </tr>\n",
              "  </thead>\n",
              "  <tbody>\n",
              "    <tr>\n",
              "      <th>0</th>\n",
              "      <td>0.819847</td>\n",
              "      <td>0.435407</td>\n",
              "      <td>0.606667</td>\n",
              "    </tr>\n",
              "  </tbody>\n",
              "</table>\n",
              "</div>\n",
              "    <div class=\"colab-df-buttons\">\n",
              "\n",
              "  <div class=\"colab-df-container\">\n",
              "    <button class=\"colab-df-convert\" onclick=\"convertToInteractive('df-7ee02c1d-7bed-4344-bb55-578e53ab2ffc')\"\n",
              "            title=\"Convert this dataframe to an interactive table.\"\n",
              "            style=\"display:none;\">\n",
              "\n",
              "  <svg xmlns=\"http://www.w3.org/2000/svg\" height=\"24px\" viewBox=\"0 -960 960 960\">\n",
              "    <path d=\"M120-120v-720h720v720H120Zm60-500h600v-160H180v160Zm220 220h160v-160H400v160Zm0 220h160v-160H400v160ZM180-400h160v-160H180v160Zm440 0h160v-160H620v160ZM180-180h160v-160H180v160Zm440 0h160v-160H620v160Z\"/>\n",
              "  </svg>\n",
              "    </button>\n",
              "\n",
              "  <style>\n",
              "    .colab-df-container {\n",
              "      display:flex;\n",
              "      gap: 12px;\n",
              "    }\n",
              "\n",
              "    .colab-df-convert {\n",
              "      background-color: #E8F0FE;\n",
              "      border: none;\n",
              "      border-radius: 50%;\n",
              "      cursor: pointer;\n",
              "      display: none;\n",
              "      fill: #1967D2;\n",
              "      height: 32px;\n",
              "      padding: 0 0 0 0;\n",
              "      width: 32px;\n",
              "    }\n",
              "\n",
              "    .colab-df-convert:hover {\n",
              "      background-color: #E2EBFA;\n",
              "      box-shadow: 0px 1px 2px rgba(60, 64, 67, 0.3), 0px 1px 3px 1px rgba(60, 64, 67, 0.15);\n",
              "      fill: #174EA6;\n",
              "    }\n",
              "\n",
              "    .colab-df-buttons div {\n",
              "      margin-bottom: 4px;\n",
              "    }\n",
              "\n",
              "    [theme=dark] .colab-df-convert {\n",
              "      background-color: #3B4455;\n",
              "      fill: #D2E3FC;\n",
              "    }\n",
              "\n",
              "    [theme=dark] .colab-df-convert:hover {\n",
              "      background-color: #434B5C;\n",
              "      box-shadow: 0px 1px 3px 1px rgba(0, 0, 0, 0.15);\n",
              "      filter: drop-shadow(0px 1px 2px rgba(0, 0, 0, 0.3));\n",
              "      fill: #FFFFFF;\n",
              "    }\n",
              "  </style>\n",
              "\n",
              "    <script>\n",
              "      const buttonEl =\n",
              "        document.querySelector('#df-7ee02c1d-7bed-4344-bb55-578e53ab2ffc button.colab-df-convert');\n",
              "      buttonEl.style.display =\n",
              "        google.colab.kernel.accessAllowed ? 'block' : 'none';\n",
              "\n",
              "      async function convertToInteractive(key) {\n",
              "        const element = document.querySelector('#df-7ee02c1d-7bed-4344-bb55-578e53ab2ffc');\n",
              "        const dataTable =\n",
              "          await google.colab.kernel.invokeFunction('convertToInteractive',\n",
              "                                                    [key], {});\n",
              "        if (!dataTable) return;\n",
              "\n",
              "        const docLinkHtml = 'Like what you see? Visit the ' +\n",
              "          '<a target=\"_blank\" href=https://colab.research.google.com/notebooks/data_table.ipynb>data table notebook</a>'\n",
              "          + ' to learn more about interactive tables.';\n",
              "        element.innerHTML = '';\n",
              "        dataTable['output_type'] = 'display_data';\n",
              "        await google.colab.output.renderOutput(dataTable, element);\n",
              "        const docLink = document.createElement('div');\n",
              "        docLink.innerHTML = docLinkHtml;\n",
              "        element.appendChild(docLink);\n",
              "      }\n",
              "    </script>\n",
              "  </div>\n",
              "\n",
              "\n",
              "  <div id=\"id_3ea5686e-28c9-4eb8-884b-910f2c7daeba\">\n",
              "    <style>\n",
              "      .colab-df-generate {\n",
              "        background-color: #E8F0FE;\n",
              "        border: none;\n",
              "        border-radius: 50%;\n",
              "        cursor: pointer;\n",
              "        display: none;\n",
              "        fill: #1967D2;\n",
              "        height: 32px;\n",
              "        padding: 0 0 0 0;\n",
              "        width: 32px;\n",
              "      }\n",
              "\n",
              "      .colab-df-generate:hover {\n",
              "        background-color: #E2EBFA;\n",
              "        box-shadow: 0px 1px 2px rgba(60, 64, 67, 0.3), 0px 1px 3px 1px rgba(60, 64, 67, 0.15);\n",
              "        fill: #174EA6;\n",
              "      }\n",
              "\n",
              "      [theme=dark] .colab-df-generate {\n",
              "        background-color: #3B4455;\n",
              "        fill: #D2E3FC;\n",
              "      }\n",
              "\n",
              "      [theme=dark] .colab-df-generate:hover {\n",
              "        background-color: #434B5C;\n",
              "        box-shadow: 0px 1px 3px 1px rgba(0, 0, 0, 0.15);\n",
              "        filter: drop-shadow(0px 1px 2px rgba(0, 0, 0, 0.3));\n",
              "        fill: #FFFFFF;\n",
              "      }\n",
              "    </style>\n",
              "    <button class=\"colab-df-generate\" onclick=\"generateWithVariable('KNN_report')\"\n",
              "            title=\"Generate code using this dataframe.\"\n",
              "            style=\"display:none;\">\n",
              "\n",
              "  <svg xmlns=\"http://www.w3.org/2000/svg\" height=\"24px\"viewBox=\"0 0 24 24\"\n",
              "       width=\"24px\">\n",
              "    <path d=\"M7,19H8.4L18.45,9,17,7.55,7,17.6ZM5,21V16.75L18.45,3.32a2,2,0,0,1,2.83,0l1.4,1.43a1.91,1.91,0,0,1,.58,1.4,1.91,1.91,0,0,1-.58,1.4L9.25,21ZM18.45,9,17,7.55Zm-12,3A5.31,5.31,0,0,0,4.9,8.1,5.31,5.31,0,0,0,1,6.5,5.31,5.31,0,0,0,4.9,4.9,5.31,5.31,0,0,0,6.5,1,5.31,5.31,0,0,0,8.1,4.9,5.31,5.31,0,0,0,12,6.5,5.46,5.46,0,0,0,6.5,12Z\"/>\n",
              "  </svg>\n",
              "    </button>\n",
              "    <script>\n",
              "      (() => {\n",
              "      const buttonEl =\n",
              "        document.querySelector('#id_3ea5686e-28c9-4eb8-884b-910f2c7daeba button.colab-df-generate');\n",
              "      buttonEl.style.display =\n",
              "        google.colab.kernel.accessAllowed ? 'block' : 'none';\n",
              "\n",
              "      buttonEl.onclick = () => {\n",
              "        google.colab.notebook.generateWithVariable('KNN_report');\n",
              "      }\n",
              "      })();\n",
              "    </script>\n",
              "  </div>\n",
              "\n",
              "    </div>\n",
              "  </div>\n"
            ],
            "application/vnd.google.colaboratory.intrinsic+json": {
              "type": "dataframe",
              "variable_name": "KNN_report",
              "summary": "{\n  \"name\": \"KNN_report\",\n  \"rows\": 1,\n  \"fields\": [\n    {\n      \"column\": \"Accuracy Score\",\n      \"properties\": {\n        \"dtype\": \"number\",\n        \"std\": null,\n        \"min\": 0.8198473282442749,\n        \"max\": 0.8198473282442749,\n        \"num_unique_values\": 1,\n        \"samples\": [\n          0.8198473282442749\n        ],\n        \"semantic_type\": \"\",\n        \"description\": \"\"\n      }\n    },\n    {\n      \"column\": \"Jaccard Index\",\n      \"properties\": {\n        \"dtype\": \"number\",\n        \"std\": null,\n        \"min\": 0.4354066985645933,\n        \"max\": 0.4354066985645933,\n        \"num_unique_values\": 1,\n        \"samples\": [\n          0.4354066985645933\n        ],\n        \"semantic_type\": \"\",\n        \"description\": \"\"\n      }\n    },\n    {\n      \"column\": \"F1 Score\",\n      \"properties\": {\n        \"dtype\": \"number\",\n        \"std\": null,\n        \"min\": 0.6066666666666667,\n        \"max\": 0.6066666666666667,\n        \"num_unique_values\": 1,\n        \"samples\": [\n          0.6066666666666667\n        ],\n        \"semantic_type\": \"\",\n        \"description\": \"\"\n      }\n    }\n  ]\n}"
            }
          },
          "metadata": {},
          "execution_count": 254
        }
      ]
    },
    {
      "cell_type": "markdown",
      "source": [
        "<h5><b>Confusion matrix</b></h5>"
      ],
      "metadata": {
        "id": "uCC00aNdaVvY"
      }
    },
    {
      "cell_type": "code",
      "source": [
        "#function for plotting the confusion matrix using a heatmap\n",
        "def plot_cf_matrix(cf, plot_title, f1_score, cmap):\n",
        "  group_counts = [\"{0:0.0f}\".format(value) for value in\n",
        "                  cf.flatten()]\n",
        "  group_percentages = [\"{0:.2%}\".format(value) for value in\n",
        "                      cf.flatten()/np.sum(cf)]\n",
        "  #list comprehension\n",
        "  labels = [f\"{v1}\\n{v2}\" for v1, v2 in\n",
        "            zip(group_counts,group_percentages)]\n",
        "  #reshaping the labels into a 2,2 matrix to fit the confusion matrix\n",
        "  labels = np.asarray(labels).reshape(2,2)\n",
        "  #plotting the matrix\n",
        "  plt.figure(figsize=(10, 6))\n",
        "  sns.heatmap(cf, annot=labels, fmt='', cmap=cmap)\n",
        "  plt.title(f\"\\n{plot_title}\\n\")\n",
        "  plt.xlabel(\"Predicted label \\n\\n F1 score = {:.3f}\\n\\n\".format(f1_score))\n",
        "  plt.ylabel(\"True label\")\n",
        "  plt.show()"
      ],
      "metadata": {
        "id": "gQOMYz6jdvC9"
      },
      "execution_count": null,
      "outputs": []
    },
    {
      "cell_type": "code",
      "source": [
        "cf_matrix_KNN = confusion_matrix(y_test, KNN_predictions)\n",
        "\n",
        "matrix_KNN = plot_cf_matrix(cf=cf_matrix_KNN, plot_title=\"Confusion Matrix for the KNN Model\", f1_score = KNN_F1_Score, cmap=\"Blues\")\n",
        "matrix_KNN"
      ],
      "metadata": {
        "id": "wDJ7h63ZaRjV",
        "colab": {
          "base_uri": "https://localhost:8080/",
          "height": 696
        },
        "outputId": "507aae79-8956-4c41-8bd4-cd61da871c45"
      },
      "execution_count": null,
      "outputs": [
        {
          "output_type": "display_data",
          "data": {
            "text/plain": [
              "<Figure size 1000x600 with 2 Axes>"
            ],
            "image/png": "[encoded data removed]"
          },
          "metadata": {}
        }
      ]
    },
    {
      "cell_type": "markdown",
      "source": [
        "<h3>3. Decision Tree</h3>"
      ],
      "metadata": {
        "id": "xckJue8BR-Zc"
      }
    },
    {
      "cell_type": "markdown",
      "source": [
        "<h4>Model building and training</h4>"
      ],
      "metadata": {
        "id": "m9ZpHLzYR-Zk"
      }
    },
    {
      "cell_type": "code",
      "source": [
        "#creating a Decision Tree model and fitting using the training data\n",
        "Tree = DecisionTreeClassifier(criterion=\"entropy\", max_depth=4)\n",
        "Tree.fit(x_train, y_train)"
      ],
      "metadata": {
        "colab": {
          "base_uri": "https://localhost:8080/",
          "height": 75
        },
        "outputId": "0cde5ba5-0dcf-40bc-cee3-3d68c83779b2",
        "id": "aFuGrC7IR-Zk"
      },
      "execution_count": null,
      "outputs": [
        {
          "output_type": "execute_result",
          "data": {
            "text/plain": [
              "DecisionTreeClassifier(criterion='entropy', max_depth=4)"
            ],
            "text/html": [
              "<style>#sk-container-id-13 {color: black;background-color: white;}#sk-container-id-13 pre{padding: 0;}#sk-container-id-13 div.sk-toggleable {background-color: white;}#sk-container-id-13 label.sk-toggleable__label {cursor: pointer;display: block;width: 100%;margin-bottom: 0;padding: 0.3em;box-sizing: border-box;text-align: center;}#sk-container-id-13 label.sk-toggleable__label-arrow:before {content: \"▸\";float: left;margin-right: 0.25em;color: #696969;}#sk-container-id-13 label.sk-toggleable__label-arrow:hover:before {color: black;}#sk-container-id-13 div.sk-estimator:hover label.sk-toggleable__label-arrow:before {color: black;}#sk-container-id-13 div.sk-toggleable__content {max-height: 0;max-width: 0;overflow: hidden;text-align: left;background-color: #f0f8ff;}#sk-container-id-13 div.sk-toggleable__content pre {margin: 0.2em;color: black;border-radius: 0.25em;background-color: #f0f8ff;}#sk-container-id-13 input.sk-toggleable__control:checked~div.sk-toggleable__content {max-height: 200px;max-width: 100%;overflow: auto;}#sk-container-id-13 input.sk-toggleable__control:checked~label.sk-toggleable__label-arrow:before {content: \"▾\";}#sk-container-id-13 div.sk-estimator input.sk-toggleable__control:checked~label.sk-toggleable__label {background-color: #d4ebff;}#sk-container-id-13 div.sk-label input.sk-toggleable__control:checked~label.sk-toggleable__label {background-color: #d4ebff;}#sk-container-id-13 input.sk-hidden--visually {border: 0;clip: rect(1px 1px 1px 1px);clip: rect(1px, 1px, 1px, 1px);height: 1px;margin: -1px;overflow: hidden;padding: 0;position: absolute;width: 1px;}#sk-container-id-13 div.sk-estimator {font-family: monospace;background-color: #f0f8ff;border: 1px dotted black;border-radius: 0.25em;box-sizing: border-box;margin-bottom: 0.5em;}#sk-container-id-13 div.sk-estimator:hover {background-color: #d4ebff;}#sk-container-id-13 div.sk-parallel-item::after {content: \"\";width: 100%;border-bottom: 1px solid gray;flex-grow: 1;}#sk-container-id-13 div.sk-label:hover label.sk-toggleable__label {background-color: #d4ebff;}#sk-container-id-13 div.sk-serial::before {content: \"\";position: absolute;border-left: 1px solid gray;box-sizing: border-box;top: 0;bottom: 0;left: 50%;z-index: 0;}#sk-container-id-13 div.sk-serial {display: flex;flex-direction: column;align-items: center;background-color: white;padding-right: 0.2em;padding-left: 0.2em;position: relative;}#sk-container-id-13 div.sk-item {position: relative;z-index: 1;}#sk-container-id-13 div.sk-parallel {display: flex;align-items: stretch;justify-content: center;background-color: white;position: relative;}#sk-container-id-13 div.sk-item::before, #sk-container-id-13 div.sk-parallel-item::before {content: \"\";position: absolute;border-left: 1px solid gray;box-sizing: border-box;top: 0;bottom: 0;left: 50%;z-index: -1;}#sk-container-id-13 div.sk-parallel-item {display: flex;flex-direction: column;z-index: 1;position: relative;background-color: white;}#sk-container-id-13 div.sk-parallel-item:first-child::after {align-self: flex-end;width: 50%;}#sk-container-id-13 div.sk-parallel-item:last-child::after {align-self: flex-start;width: 50%;}#sk-container-id-13 div.sk-parallel-item:only-child::after {width: 0;}#sk-container-id-13 div.sk-dashed-wrapped {border: 1px dashed gray;margin: 0 0.4em 0.5em 0.4em;box-sizing: border-box;padding-bottom: 0.4em;background-color: white;}#sk-container-id-13 div.sk-label label {font-family: monospace;font-weight: bold;display: inline-block;line-height: 1.2em;}#sk-container-id-13 div.sk-label-container {text-align: center;}#sk-container-id-13 div.sk-container {/* jupyter's `normalize.less` sets `[hidden] { display: none; }` but bootstrap.min.css set `[hidden] { display: none !important; }` so we also need the `!important` here to be able to override the default hidden behavior on the sphinx rendered scikit-learn.org. See: https://github.com/scikit-learn/scikit-learn/issues/21755 */display: inline-block !important;position: relative;}#sk-container-id-13 div.sk-text-repr-fallback {display: none;}</style><div id=\"sk-container-id-13\" class=\"sk-top-container\"><div class=\"sk-text-repr-fallback\"><pre>DecisionTreeClassifier(criterion=&#x27;entropy&#x27;, max_depth=4)</pre><b>In a Jupyter environment, please rerun this cell to show the HTML representation or trust the notebook. <br />On GitHub, the HTML representation is unable to render, please try loading this page with nbviewer.org.</b></div><div class=\"sk-container\" hidden><div class=\"sk-item\"><div class=\"sk-estimator sk-toggleable\"><input class=\"sk-toggleable__control sk-hidden--visually\" id=\"sk-estimator-id-13\" type=\"checkbox\" checked><label for=\"sk-estimator-id-13\" class=\"sk-toggleable__label sk-toggleable__label-arrow\">DecisionTreeClassifier</label><div class=\"sk-toggleable__content\"><pre>DecisionTreeClassifier(criterion=&#x27;entropy&#x27;, max_depth=4)</pre></div></div></div></div></div>"
            ]
          },
          "metadata": {},
          "execution_count": 257
        }
      ]
    },
    {
      "cell_type": "markdown",
      "source": [
        "<h4>Predictions on the test data</h4>"
      ],
      "metadata": {
        "id": "TdAWhBBtR-Zk"
      }
    },
    {
      "cell_type": "code",
      "source": [
        "Tree_predictions = Tree.predict(x_test)\n",
        "Tree_predictions[:5]"
      ],
      "metadata": {
        "colab": {
          "base_uri": "https://localhost:8080/"
        },
        "outputId": "798ba3a4-96cf-4f4b-e1ed-90068b604722",
        "id": "Qgg72sgqR-Zl"
      },
      "execution_count": null,
      "outputs": [
        {
          "output_type": "execute_result",
          "data": {
            "text/plain": [
              "array([0., 0., 1., 0., 0.])"
            ]
          },
          "metadata": {},
          "execution_count": 258
        }
      ]
    },
    {
      "cell_type": "markdown",
      "source": [
        "<h4>Model evaluation</h4>"
      ],
      "metadata": {
        "id": "VYk8eA38R-Zl"
      }
    },
    {
      "cell_type": "code",
      "source": [
        "#obtaining the f1 score, accuracy score and Jaccard index\n",
        "\n",
        "Tree_Accuracy_Score = accuracy_score(y_test, Tree_predictions)\n",
        "Tree_JaccardIndex = jaccard_score(y_test, Tree_predictions)\n",
        "Tree_F1_Score = f1_score(y_test, Tree_predictions)\n",
        "\n",
        "#showing the report\n",
        "Tree_report = pd.DataFrame({\"Accuracy Score\": [Tree_Accuracy_Score], \"Jaccard Index\": [Tree_JaccardIndex], \"F1 Score\": [Tree_F1_Score]})\n",
        "Tree_report"
      ],
      "metadata": {
        "colab": {
          "base_uri": "https://localhost:8080/",
          "height": 89
        },
        "outputId": "b0f4cc6a-0756-49d5-8680-1bf2a747232e",
        "id": "JbGN34FRR-Zl"
      },
      "execution_count": null,
      "outputs": [
        {
          "output_type": "execute_result",
          "data": {
            "text/plain": [
              "   Accuracy Score  Jaccard Index  F1 Score\n",
              "0        0.819847       0.473214  0.642424"
            ],
            "text/html": [
              "\n",
              "  <div id=\"df-c3ec8ee8-4385-44ac-b5ea-1b3ffb3d1767\" class=\"colab-df-container\">\n",
              "    <div>\n",
              "<style scoped>\n",
              "    .dataframe tbody tr th:only-of-type {\n",
              "        vertical-align: middle;\n",
              "    }\n",
              "\n",
              "    .dataframe tbody tr th {\n",
              "        vertical-align: top;\n",
              "    }\n",
              "\n",
              "    .dataframe thead th {\n",
              "        text-align: right;\n",
              "    }\n",
              "</style>\n",
              "<table border=\"1\" class=\"dataframe\">\n",
              "  <thead>\n",
              "    <tr style=\"text-align: right;\">\n",
              "      <th></th>\n",
              "      <th>Accuracy Score</th>\n",
              "      <th>Jaccard Index</th>\n",
              "      <th>F1 Score</th>\n",
              "    </tr>\n",
              "  </thead>\n",
              "  <tbody>\n",
              "    <tr>\n",
              "      <th>0</th>\n",
              "      <td>0.819847</td>\n",
              "      <td>0.473214</td>\n",
              "      <td>0.642424</td>\n",
              "    </tr>\n",
              "  </tbody>\n",
              "</table>\n",
              "</div>\n",
              "    <div class=\"colab-df-buttons\">\n",
              "\n",
              "  <div class=\"colab-df-container\">\n",
              "    <button class=\"colab-df-convert\" onclick=\"convertToInteractive('df-c3ec8ee8-4385-44ac-b5ea-1b3ffb3d1767')\"\n",
              "            title=\"Convert this dataframe to an interactive table.\"\n",
              "            style=\"display:none;\">\n",
              "\n",
              "  <svg xmlns=\"http://www.w3.org/2000/svg\" height=\"24px\" viewBox=\"0 -960 960 960\">\n",
              "    <path d=\"M120-120v-720h720v720H120Zm60-500h600v-160H180v160Zm220 220h160v-160H400v160Zm0 220h160v-160H400v160ZM180-400h160v-160H180v160Zm440 0h160v-160H620v160ZM180-180h160v-160H180v160Zm440 0h160v-160H620v160Z\"/>\n",
              "  </svg>\n",
              "    </button>\n",
              "\n",
              "  <style>\n",
              "    .colab-df-container {\n",
              "      display:flex;\n",
              "      gap: 12px;\n",
              "    }\n",
              "\n",
              "    .colab-df-convert {\n",
              "      background-color: #E8F0FE;\n",
              "      border: none;\n",
              "      border-radius: 50%;\n",
              "      cursor: pointer;\n",
              "      display: none;\n",
              "      fill: #1967D2;\n",
              "      height: 32px;\n",
              "      padding: 0 0 0 0;\n",
              "      width: 32px;\n",
              "    }\n",
              "\n",
              "    .colab-df-convert:hover {\n",
              "      background-color: #E2EBFA;\n",
              "      box-shadow: 0px 1px 2px rgba(60, 64, 67, 0.3), 0px 1px 3px 1px rgba(60, 64, 67, 0.15);\n",
              "      fill: #174EA6;\n",
              "    }\n",
              "\n",
              "    .colab-df-buttons div {\n",
              "      margin-bottom: 4px;\n",
              "    }\n",
              "\n",
              "    [theme=dark] .colab-df-convert {\n",
              "      background-color: #3B4455;\n",
              "      fill: #D2E3FC;\n",
              "    }\n",
              "\n",
              "    [theme=dark] .colab-df-convert:hover {\n",
              "      background-color: #434B5C;\n",
              "      box-shadow: 0px 1px 3px 1px rgba(0, 0, 0, 0.15);\n",
              "      filter: drop-shadow(0px 1px 2px rgba(0, 0, 0, 0.3));\n",
              "      fill: #FFFFFF;\n",
              "    }\n",
              "  </style>\n",
              "\n",
              "    <script>\n",
              "      const buttonEl =\n",
              "        document.querySelector('#df-c3ec8ee8-4385-44ac-b5ea-1b3ffb3d1767 button.colab-df-convert');\n",
              "      buttonEl.style.display =\n",
              "        google.colab.kernel.accessAllowed ? 'block' : 'none';\n",
              "\n",
              "      async function convertToInteractive(key) {\n",
              "        const element = document.querySelector('#df-c3ec8ee8-4385-44ac-b5ea-1b3ffb3d1767');\n",
              "        const dataTable =\n",
              "          await google.colab.kernel.invokeFunction('convertToInteractive',\n",
              "                                                    [key], {});\n",
              "        if (!dataTable) return;\n",
              "\n",
              "        const docLinkHtml = 'Like what you see? Visit the ' +\n",
              "          '<a target=\"_blank\" href=https://colab.research.google.com/notebooks/data_table.ipynb>data table notebook</a>'\n",
              "          + ' to learn more about interactive tables.';\n",
              "        element.innerHTML = '';\n",
              "        dataTable['output_type'] = 'display_data';\n",
              "        await google.colab.output.renderOutput(dataTable, element);\n",
              "        const docLink = document.createElement('div');\n",
              "        docLink.innerHTML = docLinkHtml;\n",
              "        element.appendChild(docLink);\n",
              "      }\n",
              "    </script>\n",
              "  </div>\n",
              "\n",
              "\n",
              "  <div id=\"id_8764e94c-01ca-49c0-a44a-0d3be11f0c7c\">\n",
              "    <style>\n",
              "      .colab-df-generate {\n",
              "        background-color: #E8F0FE;\n",
              "        border: none;\n",
              "        border-radius: 50%;\n",
              "        cursor: pointer;\n",
              "        display: none;\n",
              "        fill: #1967D2;\n",
              "        height: 32px;\n",
              "        padding: 0 0 0 0;\n",
              "        width: 32px;\n",
              "      }\n",
              "\n",
              "      .colab-df-generate:hover {\n",
              "        background-color: #E2EBFA;\n",
              "        box-shadow: 0px 1px 2px rgba(60, 64, 67, 0.3), 0px 1px 3px 1px rgba(60, 64, 67, 0.15);\n",
              "        fill: #174EA6;\n",
              "      }\n",
              "\n",
              "      [theme=dark] .colab-df-generate {\n",
              "        background-color: #3B4455;\n",
              "        fill: #D2E3FC;\n",
              "      }\n",
              "\n",
              "      [theme=dark] .colab-df-generate:hover {\n",
              "        background-color: #434B5C;\n",
              "        box-shadow: 0px 1px 3px 1px rgba(0, 0, 0, 0.15);\n",
              "        filter: drop-shadow(0px 1px 2px rgba(0, 0, 0, 0.3));\n",
              "        fill: #FFFFFF;\n",
              "      }\n",
              "    </style>\n",
              "    <button class=\"colab-df-generate\" onclick=\"generateWithVariable('Tree_report')\"\n",
              "            title=\"Generate code using this dataframe.\"\n",
              "            style=\"display:none;\">\n",
              "\n",
              "  <svg xmlns=\"http://www.w3.org/2000/svg\" height=\"24px\"viewBox=\"0 0 24 24\"\n",
              "       width=\"24px\">\n",
              "    <path d=\"M7,19H8.4L18.45,9,17,7.55,7,17.6ZM5,21V16.75L18.45,3.32a2,2,0,0,1,2.83,0l1.4,1.43a1.91,1.91,0,0,1,.58,1.4,1.91,1.91,0,0,1-.58,1.4L9.25,21ZM18.45,9,17,7.55Zm-12,3A5.31,5.31,0,0,0,4.9,8.1,5.31,5.31,0,0,0,1,6.5,5.31,5.31,0,0,0,4.9,4.9,5.31,5.31,0,0,0,6.5,1,5.31,5.31,0,0,0,8.1,4.9,5.31,5.31,0,0,0,12,6.5,5.46,5.46,0,0,0,6.5,12Z\"/>\n",
              "  </svg>\n",
              "    </button>\n",
              "    <script>\n",
              "      (() => {\n",
              "      const buttonEl =\n",
              "        document.querySelector('#id_8764e94c-01ca-49c0-a44a-0d3be11f0c7c button.colab-df-generate');\n",
              "      buttonEl.style.display =\n",
              "        google.colab.kernel.accessAllowed ? 'block' : 'none';\n",
              "\n",
              "      buttonEl.onclick = () => {\n",
              "        google.colab.notebook.generateWithVariable('Tree_report');\n",
              "      }\n",
              "      })();\n",
              "    </script>\n",
              "  </div>\n",
              "\n",
              "    </div>\n",
              "  </div>\n"
            ],
            "application/vnd.google.colaboratory.intrinsic+json": {
              "type": "dataframe",
              "variable_name": "Tree_report",
              "summary": "{\n  \"name\": \"Tree_report\",\n  \"rows\": 1,\n  \"fields\": [\n    {\n      \"column\": \"Accuracy Score\",\n      \"properties\": {\n        \"dtype\": \"number\",\n        \"std\": null,\n        \"min\": 0.8198473282442749,\n        \"max\": 0.8198473282442749,\n        \"num_unique_values\": 1,\n        \"samples\": [\n          0.8198473282442749\n        ],\n        \"semantic_type\": \"\",\n        \"description\": \"\"\n      }\n    },\n    {\n      \"column\": \"Jaccard Index\",\n      \"properties\": {\n        \"dtype\": \"number\",\n        \"std\": null,\n        \"min\": 0.4732142857142857,\n        \"max\": 0.4732142857142857,\n        \"num_unique_values\": 1,\n        \"samples\": [\n          0.4732142857142857\n        ],\n        \"semantic_type\": \"\",\n        \"description\": \"\"\n      }\n    },\n    {\n      \"column\": \"F1 Score\",\n      \"properties\": {\n        \"dtype\": \"number\",\n        \"std\": null,\n        \"min\": 0.6424242424242426,\n        \"max\": 0.6424242424242426,\n        \"num_unique_values\": 1,\n        \"samples\": [\n          0.6424242424242426\n        ],\n        \"semantic_type\": \"\",\n        \"description\": \"\"\n      }\n    }\n  ]\n}"
            }
          },
          "metadata": {},
          "execution_count": 259
        }
      ]
    },
    {
      "cell_type": "code",
      "source": [
        "#confusion matrix\n",
        "cf_matrix_Tree = confusion_matrix(y_test, Tree_predictions)\n",
        "\n",
        "matrix_Tree = plot_cf_matrix(cf=cf_matrix_Tree, plot_title=\"Confusion Matrix for the Decision Tree Model\", f1_score = Tree_F1_Score, cmap=\"Purples\")\n",
        "matrix_Tree"
      ],
      "metadata": {
        "colab": {
          "base_uri": "https://localhost:8080/",
          "height": 696
        },
        "id": "hbMDk5z4lzEs",
        "outputId": "93e3484c-558e-4918-82b8-c2ace5c14363"
      },
      "execution_count": null,
      "outputs": [
        {
          "output_type": "display_data",
          "data": {
            "text/plain": [
              "<Figure size 1000x600 with 2 Axes>"
            ],
            "image/png": "[encoded data removed]"
          },
          "metadata": {}
        }
      ]
    },
    {
      "cell_type": "markdown",
      "source": [
        "<h3>4. Logistic Regression</h3>"
      ],
      "metadata": {
        "id": "SPI-6VIB168B"
      }
    },
    {
      "cell_type": "code",
      "source": [
        "#trying different, random train/test datasets (using a differnt random_state).\n",
        "x_train2, x_test2, y_train2, y_test2 = train_test_split(features, target, test_size = 0.15, random_state = 1)"
      ],
      "metadata": {
        "id": "bMp3kUnJ2eLn"
      },
      "execution_count": null,
      "outputs": []
    },
    {
      "cell_type": "markdown",
      "source": [
        "<h4>Model building and training</h4>"
      ],
      "metadata": {
        "id": "okZ99B5I168C"
      }
    },
    {
      "cell_type": "code",
      "source": [
        "#creating a Logistic Regression model and fitting using the training data\n",
        "LR = LogisticRegression(C=1, solver=\"liblinear\")\n",
        "LR.fit(x_train2, y_train2)"
      ],
      "metadata": {
        "colab": {
          "base_uri": "https://localhost:8080/",
          "height": 75
        },
        "outputId": "70cb9944-07ae-4cbc-9ad5-758665649f05",
        "id": "vKdJ8H1E168C"
      },
      "execution_count": null,
      "outputs": [
        {
          "output_type": "execute_result",
          "data": {
            "text/plain": [
              "LogisticRegression(C=1, solver='liblinear')"
            ],
            "text/html": [
              "<style>#sk-container-id-14 {color: black;background-color: white;}#sk-container-id-14 pre{padding: 0;}#sk-container-id-14 div.sk-toggleable {background-color: white;}#sk-container-id-14 label.sk-toggleable__label {cursor: pointer;display: block;width: 100%;margin-bottom: 0;padding: 0.3em;box-sizing: border-box;text-align: center;}#sk-container-id-14 label.sk-toggleable__label-arrow:before {content: \"▸\";float: left;margin-right: 0.25em;color: #696969;}#sk-container-id-14 label.sk-toggleable__label-arrow:hover:before {color: black;}#sk-container-id-14 div.sk-estimator:hover label.sk-toggleable__label-arrow:before {color: black;}#sk-container-id-14 div.sk-toggleable__content {max-height: 0;max-width: 0;overflow: hidden;text-align: left;background-color: #f0f8ff;}#sk-container-id-14 div.sk-toggleable__content pre {margin: 0.2em;color: black;border-radius: 0.25em;background-color: #f0f8ff;}#sk-container-id-14 input.sk-toggleable__control:checked~div.sk-toggleable__content {max-height: 200px;max-width: 100%;overflow: auto;}#sk-container-id-14 input.sk-toggleable__control:checked~label.sk-toggleable__label-arrow:before {content: \"▾\";}#sk-container-id-14 div.sk-estimator input.sk-toggleable__control:checked~label.sk-toggleable__label {background-color: #d4ebff;}#sk-container-id-14 div.sk-label input.sk-toggleable__control:checked~label.sk-toggleable__label {background-color: #d4ebff;}#sk-container-id-14 input.sk-hidden--visually {border: 0;clip: rect(1px 1px 1px 1px);clip: rect(1px, 1px, 1px, 1px);height: 1px;margin: -1px;overflow: hidden;padding: 0;position: absolute;width: 1px;}#sk-container-id-14 div.sk-estimator {font-family: monospace;background-color: #f0f8ff;border: 1px dotted black;border-radius: 0.25em;box-sizing: border-box;margin-bottom: 0.5em;}#sk-container-id-14 div.sk-estimator:hover {background-color: #d4ebff;}#sk-container-id-14 div.sk-parallel-item::after {content: \"\";width: 100%;border-bottom: 1px solid gray;flex-grow: 1;}#sk-container-id-14 div.sk-label:hover label.sk-toggleable__label {background-color: #d4ebff;}#sk-container-id-14 div.sk-serial::before {content: \"\";position: absolute;border-left: 1px solid gray;box-sizing: border-box;top: 0;bottom: 0;left: 50%;z-index: 0;}#sk-container-id-14 div.sk-serial {display: flex;flex-direction: column;align-items: center;background-color: white;padding-right: 0.2em;padding-left: 0.2em;position: relative;}#sk-container-id-14 div.sk-item {position: relative;z-index: 1;}#sk-container-id-14 div.sk-parallel {display: flex;align-items: stretch;justify-content: center;background-color: white;position: relative;}#sk-container-id-14 div.sk-item::before, #sk-container-id-14 div.sk-parallel-item::before {content: \"\";position: absolute;border-left: 1px solid gray;box-sizing: border-box;top: 0;bottom: 0;left: 50%;z-index: -1;}#sk-container-id-14 div.sk-parallel-item {display: flex;flex-direction: column;z-index: 1;position: relative;background-color: white;}#sk-container-id-14 div.sk-parallel-item:first-child::after {align-self: flex-end;width: 50%;}#sk-container-id-14 div.sk-parallel-item:last-child::after {align-self: flex-start;width: 50%;}#sk-container-id-14 div.sk-parallel-item:only-child::after {width: 0;}#sk-container-id-14 div.sk-dashed-wrapped {border: 1px dashed gray;margin: 0 0.4em 0.5em 0.4em;box-sizing: border-box;padding-bottom: 0.4em;background-color: white;}#sk-container-id-14 div.sk-label label {font-family: monospace;font-weight: bold;display: inline-block;line-height: 1.2em;}#sk-container-id-14 div.sk-label-container {text-align: center;}#sk-container-id-14 div.sk-container {/* jupyter's `normalize.less` sets `[hidden] { display: none; }` but bootstrap.min.css set `[hidden] { display: none !important; }` so we also need the `!important` here to be able to override the default hidden behavior on the sphinx rendered scikit-learn.org. See: https://github.com/scikit-learn/scikit-learn/issues/21755 */display: inline-block !important;position: relative;}#sk-container-id-14 div.sk-text-repr-fallback {display: none;}</style><div id=\"sk-container-id-14\" class=\"sk-top-container\"><div class=\"sk-text-repr-fallback\"><pre>LogisticRegression(C=1, solver=&#x27;liblinear&#x27;)</pre><b>In a Jupyter environment, please rerun this cell to show the HTML representation or trust the notebook. <br />On GitHub, the HTML representation is unable to render, please try loading this page with nbviewer.org.</b></div><div class=\"sk-container\" hidden><div class=\"sk-item\"><div class=\"sk-estimator sk-toggleable\"><input class=\"sk-toggleable__control sk-hidden--visually\" id=\"sk-estimator-id-14\" type=\"checkbox\" checked><label for=\"sk-estimator-id-14\" class=\"sk-toggleable__label sk-toggleable__label-arrow\">LogisticRegression</label><div class=\"sk-toggleable__content\"><pre>LogisticRegression(C=1, solver=&#x27;liblinear&#x27;)</pre></div></div></div></div></div>"
            ]
          },
          "metadata": {},
          "execution_count": 262
        }
      ]
    },
    {
      "cell_type": "markdown",
      "source": [
        "<h4>Predictions on the test data</h4>"
      ],
      "metadata": {
        "id": "wNx7c8sT168C"
      }
    },
    {
      "cell_type": "code",
      "source": [
        "log_predictions = LR.predict(x_test2)\n",
        "print(log_predictions[:5])\n",
        "\n",
        "#predicting the probabilities\n",
        "log_probapredictions = LR.predict_proba(x_test2)\n",
        "log_probapredictions[:5]"
      ],
      "metadata": {
        "colab": {
          "base_uri": "https://localhost:8080/"
        },
        "outputId": "0a288fff-ab43-4e4b-dc53-5ce0c35ae2fe",
        "id": "kfmQnLUk168C"
      },
      "execution_count": null,
      "outputs": [
        {
          "output_type": "stream",
          "name": "stdout",
          "text": [
            "[0. 0. 0. 0. 0.]\n"
          ]
        },
        {
          "output_type": "execute_result",
          "data": {
            "text/plain": [
              "array([[0.75008319, 0.24991681],\n",
              "       [0.97812843, 0.02187157],\n",
              "       [0.53923686, 0.46076314],\n",
              "       [0.81828452, 0.18171548],\n",
              "       [0.97398959, 0.02601041]])"
            ]
          },
          "metadata": {},
          "execution_count": 263
        }
      ]
    },
    {
      "cell_type": "markdown",
      "source": [
        "<h4>Model evaluation</h4>"
      ],
      "metadata": {
        "id": "354nlm38168D"
      }
    },
    {
      "cell_type": "code",
      "source": [
        "#obtaining the f1 score, accuracy score and Jaccard index\n",
        "from sklearn.metrics import log_loss\n",
        "log_accuracy_score = accuracy_score(y_test2, log_predictions)\n",
        "log_jaccardindex = jaccard_score(y_test2, log_predictions)\n",
        "log_f1_Score = f1_score(y_test2, log_predictions)\n",
        "logloss = log_loss(y_test2, log_probapredictions)\n",
        "\n",
        "#showing the report\n",
        "Logreg_report = pd.DataFrame({\"Accuracy Score\": [log_accuracy_score], \"Jaccard Index\": [log_jaccardindex], \"F1 Score\": [log_f1_Score], \"Log Loss\": [logloss]})\n",
        "Logreg_report"
      ],
      "metadata": {
        "colab": {
          "base_uri": "https://localhost:8080/",
          "height": 89
        },
        "outputId": "8df02538-d2ab-431b-aada-8bef307585d5",
        "id": "AKq_4BXS168D"
      },
      "execution_count": null,
      "outputs": [
        {
          "output_type": "execute_result",
          "data": {
            "text/plain": [
              "   Accuracy Score  Jaccard Index  F1 Score  Log Loss\n",
              "0        0.845214          0.525  0.688525  0.362846"
            ],
            "text/html": [
              "\n",
              "  <div id=\"df-a04fb39d-081e-4ff7-9783-8de362c9eda2\" class=\"colab-df-container\">\n",
              "    <div>\n",
              "<style scoped>\n",
              "    .dataframe tbody tr th:only-of-type {\n",
              "        vertical-align: middle;\n",
              "    }\n",
              "\n",
              "    .dataframe tbody tr th {\n",
              "        vertical-align: top;\n",
              "    }\n",
              "\n",
              "    .dataframe thead th {\n",
              "        text-align: right;\n",
              "    }\n",
              "</style>\n",
              "<table border=\"1\" class=\"dataframe\">\n",
              "  <thead>\n",
              "    <tr style=\"text-align: right;\">\n",
              "      <th></th>\n",
              "      <th>Accuracy Score</th>\n",
              "      <th>Jaccard Index</th>\n",
              "      <th>F1 Score</th>\n",
              "      <th>Log Loss</th>\n",
              "    </tr>\n",
              "  </thead>\n",
              "  <tbody>\n",
              "    <tr>\n",
              "      <th>0</th>\n",
              "      <td>0.845214</td>\n",
              "      <td>0.525</td>\n",
              "      <td>0.688525</td>\n",
              "      <td>0.362846</td>\n",
              "    </tr>\n",
              "  </tbody>\n",
              "</table>\n",
              "</div>\n",
              "    <div class=\"colab-df-buttons\">\n",
              "\n",
              "  <div class=\"colab-df-container\">\n",
              "    <button class=\"colab-df-convert\" onclick=\"convertToInteractive('df-a04fb39d-081e-4ff7-9783-8de362c9eda2')\"\n",
              "            title=\"Convert this dataframe to an interactive table.\"\n",
              "            style=\"display:none;\">\n",
              "\n",
              "  <svg xmlns=\"http://www.w3.org/2000/svg\" height=\"24px\" viewBox=\"0 -960 960 960\">\n",
              "    <path d=\"M120-120v-720h720v720H120Zm60-500h600v-160H180v160Zm220 220h160v-160H400v160Zm0 220h160v-160H400v160ZM180-400h160v-160H180v160Zm440 0h160v-160H620v160ZM180-180h160v-160H180v160Zm440 0h160v-160H620v160Z\"/>\n",
              "  </svg>\n",
              "    </button>\n",
              "\n",
              "  <style>\n",
              "    .colab-df-container {\n",
              "      display:flex;\n",
              "      gap: 12px;\n",
              "    }\n",
              "\n",
              "    .colab-df-convert {\n",
              "      background-color: #E8F0FE;\n",
              "      border: none;\n",
              "      border-radius: 50%;\n",
              "      cursor: pointer;\n",
              "      display: none;\n",
              "      fill: #1967D2;\n",
              "      height: 32px;\n",
              "      padding: 0 0 0 0;\n",
              "      width: 32px;\n",
              "    }\n",
              "\n",
              "    .colab-df-convert:hover {\n",
              "      background-color: #E2EBFA;\n",
              "      box-shadow: 0px 1px 2px rgba(60, 64, 67, 0.3), 0px 1px 3px 1px rgba(60, 64, 67, 0.15);\n",
              "      fill: #174EA6;\n",
              "    }\n",
              "\n",
              "    .colab-df-buttons div {\n",
              "      margin-bottom: 4px;\n",
              "    }\n",
              "\n",
              "    [theme=dark] .colab-df-convert {\n",
              "      background-color: #3B4455;\n",
              "      fill: #D2E3FC;\n",
              "    }\n",
              "\n",
              "    [theme=dark] .colab-df-convert:hover {\n",
              "      background-color: #434B5C;\n",
              "      box-shadow: 0px 1px 3px 1px rgba(0, 0, 0, 0.15);\n",
              "      filter: drop-shadow(0px 1px 2px rgba(0, 0, 0, 0.3));\n",
              "      fill: #FFFFFF;\n",
              "    }\n",
              "  </style>\n",
              "\n",
              "    <script>\n",
              "      const buttonEl =\n",
              "        document.querySelector('#df-a04fb39d-081e-4ff7-9783-8de362c9eda2 button.colab-df-convert');\n",
              "      buttonEl.style.display =\n",
              "        google.colab.kernel.accessAllowed ? 'block' : 'none';\n",
              "\n",
              "      async function convertToInteractive(key) {\n",
              "        const element = document.querySelector('#df-a04fb39d-081e-4ff7-9783-8de362c9eda2');\n",
              "        const dataTable =\n",
              "          await google.colab.kernel.invokeFunction('convertToInteractive',\n",
              "                                                    [key], {});\n",
              "        if (!dataTable) return;\n",
              "\n",
              "        const docLinkHtml = 'Like what you see? Visit the ' +\n",
              "          '<a target=\"_blank\" href=https://colab.research.google.com/notebooks/data_table.ipynb>data table notebook</a>'\n",
              "          + ' to learn more about interactive tables.';\n",
              "        element.innerHTML = '';\n",
              "        dataTable['output_type'] = 'display_data';\n",
              "        await google.colab.output.renderOutput(dataTable, element);\n",
              "        const docLink = document.createElement('div');\n",
              "        docLink.innerHTML = docLinkHtml;\n",
              "        element.appendChild(docLink);\n",
              "      }\n",
              "    </script>\n",
              "  </div>\n",
              "\n",
              "\n",
              "  <div id=\"id_99c3d0bb-68f5-4829-bacb-1bac4842315d\">\n",
              "    <style>\n",
              "      .colab-df-generate {\n",
              "        background-color: #E8F0FE;\n",
              "        border: none;\n",
              "        border-radius: 50%;\n",
              "        cursor: pointer;\n",
              "        display: none;\n",
              "        fill: #1967D2;\n",
              "        height: 32px;\n",
              "        padding: 0 0 0 0;\n",
              "        width: 32px;\n",
              "      }\n",
              "\n",
              "      .colab-df-generate:hover {\n",
              "        background-color: #E2EBFA;\n",
              "        box-shadow: 0px 1px 2px rgba(60, 64, 67, 0.3), 0px 1px 3px 1px rgba(60, 64, 67, 0.15);\n",
              "        fill: #174EA6;\n",
              "      }\n",
              "\n",
              "      [theme=dark] .colab-df-generate {\n",
              "        background-color: #3B4455;\n",
              "        fill: #D2E3FC;\n",
              "      }\n",
              "\n",
              "      [theme=dark] .colab-df-generate:hover {\n",
              "        background-color: #434B5C;\n",
              "        box-shadow: 0px 1px 3px 1px rgba(0, 0, 0, 0.15);\n",
              "        filter: drop-shadow(0px 1px 2px rgba(0, 0, 0, 0.3));\n",
              "        fill: #FFFFFF;\n",
              "      }\n",
              "    </style>\n",
              "    <button class=\"colab-df-generate\" onclick=\"generateWithVariable('Logreg_report')\"\n",
              "            title=\"Generate code using this dataframe.\"\n",
              "            style=\"display:none;\">\n",
              "\n",
              "  <svg xmlns=\"http://www.w3.org/2000/svg\" height=\"24px\"viewBox=\"0 0 24 24\"\n",
              "       width=\"24px\">\n",
              "    <path d=\"M7,19H8.4L18.45,9,17,7.55,7,17.6ZM5,21V16.75L18.45,3.32a2,2,0,0,1,2.83,0l1.4,1.43a1.91,1.91,0,0,1,.58,1.4,1.91,1.91,0,0,1-.58,1.4L9.25,21ZM18.45,9,17,7.55Zm-12,3A5.31,5.31,0,0,0,4.9,8.1,5.31,5.31,0,0,0,1,6.5,5.31,5.31,0,0,0,4.9,4.9,5.31,5.31,0,0,0,6.5,1,5.31,5.31,0,0,0,8.1,4.9,5.31,5.31,0,0,0,12,6.5,5.46,5.46,0,0,0,6.5,12Z\"/>\n",
              "  </svg>\n",
              "    </button>\n",
              "    <script>\n",
              "      (() => {\n",
              "      const buttonEl =\n",
              "        document.querySelector('#id_99c3d0bb-68f5-4829-bacb-1bac4842315d button.colab-df-generate');\n",
              "      buttonEl.style.display =\n",
              "        google.colab.kernel.accessAllowed ? 'block' : 'none';\n",
              "\n",
              "      buttonEl.onclick = () => {\n",
              "        google.colab.notebook.generateWithVariable('Logreg_report');\n",
              "      }\n",
              "      })();\n",
              "    </script>\n",
              "  </div>\n",
              "\n",
              "    </div>\n",
              "  </div>\n"
            ],
            "application/vnd.google.colaboratory.intrinsic+json": {
              "type": "dataframe",
              "variable_name": "Logreg_report",
              "summary": "{\n  \"name\": \"Logreg_report\",\n  \"rows\": 1,\n  \"fields\": [\n    {\n      \"column\": \"Accuracy Score\",\n      \"properties\": {\n        \"dtype\": \"number\",\n        \"std\": null,\n        \"min\": 0.845213849287169,\n        \"max\": 0.845213849287169,\n        \"num_unique_values\": 1,\n        \"samples\": [\n          0.845213849287169\n        ],\n        \"semantic_type\": \"\",\n        \"description\": \"\"\n      }\n    },\n    {\n      \"column\": \"Jaccard Index\",\n      \"properties\": {\n        \"dtype\": \"number\",\n        \"std\": null,\n        \"min\": 0.525,\n        \"max\": 0.525,\n        \"num_unique_values\": 1,\n        \"samples\": [\n          0.525\n        ],\n        \"semantic_type\": \"\",\n        \"description\": \"\"\n      }\n    },\n    {\n      \"column\": \"F1 Score\",\n      \"properties\": {\n        \"dtype\": \"number\",\n        \"std\": null,\n        \"min\": 0.6885245901639344,\n        \"max\": 0.6885245901639344,\n        \"num_unique_values\": 1,\n        \"samples\": [\n          0.6885245901639344\n        ],\n        \"semantic_type\": \"\",\n        \"description\": \"\"\n      }\n    },\n    {\n      \"column\": \"Log Loss\",\n      \"properties\": {\n        \"dtype\": \"number\",\n        \"std\": null,\n        \"min\": 0.3628462022427021,\n        \"max\": 0.3628462022427021,\n        \"num_unique_values\": 1,\n        \"samples\": [\n          0.3628462022427021\n        ],\n        \"semantic_type\": \"\",\n        \"description\": \"\"\n      }\n    }\n  ]\n}"
            }
          },
          "metadata": {},
          "execution_count": 264
        }
      ]
    },
    {
      "cell_type": "code",
      "source": [
        "#confusion matrix\n",
        "cf_matrix_Log = confusion_matrix(y_test2, log_predictions)\n",
        "\n",
        "matrix_Log = plot_cf_matrix(cf=cf_matrix_Log, plot_title=\"Confusion Matrix for the Logistic Regression Model\", f1_score = log_f1_Score, cmap=\"Blues\")\n",
        "matrix_Log"
      ],
      "metadata": {
        "colab": {
          "base_uri": "https://localhost:8080/",
          "height": 696
        },
        "id": "T9k5MurKmlXh",
        "outputId": "71482166-f474-4aff-a319-13e2b27c50fc"
      },
      "execution_count": null,
      "outputs": [
        {
          "output_type": "display_data",
          "data": {
            "text/plain": [
              "<Figure size 1000x600 with 2 Axes>"
            ],
            "image/png": "[encoded data removed]"
          },
          "metadata": {}
        }
      ]
    },
    {
      "cell_type": "markdown",
      "source": [
        "<h3>5. Support Vector Machine</h3>"
      ],
      "metadata": {
        "id": "dWfZqEnfqk2W"
      }
    },
    {
      "cell_type": "markdown",
      "source": [
        "<h4>Model building and training</h4>"
      ],
      "metadata": {
        "id": "qBVhn9_gqk20"
      }
    },
    {
      "cell_type": "code",
      "source": [
        "#creating a support vector classifier and fitting using the training data\n",
        "SVM = svm.SVC(kernel=\"rbf\")\n",
        "SVM.fit(x_train2, y_train2)"
      ],
      "metadata": {
        "colab": {
          "base_uri": "https://localhost:8080/",
          "height": 75
        },
        "outputId": "4a932b49-94b1-4529-92d5-975a24d4ed47",
        "id": "SHKfSd8uqk21"
      },
      "execution_count": null,
      "outputs": [
        {
          "output_type": "execute_result",
          "data": {
            "text/plain": [
              "SVC()"
            ],
            "text/html": [
              "<style>#sk-container-id-15 {color: black;background-color: white;}#sk-container-id-15 pre{padding: 0;}#sk-container-id-15 div.sk-toggleable {background-color: white;}#sk-container-id-15 label.sk-toggleable__label {cursor: pointer;display: block;width: 100%;margin-bottom: 0;padding: 0.3em;box-sizing: border-box;text-align: center;}#sk-container-id-15 label.sk-toggleable__label-arrow:before {content: \"▸\";float: left;margin-right: 0.25em;color: #696969;}#sk-container-id-15 label.sk-toggleable__label-arrow:hover:before {color: black;}#sk-container-id-15 div.sk-estimator:hover label.sk-toggleable__label-arrow:before {color: black;}#sk-container-id-15 div.sk-toggleable__content {max-height: 0;max-width: 0;overflow: hidden;text-align: left;background-color: #f0f8ff;}#sk-container-id-15 div.sk-toggleable__content pre {margin: 0.2em;color: black;border-radius: 0.25em;background-color: #f0f8ff;}#sk-container-id-15 input.sk-toggleable__control:checked~div.sk-toggleable__content {max-height: 200px;max-width: 100%;overflow: auto;}#sk-container-id-15 input.sk-toggleable__control:checked~label.sk-toggleable__label-arrow:before {content: \"▾\";}#sk-container-id-15 div.sk-estimator input.sk-toggleable__control:checked~label.sk-toggleable__label {background-color: #d4ebff;}#sk-container-id-15 div.sk-label input.sk-toggleable__control:checked~label.sk-toggleable__label {background-color: #d4ebff;}#sk-container-id-15 input.sk-hidden--visually {border: 0;clip: rect(1px 1px 1px 1px);clip: rect(1px, 1px, 1px, 1px);height: 1px;margin: -1px;overflow: hidden;padding: 0;position: absolute;width: 1px;}#sk-container-id-15 div.sk-estimator {font-family: monospace;background-color: #f0f8ff;border: 1px dotted black;border-radius: 0.25em;box-sizing: border-box;margin-bottom: 0.5em;}#sk-container-id-15 div.sk-estimator:hover {background-color: #d4ebff;}#sk-container-id-15 div.sk-parallel-item::after {content: \"\";width: 100%;border-bottom: 1px solid gray;flex-grow: 1;}#sk-container-id-15 div.sk-label:hover label.sk-toggleable__label {background-color: #d4ebff;}#sk-container-id-15 div.sk-serial::before {content: \"\";position: absolute;border-left: 1px solid gray;box-sizing: border-box;top: 0;bottom: 0;left: 50%;z-index: 0;}#sk-container-id-15 div.sk-serial {display: flex;flex-direction: column;align-items: center;background-color: white;padding-right: 0.2em;padding-left: 0.2em;position: relative;}#sk-container-id-15 div.sk-item {position: relative;z-index: 1;}#sk-container-id-15 div.sk-parallel {display: flex;align-items: stretch;justify-content: center;background-color: white;position: relative;}#sk-container-id-15 div.sk-item::before, #sk-container-id-15 div.sk-parallel-item::before {content: \"\";position: absolute;border-left: 1px solid gray;box-sizing: border-box;top: 0;bottom: 0;left: 50%;z-index: -1;}#sk-container-id-15 div.sk-parallel-item {display: flex;flex-direction: column;z-index: 1;position: relative;background-color: white;}#sk-container-id-15 div.sk-parallel-item:first-child::after {align-self: flex-end;width: 50%;}#sk-container-id-15 div.sk-parallel-item:last-child::after {align-self: flex-start;width: 50%;}#sk-container-id-15 div.sk-parallel-item:only-child::after {width: 0;}#sk-container-id-15 div.sk-dashed-wrapped {border: 1px dashed gray;margin: 0 0.4em 0.5em 0.4em;box-sizing: border-box;padding-bottom: 0.4em;background-color: white;}#sk-container-id-15 div.sk-label label {font-family: monospace;font-weight: bold;display: inline-block;line-height: 1.2em;}#sk-container-id-15 div.sk-label-container {text-align: center;}#sk-container-id-15 div.sk-container {/* jupyter's `normalize.less` sets `[hidden] { display: none; }` but bootstrap.min.css set `[hidden] { display: none !important; }` so we also need the `!important` here to be able to override the default hidden behavior on the sphinx rendered scikit-learn.org. See: https://github.com/scikit-learn/scikit-learn/issues/21755 */display: inline-block !important;position: relative;}#sk-container-id-15 div.sk-text-repr-fallback {display: none;}</style><div id=\"sk-container-id-15\" class=\"sk-top-container\"><div class=\"sk-text-repr-fallback\"><pre>SVC()</pre><b>In a Jupyter environment, please rerun this cell to show the HTML representation or trust the notebook. <br />On GitHub, the HTML representation is unable to render, please try loading this page with nbviewer.org.</b></div><div class=\"sk-container\" hidden><div class=\"sk-item\"><div class=\"sk-estimator sk-toggleable\"><input class=\"sk-toggleable__control sk-hidden--visually\" id=\"sk-estimator-id-15\" type=\"checkbox\" checked><label for=\"sk-estimator-id-15\" class=\"sk-toggleable__label sk-toggleable__label-arrow\">SVC</label><div class=\"sk-toggleable__content\"><pre>SVC()</pre></div></div></div></div></div>"
            ]
          },
          "metadata": {},
          "execution_count": 266
        }
      ]
    },
    {
      "cell_type": "markdown",
      "source": [
        "<h4>Predictions on the test data</h4>"
      ],
      "metadata": {
        "id": "I9aneIjkqk22"
      }
    },
    {
      "cell_type": "code",
      "source": [
        "svm_predictions = SVM.predict(x_test2)\n",
        "#print(svm_predictions[:5])\n",
        "svm_predictions[:5]"
      ],
      "metadata": {
        "colab": {
          "base_uri": "https://localhost:8080/"
        },
        "outputId": "32259e0e-169f-4f08-8aa3-8f01eff01bd1",
        "id": "6eqkyCvIqk23"
      },
      "execution_count": null,
      "outputs": [
        {
          "output_type": "execute_result",
          "data": {
            "text/plain": [
              "array([0., 0., 0., 0., 0.])"
            ]
          },
          "metadata": {},
          "execution_count": 267
        }
      ]
    },
    {
      "cell_type": "markdown",
      "source": [
        "<h4>Model evaluation</h4>"
      ],
      "metadata": {
        "id": "G64VMiWnqk24"
      }
    },
    {
      "cell_type": "code",
      "source": [
        "#obtaining the f1 score, accuracy score and Jaccard index\n",
        "svm_accuracy_score = accuracy_score(y_test2, svm_predictions)\n",
        "svm_jaccardindex = jaccard_score(y_test2, svm_predictions)\n",
        "svm_f1_Score = f1_score(y_test2, svm_predictions)\n",
        "\n",
        "#showing the report\n",
        "SVM_report = pd.DataFrame({\"Accuracy Score\": [svm_accuracy_score], \"Jaccard Index\": [svm_jaccardindex], \"F1 Score\": [svm_f1_Score]})\n",
        "SVM_report"
      ],
      "metadata": {
        "colab": {
          "base_uri": "https://localhost:8080/",
          "height": 89
        },
        "outputId": "eabefd90-33f2-45dc-dcfa-f141ba81ba3c",
        "id": "9i7flDm7qk24"
      },
      "execution_count": null,
      "outputs": [
        {
          "output_type": "execute_result",
          "data": {
            "text/plain": [
              "   Accuracy Score  Jaccard Index  F1 Score\n",
              "0        0.725051            0.0       0.0"
            ],
            "text/html": [
              "\n",
              "  <div id=\"df-7436a05d-6f32-465c-b185-5e4d5591e2fd\" class=\"colab-df-container\">\n",
              "    <div>\n",
              "<style scoped>\n",
              "    .dataframe tbody tr th:only-of-type {\n",
              "        vertical-align: middle;\n",
              "    }\n",
              "\n",
              "    .dataframe tbody tr th {\n",
              "        vertical-align: top;\n",
              "    }\n",
              "\n",
              "    .dataframe thead th {\n",
              "        text-align: right;\n",
              "    }\n",
              "</style>\n",
              "<table border=\"1\" class=\"dataframe\">\n",
              "  <thead>\n",
              "    <tr style=\"text-align: right;\">\n",
              "      <th></th>\n",
              "      <th>Accuracy Score</th>\n",
              "      <th>Jaccard Index</th>\n",
              "      <th>F1 Score</th>\n",
              "    </tr>\n",
              "  </thead>\n",
              "  <tbody>\n",
              "    <tr>\n",
              "      <th>0</th>\n",
              "      <td>0.725051</td>\n",
              "      <td>0.0</td>\n",
              "      <td>0.0</td>\n",
              "    </tr>\n",
              "  </tbody>\n",
              "</table>\n",
              "</div>\n",
              "    <div class=\"colab-df-buttons\">\n",
              "\n",
              "  <div class=\"colab-df-container\">\n",
              "    <button class=\"colab-df-convert\" onclick=\"convertToInteractive('df-7436a05d-6f32-465c-b185-5e4d5591e2fd')\"\n",
              "            title=\"Convert this dataframe to an interactive table.\"\n",
              "            style=\"display:none;\">\n",
              "\n",
              "  <svg xmlns=\"http://www.w3.org/2000/svg\" height=\"24px\" viewBox=\"0 -960 960 960\">\n",
              "    <path d=\"M120-120v-720h720v720H120Zm60-500h600v-160H180v160Zm220 220h160v-160H400v160Zm0 220h160v-160H400v160ZM180-400h160v-160H180v160Zm440 0h160v-160H620v160ZM180-180h160v-160H180v160Zm440 0h160v-160H620v160Z\"/>\n",
              "  </svg>\n",
              "    </button>\n",
              "\n",
              "  <style>\n",
              "    .colab-df-container {\n",
              "      display:flex;\n",
              "      gap: 12px;\n",
              "    }\n",
              "\n",
              "    .colab-df-convert {\n",
              "      background-color: #E8F0FE;\n",
              "      border: none;\n",
              "      border-radius: 50%;\n",
              "      cursor: pointer;\n",
              "      display: none;\n",
              "      fill: #1967D2;\n",
              "      height: 32px;\n",
              "      padding: 0 0 0 0;\n",
              "      width: 32px;\n",
              "    }\n",
              "\n",
              "    .colab-df-convert:hover {\n",
              "      background-color: #E2EBFA;\n",
              "      box-shadow: 0px 1px 2px rgba(60, 64, 67, 0.3), 0px 1px 3px 1px rgba(60, 64, 67, 0.15);\n",
              "      fill: #174EA6;\n",
              "    }\n",
              "\n",
              "    .colab-df-buttons div {\n",
              "      margin-bottom: 4px;\n",
              "    }\n",
              "\n",
              "    [theme=dark] .colab-df-convert {\n",
              "      background-color: #3B4455;\n",
              "      fill: #D2E3FC;\n",
              "    }\n",
              "\n",
              "    [theme=dark] .colab-df-convert:hover {\n",
              "      background-color: #434B5C;\n",
              "      box-shadow: 0px 1px 3px 1px rgba(0, 0, 0, 0.15);\n",
              "      filter: drop-shadow(0px 1px 2px rgba(0, 0, 0, 0.3));\n",
              "      fill: #FFFFFF;\n",
              "    }\n",
              "  </style>\n",
              "\n",
              "    <script>\n",
              "      const buttonEl =\n",
              "        document.querySelector('#df-7436a05d-6f32-465c-b185-5e4d5591e2fd button.colab-df-convert');\n",
              "      buttonEl.style.display =\n",
              "        google.colab.kernel.accessAllowed ? 'block' : 'none';\n",
              "\n",
              "      async function convertToInteractive(key) {\n",
              "        const element = document.querySelector('#df-7436a05d-6f32-465c-b185-5e4d5591e2fd');\n",
              "        const dataTable =\n",
              "          await google.colab.kernel.invokeFunction('convertToInteractive',\n",
              "                                                    [key], {});\n",
              "        if (!dataTable) return;\n",
              "\n",
              "        const docLinkHtml = 'Like what you see? Visit the ' +\n",
              "          '<a target=\"_blank\" href=https://colab.research.google.com/notebooks/data_table.ipynb>data table notebook</a>'\n",
              "          + ' to learn more about interactive tables.';\n",
              "        element.innerHTML = '';\n",
              "        dataTable['output_type'] = 'display_data';\n",
              "        await google.colab.output.renderOutput(dataTable, element);\n",
              "        const docLink = document.createElement('div');\n",
              "        docLink.innerHTML = docLinkHtml;\n",
              "        element.appendChild(docLink);\n",
              "      }\n",
              "    </script>\n",
              "  </div>\n",
              "\n",
              "\n",
              "  <div id=\"id_42505fd0-3dc1-4765-bdc8-78c9b0884847\">\n",
              "    <style>\n",
              "      .colab-df-generate {\n",
              "        background-color: #E8F0FE;\n",
              "        border: none;\n",
              "        border-radius: 50%;\n",
              "        cursor: pointer;\n",
              "        display: none;\n",
              "        fill: #1967D2;\n",
              "        height: 32px;\n",
              "        padding: 0 0 0 0;\n",
              "        width: 32px;\n",
              "      }\n",
              "\n",
              "      .colab-df-generate:hover {\n",
              "        background-color: #E2EBFA;\n",
              "        box-shadow: 0px 1px 2px rgba(60, 64, 67, 0.3), 0px 1px 3px 1px rgba(60, 64, 67, 0.15);\n",
              "        fill: #174EA6;\n",
              "      }\n",
              "\n",
              "      [theme=dark] .colab-df-generate {\n",
              "        background-color: #3B4455;\n",
              "        fill: #D2E3FC;\n",
              "      }\n",
              "\n",
              "      [theme=dark] .colab-df-generate:hover {\n",
              "        background-color: #434B5C;\n",
              "        box-shadow: 0px 1px 3px 1px rgba(0, 0, 0, 0.15);\n",
              "        filter: drop-shadow(0px 1px 2px rgba(0, 0, 0, 0.3));\n",
              "        fill: #FFFFFF;\n",
              "      }\n",
              "    </style>\n",
              "    <button class=\"colab-df-generate\" onclick=\"generateWithVariable('SVM_report')\"\n",
              "            title=\"Generate code using this dataframe.\"\n",
              "            style=\"display:none;\">\n",
              "\n",
              "  <svg xmlns=\"http://www.w3.org/2000/svg\" height=\"24px\"viewBox=\"0 0 24 24\"\n",
              "       width=\"24px\">\n",
              "    <path d=\"M7,19H8.4L18.45,9,17,7.55,7,17.6ZM5,21V16.75L18.45,3.32a2,2,0,0,1,2.83,0l1.4,1.43a1.91,1.91,0,0,1,.58,1.4,1.91,1.91,0,0,1-.58,1.4L9.25,21ZM18.45,9,17,7.55Zm-12,3A5.31,5.31,0,0,0,4.9,8.1,5.31,5.31,0,0,0,1,6.5,5.31,5.31,0,0,0,4.9,4.9,5.31,5.31,0,0,0,6.5,1,5.31,5.31,0,0,0,8.1,4.9,5.31,5.31,0,0,0,12,6.5,5.46,5.46,0,0,0,6.5,12Z\"/>\n",
              "  </svg>\n",
              "    </button>\n",
              "    <script>\n",
              "      (() => {\n",
              "      const buttonEl =\n",
              "        document.querySelector('#id_42505fd0-3dc1-4765-bdc8-78c9b0884847 button.colab-df-generate');\n",
              "      buttonEl.style.display =\n",
              "        google.colab.kernel.accessAllowed ? 'block' : 'none';\n",
              "\n",
              "      buttonEl.onclick = () => {\n",
              "        google.colab.notebook.generateWithVariable('SVM_report');\n",
              "      }\n",
              "      })();\n",
              "    </script>\n",
              "  </div>\n",
              "\n",
              "    </div>\n",
              "  </div>\n"
            ],
            "application/vnd.google.colaboratory.intrinsic+json": {
              "type": "dataframe",
              "variable_name": "SVM_report",
              "summary": "{\n  \"name\": \"SVM_report\",\n  \"rows\": 1,\n  \"fields\": [\n    {\n      \"column\": \"Accuracy Score\",\n      \"properties\": {\n        \"dtype\": \"number\",\n        \"std\": null,\n        \"min\": 0.725050916496945,\n        \"max\": 0.725050916496945,\n        \"num_unique_values\": 1,\n        \"samples\": [\n          0.725050916496945\n        ],\n        \"semantic_type\": \"\",\n        \"description\": \"\"\n      }\n    },\n    {\n      \"column\": \"Jaccard Index\",\n      \"properties\": {\n        \"dtype\": \"number\",\n        \"std\": null,\n        \"min\": 0.0,\n        \"max\": 0.0,\n        \"num_unique_values\": 1,\n        \"samples\": [\n          0.0\n        ],\n        \"semantic_type\": \"\",\n        \"description\": \"\"\n      }\n    },\n    {\n      \"column\": \"F1 Score\",\n      \"properties\": {\n        \"dtype\": \"number\",\n        \"std\": null,\n        \"min\": 0.0,\n        \"max\": 0.0,\n        \"num_unique_values\": 1,\n        \"samples\": [\n          0.0\n        ],\n        \"semantic_type\": \"\",\n        \"description\": \"\"\n      }\n    }\n  ]\n}"
            }
          },
          "metadata": {},
          "execution_count": 268
        }
      ]
    },
    {
      "cell_type": "code",
      "source": [
        "#confusion matrix\n",
        "cf_matrix_svm = confusion_matrix(y_test2, svm_predictions)\n",
        "\n",
        "matrix_svm = plot_cf_matrix(cf=cf_matrix_svm, plot_title=\"Confusion Matrix for the SVM Model\", f1_score = svm_f1_Score, cmap=\"Purples\")\n",
        "matrix_svm"
      ],
      "metadata": {
        "colab": {
          "base_uri": "https://localhost:8080/",
          "height": 696
        },
        "id": "CaDa_2K2m9MM",
        "outputId": "1fe2bf0b-18a4-40f9-b6b1-ab40ce97dcea"
      },
      "execution_count": null,
      "outputs": [
        {
          "output_type": "display_data",
          "data": {
            "text/plain": [
              "<Figure size 1000x600 with 2 Axes>"
            ],
            "image/png": "[encoded data removed]"
          },
          "metadata": {}
        }
      ]
    },
    {
      "cell_type": "markdown",
      "source": [
        "<h2 id=\"results\">\n",
        "  Result and Insights\n",
        "</h2>"
      ],
      "metadata": {
        "id": "Vy6OMYChvWqP"
      }
    },
    {
      "cell_type": "markdown",
      "source": [
        "<h3>Comparing the models' performances</h3>"
      ],
      "metadata": {
        "id": "wVxTkhaA-qKG"
      }
    },
    {
      "cell_type": "code",
      "source": [
        "Report = pd.concat([KNN_report, Tree_report, Logreg_report, SVM_report], axis=0, ignore_index = True)\n",
        "Report[\"Model\"] = [\"KNN\", \"DT\", \"LogRes\", \"SVM\"]\n",
        "Report.set_index(\"Model\", inplace=True)\n",
        "Report"
      ],
      "metadata": {
        "colab": {
          "base_uri": "https://localhost:8080/",
          "height": 206
        },
        "id": "Izn5F-3o-pNy",
        "outputId": "3a78a93e-6feb-4a5f-bbac-5d5d9f3ef69c"
      },
      "execution_count": null,
      "outputs": [
        {
          "output_type": "execute_result",
          "data": {
            "text/plain": [
              "        Accuracy Score  Jaccard Index  F1 Score  Log Loss\n",
              "Model                                                    \n",
              "KNN           0.819847       0.435407  0.606667       NaN\n",
              "DT            0.819847       0.473214  0.642424       NaN\n",
              "LogRes        0.845214       0.525000  0.688525  0.362846\n",
              "SVM           0.725051       0.000000  0.000000       NaN"
            ],
            "text/html": [
              "\n",
              "  <div id=\"df-5b2b7d32-7cde-4586-9b0a-e5ffc18bc4d3\" class=\"colab-df-container\">\n",
              "    <div>\n",
              "<style scoped>\n",
              "    .dataframe tbody tr th:only-of-type {\n",
              "        vertical-align: middle;\n",
              "    }\n",
              "\n",
              "    .dataframe tbody tr th {\n",
              "        vertical-align: top;\n",
              "    }\n",
              "\n",
              "    .dataframe thead th {\n",
              "        text-align: right;\n",
              "    }\n",
              "</style>\n",
              "<table border=\"1\" class=\"dataframe\">\n",
              "  <thead>\n",
              "    <tr style=\"text-align: right;\">\n",
              "      <th></th>\n",
              "      <th>Accuracy Score</th>\n",
              "      <th>Jaccard Index</th>\n",
              "      <th>F1 Score</th>\n",
              "      <th>Log Loss</th>\n",
              "    </tr>\n",
              "    <tr>\n",
              "      <th>Model</th>\n",
              "      <th></th>\n",
              "      <th></th>\n",
              "      <th></th>\n",
              "      <th></th>\n",
              "    </tr>\n",
              "  </thead>\n",
              "  <tbody>\n",
              "    <tr>\n",
              "      <th>KNN</th>\n",
              "      <td>0.819847</td>\n",
              "      <td>0.435407</td>\n",
              "      <td>0.606667</td>\n",
              "      <td>NaN</td>\n",
              "    </tr>\n",
              "    <tr>\n",
              "      <th>DT</th>\n",
              "      <td>0.819847</td>\n",
              "      <td>0.473214</td>\n",
              "      <td>0.642424</td>\n",
              "      <td>NaN</td>\n",
              "    </tr>\n",
              "    <tr>\n",
              "      <th>LogRes</th>\n",
              "      <td>0.845214</td>\n",
              "      <td>0.525000</td>\n",
              "      <td>0.688525</td>\n",
              "      <td>0.362846</td>\n",
              "    </tr>\n",
              "    <tr>\n",
              "      <th>SVM</th>\n",
              "      <td>0.725051</td>\n",
              "      <td>0.000000</td>\n",
              "      <td>0.000000</td>\n",
              "      <td>NaN</td>\n",
              "    </tr>\n",
              "  </tbody>\n",
              "</table>\n",
              "</div>\n",
              "    <div class=\"colab-df-buttons\">\n",
              "\n",
              "  <div class=\"colab-df-container\">\n",
              "    <button class=\"colab-df-convert\" onclick=\"convertToInteractive('df-5b2b7d32-7cde-4586-9b0a-e5ffc18bc4d3')\"\n",
              "            title=\"Convert this dataframe to an interactive table.\"\n",
              "            style=\"display:none;\">\n",
              "\n",
              "  <svg xmlns=\"http://www.w3.org/2000/svg\" height=\"24px\" viewBox=\"0 -960 960 960\">\n",
              "    <path d=\"M120-120v-720h720v720H120Zm60-500h600v-160H180v160Zm220 220h160v-160H400v160Zm0 220h160v-160H400v160ZM180-400h160v-160H180v160Zm440 0h160v-160H620v160ZM180-180h160v-160H180v160Zm440 0h160v-160H620v160Z\"/>\n",
              "  </svg>\n",
              "    </button>\n",
              "\n",
              "  <style>\n",
              "    .colab-df-container {\n",
              "      display:flex;\n",
              "      gap: 12px;\n",
              "    }\n",
              "\n",
              "    .colab-df-convert {\n",
              "      background-color: #E8F0FE;\n",
              "      border: none;\n",
              "      border-radius: 50%;\n",
              "      cursor: pointer;\n",
              "      display: none;\n",
              "      fill: #1967D2;\n",
              "      height: 32px;\n",
              "      padding: 0 0 0 0;\n",
              "      width: 32px;\n",
              "    }\n",
              "\n",
              "    .colab-df-convert:hover {\n",
              "      background-color: #E2EBFA;\n",
              "      box-shadow: 0px 1px 2px rgba(60, 64, 67, 0.3), 0px 1px 3px 1px rgba(60, 64, 67, 0.15);\n",
              "      fill: #174EA6;\n",
              "    }\n",
              "\n",
              "    .colab-df-buttons div {\n",
              "      margin-bottom: 4px;\n",
              "    }\n",
              "\n",
              "    [theme=dark] .colab-df-convert {\n",
              "      background-color: #3B4455;\n",
              "      fill: #D2E3FC;\n",
              "    }\n",
              "\n",
              "    [theme=dark] .colab-df-convert:hover {\n",
              "      background-color: #434B5C;\n",
              "      box-shadow: 0px 1px 3px 1px rgba(0, 0, 0, 0.15);\n",
              "      filter: drop-shadow(0px 1px 2px rgba(0, 0, 0, 0.3));\n",
              "      fill: #FFFFFF;\n",
              "    }\n",
              "  </style>\n",
              "\n",
              "    <script>\n",
              "      const buttonEl =\n",
              "        document.querySelector('#df-5b2b7d32-7cde-4586-9b0a-e5ffc18bc4d3 button.colab-df-convert');\n",
              "      buttonEl.style.display =\n",
              "        google.colab.kernel.accessAllowed ? 'block' : 'none';\n",
              "\n",
              "      async function convertToInteractive(key) {\n",
              "        const element = document.querySelector('#df-5b2b7d32-7cde-4586-9b0a-e5ffc18bc4d3');\n",
              "        const dataTable =\n",
              "          await google.colab.kernel.invokeFunction('convertToInteractive',\n",
              "                                                    [key], {});\n",
              "        if (!dataTable) return;\n",
              "\n",
              "        const docLinkHtml = 'Like what you see? Visit the ' +\n",
              "          '<a target=\"_blank\" href=https://colab.research.google.com/notebooks/data_table.ipynb>data table notebook</a>'\n",
              "          + ' to learn more about interactive tables.';\n",
              "        element.innerHTML = '';\n",
              "        dataTable['output_type'] = 'display_data';\n",
              "        await google.colab.output.renderOutput(dataTable, element);\n",
              "        const docLink = document.createElement('div');\n",
              "        docLink.innerHTML = docLinkHtml;\n",
              "        element.appendChild(docLink);\n",
              "      }\n",
              "    </script>\n",
              "  </div>\n",
              "\n",
              "\n",
              "<div id=\"df-b0bf6df3-514a-415e-a098-fba493053d6a\">\n",
              "  <button class=\"colab-df-quickchart\" onclick=\"quickchart('df-b0bf6df3-514a-415e-a098-fba493053d6a')\"\n",
              "            title=\"Suggest charts\"\n",
              "            style=\"display:none;\">\n",
              "\n",
              "<svg xmlns=\"http://www.w3.org/2000/svg\" height=\"24px\"viewBox=\"0 0 24 24\"\n",
              "     width=\"24px\">\n",
              "    <g>\n",
              "        <path d=\"M19 3H5c-1.1 0-2 .9-2 2v14c0 1.1.9 2 2 2h14c1.1 0 2-.9 2-2V5c0-1.1-.9-2-2-2zM9 17H7v-7h2v7zm4 0h-2V7h2v10zm4 0h-2v-4h2v4z\"/>\n",
              "    </g>\n",
              "</svg>\n",
              "  </button>\n",
              "\n",
              "<style>\n",
              "  .colab-df-quickchart {\n",
              "      --bg-color: #E8F0FE;\n",
              "      --fill-color: #1967D2;\n",
              "      --hover-bg-color: #E2EBFA;\n",
              "      --hover-fill-color: #174EA6;\n",
              "      --disabled-fill-color: #AAA;\n",
              "      --disabled-bg-color: #DDD;\n",
              "  }\n",
              "\n",
              "  [theme=dark] .colab-df-quickchart {\n",
              "      --bg-color: #3B4455;\n",
              "      --fill-color: #D2E3FC;\n",
              "      --hover-bg-color: #434B5C;\n",
              "      --hover-fill-color: #FFFFFF;\n",
              "      --disabled-bg-color: #3B4455;\n",
              "      --disabled-fill-color: #666;\n",
              "  }\n",
              "\n",
              "  .colab-df-quickchart {\n",
              "    background-color: var(--bg-color);\n",
              "    border: none;\n",
              "    border-radius: 50%;\n",
              "    cursor: pointer;\n",
              "    display: none;\n",
              "    fill: var(--fill-color);\n",
              "    height: 32px;\n",
              "    padding: 0;\n",
              "    width: 32px;\n",
              "  }\n",
              "\n",
              "  .colab-df-quickchart:hover {\n",
              "    background-color: var(--hover-bg-color);\n",
              "    box-shadow: 0 1px 2px rgba(60, 64, 67, 0.3), 0 1px 3px 1px rgba(60, 64, 67, 0.15);\n",
              "    fill: var(--button-hover-fill-color);\n",
              "  }\n",
              "\n",
              "  .colab-df-quickchart-complete:disabled,\n",
              "  .colab-df-quickchart-complete:disabled:hover {\n",
              "    background-color: var(--disabled-bg-color);\n",
              "    fill: var(--disabled-fill-color);\n",
              "    box-shadow: none;\n",
              "  }\n",
              "\n",
              "  .colab-df-spinner {\n",
              "    border: 2px solid var(--fill-color);\n",
              "    border-color: transparent;\n",
              "    border-bottom-color: var(--fill-color);\n",
              "    animation:\n",
              "      spin 1s steps(1) infinite;\n",
              "  }\n",
              "\n",
              "  @keyframes spin {\n",
              "    0% {\n",
              "      border-color: transparent;\n",
              "      border-bottom-color: var(--fill-color);\n",
              "      border-left-color: var(--fill-color);\n",
              "    }\n",
              "    20% {\n",
              "      border-color: transparent;\n",
              "      border-left-color: var(--fill-color);\n",
              "      border-top-color: var(--fill-color);\n",
              "    }\n",
              "    30% {\n",
              "      border-color: transparent;\n",
              "      border-left-color: var(--fill-color);\n",
              "      border-top-color: var(--fill-color);\n",
              "      border-right-color: var(--fill-color);\n",
              "    }\n",
              "    40% {\n",
              "      border-color: transparent;\n",
              "      border-right-color: var(--fill-color);\n",
              "      border-top-color: var(--fill-color);\n",
              "    }\n",
              "    60% {\n",
              "      border-color: transparent;\n",
              "      border-right-color: var(--fill-color);\n",
              "    }\n",
              "    80% {\n",
              "      border-color: transparent;\n",
              "      border-right-color: var(--fill-color);\n",
              "      border-bottom-color: var(--fill-color);\n",
              "    }\n",
              "    90% {\n",
              "      border-color: transparent;\n",
              "      border-bottom-color: var(--fill-color);\n",
              "    }\n",
              "  }\n",
              "</style>\n",
              "\n",
              "  <script>\n",
              "    async function quickchart(key) {\n",
              "      const quickchartButtonEl =\n",
              "        document.querySelector('#' + key + ' button');\n",
              "      quickchartButtonEl.disabled = true;  // To prevent multiple clicks.\n",
              "      quickchartButtonEl.classList.add('colab-df-spinner');\n",
              "      try {\n",
              "        const charts = await google.colab.kernel.invokeFunction(\n",
              "            'suggestCharts', [key], {});\n",
              "      } catch (error) {\n",
              "        console.error('Error during call to suggestCharts:', error);\n",
              "      }\n",
              "      quickchartButtonEl.classList.remove('colab-df-spinner');\n",
              "      quickchartButtonEl.classList.add('colab-df-quickchart-complete');\n",
              "    }\n",
              "    (() => {\n",
              "      let quickchartButtonEl =\n",
              "        document.querySelector('#df-b0bf6df3-514a-415e-a098-fba493053d6a button');\n",
              "      quickchartButtonEl.style.display =\n",
              "        google.colab.kernel.accessAllowed ? 'block' : 'none';\n",
              "    })();\n",
              "  </script>\n",
              "</div>\n",
              "\n",
              "  <div id=\"id_25eb103b-1697-4048-8fc8-3244247e89d2\">\n",
              "    <style>\n",
              "      .colab-df-generate {\n",
              "        background-color: #E8F0FE;\n",
              "        border: none;\n",
              "        border-radius: 50%;\n",
              "        cursor: pointer;\n",
              "        display: none;\n",
              "        fill: #1967D2;\n",
              "        height: 32px;\n",
              "        padding: 0 0 0 0;\n",
              "        width: 32px;\n",
              "      }\n",
              "\n",
              "      .colab-df-generate:hover {\n",
              "        background-color: #E2EBFA;\n",
              "        box-shadow: 0px 1px 2px rgba(60, 64, 67, 0.3), 0px 1px 3px 1px rgba(60, 64, 67, 0.15);\n",
              "        fill: #174EA6;\n",
              "      }\n",
              "\n",
              "      [theme=dark] .colab-df-generate {\n",
              "        background-color: #3B4455;\n",
              "        fill: #D2E3FC;\n",
              "      }\n",
              "\n",
              "      [theme=dark] .colab-df-generate:hover {\n",
              "        background-color: #434B5C;\n",
              "        box-shadow: 0px 1px 3px 1px rgba(0, 0, 0, 0.15);\n",
              "        filter: drop-shadow(0px 1px 2px rgba(0, 0, 0, 0.3));\n",
              "        fill: #FFFFFF;\n",
              "      }\n",
              "    </style>\n",
              "    <button class=\"colab-df-generate\" onclick=\"generateWithVariable('Report')\"\n",
              "            title=\"Generate code using this dataframe.\"\n",
              "            style=\"display:none;\">\n",
              "\n",
              "  <svg xmlns=\"http://www.w3.org/2000/svg\" height=\"24px\"viewBox=\"0 0 24 24\"\n",
              "       width=\"24px\">\n",
              "    <path d=\"M7,19H8.4L18.45,9,17,7.55,7,17.6ZM5,21V16.75L18.45,3.32a2,2,0,0,1,2.83,0l1.4,1.43a1.91,1.91,0,0,1,.58,1.4,1.91,1.91,0,0,1-.58,1.4L9.25,21ZM18.45,9,17,7.55Zm-12,3A5.31,5.31,0,0,0,4.9,8.1,5.31,5.31,0,0,0,1,6.5,5.31,5.31,0,0,0,4.9,4.9,5.31,5.31,0,0,0,6.5,1,5.31,5.31,0,0,0,8.1,4.9,5.31,5.31,0,0,0,12,6.5,5.46,5.46,0,0,0,6.5,12Z\"/>\n",
              "  </svg>\n",
              "    </button>\n",
              "    <script>\n",
              "      (() => {\n",
              "      const buttonEl =\n",
              "        document.querySelector('#id_25eb103b-1697-4048-8fc8-3244247e89d2 button.colab-df-generate');\n",
              "      buttonEl.style.display =\n",
              "        google.colab.kernel.accessAllowed ? 'block' : 'none';\n",
              "\n",
              "      buttonEl.onclick = () => {\n",
              "        google.colab.notebook.generateWithVariable('Report');\n",
              "      }\n",
              "      })();\n",
              "    </script>\n",
              "  </div>\n",
              "\n",
              "    </div>\n",
              "  </div>\n"
            ],
            "application/vnd.google.colaboratory.intrinsic+json": {
              "type": "dataframe",
              "variable_name": "Report",
              "summary": "{\n  \"name\": \"Report\",\n  \"rows\": 4,\n  \"fields\": [\n    {\n      \"column\": \"Model\",\n      \"properties\": {\n        \"dtype\": \"string\",\n        \"num_unique_values\": 4,\n        \"samples\": [\n          \"DT\",\n          \"SVM\",\n          \"KNN\"\n        ],\n        \"semantic_type\": \"\",\n        \"description\": \"\"\n      }\n    },\n    {\n      \"column\": \"Accuracy Score\",\n      \"properties\": {\n        \"dtype\": \"number\",\n        \"std\": 0.05299274365162783,\n        \"min\": 0.725050916496945,\n        \"max\": 0.845213849287169,\n        \"num_unique_values\": 3,\n        \"samples\": [\n          0.8198473282442749,\n          0.845213849287169,\n          0.725050916496945\n        ],\n        \"semantic_type\": \"\",\n        \"description\": \"\"\n      }\n    },\n    {\n      \"column\": \"Jaccard Index\",\n      \"properties\": {\n        \"dtype\": \"number\",\n        \"std\": 0.2417426122399709,\n        \"min\": 0.0,\n        \"max\": 0.525,\n        \"num_unique_values\": 4,\n        \"samples\": [\n          0.4732142857142857,\n          0.0,\n          0.4354066985645933\n        ],\n        \"semantic_type\": \"\",\n        \"description\": \"\"\n      }\n    },\n    {\n      \"column\": \"F1 Score\",\n      \"properties\": {\n        \"dtype\": \"number\",\n        \"std\": 0.3246695793269782,\n        \"min\": 0.0,\n        \"max\": 0.6885245901639344,\n        \"num_unique_values\": 4,\n        \"samples\": [\n          0.6424242424242426,\n          0.0,\n          0.6066666666666667\n        ],\n        \"semantic_type\": \"\",\n        \"description\": \"\"\n      }\n    },\n    {\n      \"column\": \"Log Loss\",\n      \"properties\": {\n        \"dtype\": \"number\",\n        \"std\": null,\n        \"min\": 0.3628462022427021,\n        \"max\": 0.3628462022427021,\n        \"num_unique_values\": 1,\n        \"samples\": [\n          0.3628462022427021\n        ],\n        \"semantic_type\": \"\",\n        \"description\": \"\"\n      }\n    }\n  ]\n}"
            }
          },
          "metadata": {},
          "execution_count": 270
        }
      ]
    },
    {
      "cell_type": "code",
      "source": [
        "#mpl.style.use(['ggplot'])\n",
        "\n",
        "fig = plt.figure()\n",
        "\n",
        "#Creating the different axes for the subplots\n",
        "ax0 = fig.add_subplot(2, 2, 1)\n",
        "#ax1 = fig.add_subplot(2,2, 2)\n",
        "#ax2 = fig.add_subplot(2, 2, 3)\n",
        "#ax3 = fig.add_subplot(2, 2, 4)\n",
        "\n",
        "#accuracy score line plot\n",
        "Report.plot(kind=\"line\", ax=ax0, figsize=(20, 10))\n",
        "ax0.set_title(\"Evaluation metrics for the different classification models\")\n",
        "ax0.set_ylabel(\"Score\")"
      ],
      "metadata": {
        "colab": {
          "base_uri": "https://localhost:8080/",
          "height": 474
        },
        "id": "Ac4_I7zW_t9h",
        "outputId": "2b0c7a9a-b49e-455d-b97c-f4bd029c1d18"
      },
      "execution_count": null,
      "outputs": [
        {
          "output_type": "execute_result",
          "data": {
            "text/plain": [
              "Text(0, 0.5, 'Score')"
            ]
          },
          "metadata": {},
          "execution_count": 271
        },
        {
          "output_type": "display_data",
          "data": {
            "text/plain": [
              "<Figure size 2000x1000 with 1 Axes>"
            ],
            "image/png": "[encoded data removed]"
          },
          "metadata": {}
        }
      ]
    },
    {
      "cell_type": "markdown",
      "source": [
        "As shown in the image above, the Logistic Regression model exhibits the best accuracy score, jaccard index, and f1 score. This indicates that it would provide the best rain prediction performance."
      ],
      "metadata": {
        "id": "bGVxbyg0F4a9"
      }
    },
    {
      "cell_type": "markdown",
      "source": [
        "<h2 id=\"conclusions\">\n",
        "  Conclusions\n",
        "</h2>"
      ],
      "metadata": {
        "id": "4xlea_pyvXXy"
      }
    },
    {
      "cell_type": "markdown",
      "source": [
        "- The logistic model exhibits the best accuracy for predicting rainfall in Australia on any given day.\n",
        "- The prediction accuracy is approximately 84%, which is a good percentage.\n",
        "- Businesses and individuals can plan their activities based on the predictions provided by the model in this study."
      ],
      "metadata": {
        "id": "Ds5XhU8aqMrb"
      }
    },
    {
      "cell_type": "markdown",
      "source": [
        "<h3>Author: <a href=\"mailto:mnnamchi@gmail.com\">Martins Nnamchi</a></h3>"
      ],
      "metadata": {
        "id": "PxtBm6ZivYDV"
      }
    }
  ]
}